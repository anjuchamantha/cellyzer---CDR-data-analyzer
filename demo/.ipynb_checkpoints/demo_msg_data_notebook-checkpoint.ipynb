{
 "cells": [
  {
   "cell_type": "code",
   "execution_count": 1,
   "metadata": {},
   "outputs": [
    {
     "name": "stdout",
     "output_type": "stream",
     "text": [
      "Requirement already satisfied: xlrd in c:\\users\\wageeshabangamuarach\\appdata\\local\\programs\\python\\python37\\lib\\site-packages (1.2.0)\n"
     ]
    },
    {
     "name": "stderr",
     "output_type": "stream",
     "text": [
      "You are using pip version 10.0.1, however version 20.1b1 is available.\n",
      "You should consider upgrading via the 'python -m pip install --upgrade pip' command.\n",
      "You are using pip version 10.0.1, however version 20.1b1 is available.\n",
      "You should consider upgrading via the 'python -m pip install --upgrade pip' command.\n"
     ]
    },
    {
     "name": "stdout",
     "output_type": "stream",
     "text": [
      "Requirement already satisfied: numpy in c:\\users\\wageeshabangamuarach\\appdata\\local\\programs\\python\\python37\\lib\\site-packages (1.18.2)\n",
      "Requirement already satisfied: tabulate in c:\\users\\wageeshabangamuarach\\appdata\\local\\programs\\python\\python37\\lib\\site-packages (0.8.7)\n"
     ]
    },
    {
     "name": "stderr",
     "output_type": "stream",
     "text": [
      "You are using pip version 10.0.1, however version 20.1b1 is available.\n",
      "You should consider upgrading via the 'python -m pip install --upgrade pip' command.\n"
     ]
    },
    {
     "name": "stdout",
     "output_type": "stream",
     "text": [
      "Requirement already satisfied: datetime in c:\\users\\wageeshabangamuarach\\appdata\\local\\programs\\python\\python37\\lib\\site-packages (4.3)\n",
      "Requirement already satisfied: zope.interface in c:\\users\\wageeshabangamuarach\\appdata\\local\\programs\\python\\python37\\lib\\site-packages (from datetime) (5.1.0)\n",
      "Requirement already satisfied: pytz in c:\\users\\wageeshabangamuarach\\appdata\\local\\programs\\python\\python37\\lib\\site-packages (from datetime) (2019.3)\n",
      "Requirement already satisfied: setuptools in c:\\users\\wageeshabangamuarach\\appdata\\local\\programs\\python\\python37\\lib\\site-packages (from zope.interface->datetime) (39.0.1)\n"
     ]
    },
    {
     "name": "stderr",
     "output_type": "stream",
     "text": [
      "You are using pip version 10.0.1, however version 20.1b1 is available.\n",
      "You should consider upgrading via the 'python -m pip install --upgrade pip' command.\n"
     ]
    },
    {
     "name": "stdout",
     "output_type": "stream",
     "text": [
      "Requirement already satisfied: networkx in c:\\users\\wageeshabangamuarach\\appdata\\local\\programs\\python\\python37\\lib\\site-packages (2.4)\n",
      "Requirement already satisfied: decorator>=4.3.0 in c:\\users\\wageeshabangamuarach\\appdata\\local\\programs\\python\\python37\\lib\\site-packages (from networkx) (4.4.2)\n"
     ]
    },
    {
     "name": "stderr",
     "output_type": "stream",
     "text": [
      "You are using pip version 10.0.1, however version 20.1b1 is available.\n",
      "You should consider upgrading via the 'python -m pip install --upgrade pip' command.\n"
     ]
    },
    {
     "name": "stdout",
     "output_type": "stream",
     "text": [
      "Requirement already satisfied: matplotlib in c:\\users\\wageeshabangamuarach\\appdata\\local\\programs\\python\\python37\\lib\\site-packages (3.2.1)\n",
      "Requirement already satisfied: numpy>=1.11 in c:\\users\\wageeshabangamuarach\\appdata\\local\\programs\\python\\python37\\lib\\site-packages (from matplotlib) (1.18.2)\n",
      "Requirement already satisfied: python-dateutil>=2.1 in c:\\users\\wageeshabangamuarach\\appdata\\local\\programs\\python\\python37\\lib\\site-packages (from matplotlib) (2.8.1)\n",
      "Requirement already satisfied: kiwisolver>=1.0.1 in c:\\users\\wageeshabangamuarach\\appdata\\local\\programs\\python\\python37\\lib\\site-packages (from matplotlib) (1.1.0)\n",
      "Requirement already satisfied: cycler>=0.10 in c:\\users\\wageeshabangamuarach\\appdata\\local\\programs\\python\\python37\\lib\\site-packages (from matplotlib) (0.10.0)\n",
      "Requirement already satisfied: pyparsing!=2.0.4,!=2.1.2,!=2.1.6,>=2.0.1 in c:\\users\\wageeshabangamuarach\\appdata\\local\\programs\\python\\python37\\lib\\site-packages (from matplotlib) (2.4.6)\n",
      "Requirement already satisfied: six>=1.5 in c:\\users\\wageeshabangamuarach\\appdata\\local\\programs\\python\\python37\\lib\\site-packages (from python-dateutil>=2.1->matplotlib) (1.14.0)\n",
      "Requirement already satisfied: setuptools in c:\\users\\wageeshabangamuarach\\appdata\\local\\programs\\python\\python37\\lib\\site-packages (from kiwisolver>=1.0.1->matplotlib) (39.0.1)\n"
     ]
    },
    {
     "name": "stderr",
     "output_type": "stream",
     "text": [
      "You are using pip version 10.0.1, however version 20.1b1 is available.\n",
      "You should consider upgrading via the 'python -m pip install --upgrade pip' command.\n",
      "You are using pip version 10.0.1, however version 20.1b1 is available.\n",
      "You should consider upgrading via the 'python -m pip install --upgrade pip' command.\n"
     ]
    },
    {
     "name": "stdout",
     "output_type": "stream",
     "text": [
      "Requirement already satisfied: folium in c:\\users\\wageeshabangamuarach\\appdata\\local\\programs\\python\\python37\\lib\\site-packages (0.10.1)\n",
      "Requirement already satisfied: numpy in c:\\users\\wageeshabangamuarach\\appdata\\local\\programs\\python\\python37\\lib\\site-packages (from folium) (1.18.2)\n",
      "Requirement already satisfied: requests in c:\\users\\wageeshabangamuarach\\appdata\\local\\programs\\python\\python37\\lib\\site-packages (from folium) (2.23.0)\n",
      "Requirement already satisfied: jinja2>=2.9 in c:\\users\\wageeshabangamuarach\\appdata\\local\\programs\\python\\python37\\lib\\site-packages (from folium) (2.11.1)\n",
      "Requirement already satisfied: branca>=0.3.0 in c:\\users\\wageeshabangamuarach\\appdata\\local\\programs\\python\\python37\\lib\\site-packages (from folium) (0.4.0)\n",
      "Requirement already satisfied: chardet<4,>=3.0.2 in c:\\users\\wageeshabangamuarach\\appdata\\local\\programs\\python\\python37\\lib\\site-packages (from requests->folium) (3.0.4)\n",
      "Requirement already satisfied: urllib3!=1.25.0,!=1.25.1,<1.26,>=1.21.1 in c:\\users\\wageeshabangamuarach\\appdata\\local\\programs\\python\\python37\\lib\\site-packages (from requests->folium) (1.25.8)\n",
      "Requirement already satisfied: idna<3,>=2.5 in c:\\users\\wageeshabangamuarach\\appdata\\local\\programs\\python\\python37\\lib\\site-packages (from requests->folium) (2.9)\n",
      "Requirement already satisfied: certifi>=2017.4.17 in c:\\users\\wageeshabangamuarach\\appdata\\local\\programs\\python\\python37\\lib\\site-packages (from requests->folium) (2020.4.5.1)\n",
      "Requirement already satisfied: MarkupSafe>=0.23 in c:\\users\\wageeshabangamuarach\\appdata\\local\\programs\\python\\python37\\lib\\site-packages (from jinja2>=2.9->folium) (1.1.1)\n",
      "Requirement already satisfied: six in c:\\users\\wageeshabangamuarach\\appdata\\local\\programs\\python\\python37\\lib\\site-packages (from branca>=0.3.0->folium) (1.14.0)\n"
     ]
    }
   ],
   "source": [
    "!pip install xlrd\n",
    "!pip install numpy\n",
    "!pip install tabulate\n",
    "!pip install datetime \n",
    "!pip install networkx\n",
    "!pip install matplotlib\n",
    "!pip install folium"
   ]
  },
  {
   "cell_type": "markdown",
   "metadata": {},
   "source": [
    "# import Cellyzer"
   ]
  },
  {
   "cell_type": "code",
   "execution_count": 2,
   "metadata": {},
   "outputs": [],
   "source": [
    "import sys\n",
    "import os\n",
    "\n",
    "module_path = os.path.abspath(os.path.join('..'))\n",
    "if module_path not in sys.path:\n",
    "    sys.path.append(module_path)\n",
    "\n",
    "import cellyzer as cz"
   ]
  },
  {
   "cell_type": "markdown",
   "metadata": {},
   "source": [
    "# read message data csv file"
   ]
  },
  {
   "cell_type": "code",
   "execution_count": 3,
   "metadata": {},
   "outputs": [
    {
     "name": "stdout",
     "output_type": "stream",
     "text": [
      "[x]  Reading Message Data...\n",
      "[x]  Objects creation successful\n",
      "\n"
     ]
    },
    {
     "name": "stderr",
     "output_type": "stream",
     "text": [
      "\u001b[33mWarning: 2 record(s) were removed due to missing or incomplete fields.\n",
      "         direction: 2 record(s) with incomplete values\n",
      "         length: 2 record(s) with incomplete values\n",
      "         timestamp: 2 record(s) with incomplete values\n",
      "\u001b[0m"
     ]
    }
   ],
   "source": [
    "msg_file_path = \"dataset/my_test_data/messages.csv\"\n",
    "messageDataSet = cz.read_msg(msg_file_path)"
   ]
  },
  {
   "cell_type": "markdown",
   "metadata": {},
   "source": [
    "# print data set"
   ]
  },
  {
   "cell_type": "code",
   "execution_count": 4,
   "metadata": {
    "scrolled": true
   },
   "outputs": [
    {
     "name": "stdout",
     "output_type": "stream",
     "text": [
      "\n",
      " >>> Message Dataset :\n",
      "+----+------------+-------------+------------+---------+--------------------------------+\n",
      "|    |   _user    | _other_user | _direction | _length |           _timestamp           |\n",
      "+----+------------+-------------+------------+---------+--------------------------------+\n",
      "| 1  | 8d27cf2694 | 78c4ca6671  |  Incoming  |   28    | Wed Sep 15 19:01:54 +0100 2010 |\n",
      "| 2  | 329233d117 | 0041628436  |  Incoming  |    7    | Mon Feb 11 07:08:49 +0000 1980 |\n",
      "| 3  | 329233d117 | 0041628436  |  Outgoing  |    6    | Mon Feb 11 07:14:05 +0000 1980 |\n",
      "| 4  | 329233d117 | bac412f897  |  Outgoing  |   41    | Thu Sep 09 21:43:44 +0100 2010 |\n",
      "| 5  | bac412f897 | 322692e582  |  Outgoing  |   75    | Mon Jan 07 22:58:28 +0000 1980 |\n",
      "| 6  | bac412f897 | 322692e582  |  Incoming  |   33    | Thu Sep 09 18:53:25 +0100 2010 |\n",
      "| 7  | bac412f897 | 322692e582  |  Outgoing  |   90    | Thu Sep 09 18:59:35 +0100 2010 |\n",
      "| 8  | bac412f897 | 322692e582  |  Incoming  |   30    | Thu Sep 09 19:06:06 +0100 2010 |\n",
      "| 9  | bac412f897 | 322692e582  |  Outgoing  |   112   | Thu Sep 09 19:22:28 +0100 2010 |\n",
      "| 10 | bac412f897 | 322692e582  |  Incoming  |   89    | Thu Sep 09 19:24:50 +0100 2010 |\n",
      "| 11 | bac412f897 | 322692e582  |  Outgoing  |   28    | Thu Sep 09 19:26:17 +0100 2010 |\n",
      "| 12 | bac412f897 | 322692e582  |  Incoming  |   19    | Thu Sep 09 19:34:16 +0100 2010 |\n",
      "| 13 | bac412f897 | 322692e582  |  Incoming  |    2    | Thu Sep 09 19:35:07 +0100 2010 |\n",
      "| 14 | bac412f897 | 322692e582  |  Outgoing  |   43    | Thu Sep 09 19:35:45 +0100 2010 |\n",
      "| 15 | bac412f897 | 0041628436  |  Incoming  |   19    | Thu Sep 09 21:31:23 +0100 2010 |\n",
      "| 16 | bac412f897 | 0041628436  |  Outgoing  |   20    | Thu Sep 09 21:32:11 +0100 2010 |\n",
      "| 17 | bac412f897 | 0041628436  |  Incoming  |   34    | Thu Sep 09 21:33:45 +0100 2010 |\n",
      "| 18 | bac412f897 | 0041628436  |  Outgoing  |    2    | Thu Sep 09 21:34:14 +0100 2010 |\n",
      "| 19 | bac412f897 | 329233d117  |  Incoming  |   41    | Thu Sep 09 21:42:55 +0100 2010 |\n",
      "| 20 | bac412f897 | 322692e582  |  Outgoing  |   23    | Fri Sep 10 06:36:57 +0100 2010 |\n",
      "| 21 | bac412f897 | 322692e582  |  Incoming  |   13    | Fri Sep 10 06:38:38 +0100 2010 |\n",
      "| 22 | bac412f897 | 322692e582  |  Outgoing  |   11    | Fri Sep 10 06:39:10 +0100 2010 |\n",
      "| 23 | bac412f897 | 322692e582  |  Incoming  |   15    | Fri Sep 10 06:40:56 +0100 2010 |\n",
      "| 24 | bac412f897 | e1ba3ba266  |  Incoming  |   150   | Fri Sep 10 12:23:21 +0100 2010 |\n",
      "| 25 | bac412f897 | ae578bf678  |  Incoming  |   45    | Fri Sep 10 16:07:38 +0100 2010 |\n",
      "| 26 | bac412f897 | 30b785e895  |  Incoming  |   70    | Fri Sep 10 16:33:49 +0100 2010 |\n",
      "| 27 | bac412f897 | 30b785e895  |  Outgoing  |   58    | Fri Sep 10 16:36:07 +0100 2010 |\n",
      "| 28 | bac412f897 | 30b785e895  |  Incoming  |    9    | Fri Sep 10 16:36:41 +0100 2010 |\n",
      "| 29 | bac412f897 | 322692e582  |  Outgoing  |   14    | Fri Sep 10 16:40:16 +0100 2010 |\n",
      "| 30 | bac412f897 | 329233d117  |  Incoming  |   20    | Fri Sep 10 16:47:21 +0100 2010 |\n",
      "| 31 | bac412f897 | 329233d117  |  Outgoing  |    4    | Fri Sep 10 16:47:45 +0100 2010 |\n",
      "| 32 | bac412f897 | 322692e582  |  Incoming  |   100   | Fri Sep 10 16:47:59 +0100 2010 |\n",
      "| 33 | bac412f897 | 322692e582  |  Outgoing  |   49    | Fri Sep 10 16:49:06 +0100 2010 |\n",
      "| 34 | bac412f897 | 322692e582  |  Incoming  |   159   | Fri Sep 10 16:52:51 +0100 2010 |\n",
      "| 35 | bac412f897 | 322692e582  |  Outgoing  |   86    | Fri Sep 10 16:55:14 +0100 2010 |\n",
      "| 36 | bac412f897 | 322692e582  |  Incoming  |   57    | Fri Sep 10 16:56:42 +0100 2010 |\n",
      "| 37 | bac412f897 | 322692e582  |  Outgoing  |   59    | Fri Sep 10 16:59:18 +0100 2010 |\n",
      "| 38 | bac412f897 | 322692e582  |  Incoming  |   52    | Fri Sep 10 17:00:37 +0100 2010 |\n",
      "| 39 | bac412f897 | 322692e582  |  Outgoing  |   99    | Fri Sep 10 17:02:45 +0100 2010 |\n",
      "| 40 | bac412f897 | 322692e582  |  Incoming  |   82    | Fri Sep 10 17:08:34 +0100 2010 |\n",
      "| 41 | bac412f897 | 322692e582  |  Outgoing  |   71    | Fri Sep 10 17:10:43 +0100 2010 |\n",
      "| 42 | bac412f897 | 322692e582  |  Incoming  |   31    | Fri Sep 10 17:29:15 +0100 2010 |\n",
      "| 43 | bac412f897 | 322692e582  |  Outgoing  |   126   | Fri Sep 10 17:31:56 +0100 2010 |\n",
      "| 44 | bac412f897 | 322692e582  |  Incoming  |   36    | Fri Sep 10 17:38:26 +0100 2010 |\n",
      "| 45 | bac412f897 | 322692e582  |  Outgoing  |   159   | Fri Sep 10 17:41:33 +0100 2010 |\n",
      "| 46 | bac412f897 | 322692e582  |  Incoming  |   40    | Fri Sep 10 17:43:14 +0100 2010 |\n",
      "| 47 | bac412f897 | 322692e582  |  Outgoing  |   74    | Fri Sep 10 17:47:08 +0100 2010 |\n",
      "| 48 | bac412f897 | 322692e582  |  Incoming  |   29    | Fri Sep 10 17:48:28 +0100 2010 |\n",
      "| 49 | bac412f897 | 322692e582  |  Outgoing  |   149   | Fri Sep 10 17:54:40 +0100 2010 |\n",
      "+----+------------+-------------+------------+---------+--------------------------------+\n"
     ]
    }
   ],
   "source": [
    "cz.utils.print_dataset(messageDataSet, name=\"Message Dataset\")"
   ]
  },
  {
   "cell_type": "markdown",
   "metadata": {},
   "source": [
    "# get all users"
   ]
  },
  {
   "cell_type": "code",
   "execution_count": 5,
   "metadata": {},
   "outputs": [
    {
     "name": "stdout",
     "output_type": "stream",
     "text": [
      "All Users : ['8d27cf2694', '78c4ca6671', '329233d117', '0041628436', 'bac412f897', '322692e582', 'e1ba3ba266', 'ae578bf678', '30b785e895'] \n",
      "\n"
     ]
    }
   ],
   "source": [
    "all_users = messageDataSet.get_all_users()\n",
    "print(\"All Users : %s \\n\" % all_users)"
   ]
  },
  {
   "cell_type": "code",
   "execution_count": 6,
   "metadata": {},
   "outputs": [],
   "source": [
    "search_user1 = \"0041628436\"\n",
    "search_user2 = \"329233d117\""
   ]
  },
  {
   "cell_type": "markdown",
   "metadata": {},
   "source": [
    "# get all connected users of a specific user"
   ]
  },
  {
   "cell_type": "code",
   "execution_count": 7,
   "metadata": {},
   "outputs": [
    {
     "name": "stdout",
     "output_type": "stream",
     "text": [
      "Users connected to 0041628436 : ['329233d117', 'bac412f897'] \n",
      "\n"
     ]
    }
   ],
   "source": [
    "connected_users = messageDataSet.get_connected_users(search_user1)\n",
    "print(\"Users connected to %s : %s \\n\" % (search_user1, connected_users))"
   ]
  },
  {
   "cell_type": "markdown",
   "metadata": {},
   "source": [
    "# get records between two selected users"
   ]
  },
  {
   "cell_type": "code",
   "execution_count": 8,
   "metadata": {},
   "outputs": [
    {
     "name": "stdout",
     "output_type": "stream",
     "text": [
      "{'_user': '329233d117', '_other_user': '0041628436', '_direction': 'Incoming', '_length': '7', '_timestamp': 'Mon Feb 11 07:08:49 +0000 1980'}\n",
      "{'_user': '329233d117', '_other_user': '0041628436', '_direction': 'Outgoing', '_length': '6', '_timestamp': 'Mon Feb 11 07:14:05 +0000 1980'}\n"
     ]
    }
   ],
   "source": [
    "user_record_list = messageDataSet.get_records(search_user1, search_user2)\n",
    "cz.utils.print_record_lists(user_record_list)"
   ]
  },
  {
   "cell_type": "code",
   "execution_count": 9,
   "metadata": {},
   "outputs": [
    {
     "name": "stdout",
     "output_type": "stream",
     "text": [
      "\n",
      " >>> User Records of 0041628436 & 329233d117 :\n",
      "+---+------------+-------------+------------+---------+--------------------------------+\n",
      "|   |   _user    | _other_user | _direction | _length |           _timestamp           |\n",
      "+---+------------+-------------+------------+---------+--------------------------------+\n",
      "| 1 | 329233d117 | 0041628436  |  Incoming  |    7    | Mon Feb 11 07:08:49 +0000 1980 |\n",
      "| 2 | 329233d117 | 0041628436  |  Outgoing  |    6    | Mon Feb 11 07:14:05 +0000 1980 |\n",
      "+---+------------+-------------+------------+---------+--------------------------------+\n"
     ]
    }
   ],
   "source": [
    "user_message_dataset = cz.MessageDataSet(user_record_list)\n",
    "cz.utils.print_dataset(user_message_dataset, name=\"User Records of %s\" % search_user1 + \" & \" + search_user2)\n"
   ]
  },
  {
   "cell_type": "markdown",
   "metadata": {},
   "source": [
    "# visualize connections between all users"
   ]
  },
  {
   "cell_type": "code",
   "execution_count": 10,
   "metadata": {},
   "outputs": [
    {
     "name": "stdout",
     "output_type": "stream",
     "text": [
      "+------------+------------+------------+------------+------------+------------+------------+------------+------------+------------+\n",
      "|            | 8d27cf2694 | 78c4ca6671 | 329233d117 | 0041628436 | bac412f897 | 322692e582 | e1ba3ba266 | ae578bf678 | 30b785e895 |\n",
      "+------------+------------+------------+------------+------------+------------+------------+------------+------------+------------+\n",
      "| 8d27cf2694 |     .      |     1      |     .      |     .      |     .      |     .      |     .      |     .      |     .      |\n",
      "| 78c4ca6671 |     1      |     .      |     .      |     .      |     .      |     .      |     .      |     .      |     .      |\n",
      "| 329233d117 |     .      |     .      |     .      |     2      |     4      |     .      |     .      |     .      |     .      |\n",
      "| 0041628436 |     .      |     .      |     2      |     .      |     4      |     .      |     .      |     .      |     .      |\n",
      "| bac412f897 |     .      |     .      |     4      |     4      |     .      |     33     |     1      |     1      |     3      |\n",
      "| 322692e582 |     .      |     .      |     .      |     .      |     33     |     .      |     .      |     .      |     .      |\n",
      "| e1ba3ba266 |     .      |     .      |     .      |     .      |     1      |     .      |     .      |     .      |     .      |\n",
      "| ae578bf678 |     .      |     .      |     .      |     .      |     1      |     .      |     .      |     .      |     .      |\n",
      "| 30b785e895 |     .      |     .      |     .      |     .      |     3      |     .      |     .      |     .      |     .      |\n",
      "+------------+------------+------------+------------+------------+------------+------------+------------+------------+------------+\n"
     ]
    },
    {
     "data": {
      "text/plain": [
       "([['8d27cf2694', '.', 1, '.', '.', '.', '.', '.', '.', '.'],\n",
       "  ['78c4ca6671', 1, '.', '.', '.', '.', '.', '.', '.', '.'],\n",
       "  ['329233d117', '.', '.', '.', 2, 4, '.', '.', '.', '.'],\n",
       "  ['0041628436', '.', '.', 2, '.', 4, '.', '.', '.', '.'],\n",
       "  ['bac412f897', '.', '.', 4, 4, '.', 33, 1, 1, 3],\n",
       "  ['322692e582', '.', '.', '.', '.', 33, '.', '.', '.', '.'],\n",
       "  ['e1ba3ba266', '.', '.', '.', '.', 1, '.', '.', '.', '.'],\n",
       "  ['ae578bf678', '.', '.', '.', '.', 1, '.', '.', '.', '.'],\n",
       "  ['30b785e895', '.', '.', '.', '.', 3, '.', '.', '.', '.']],\n",
       " ['',\n",
       "  '8d27cf2694',\n",
       "  '78c4ca6671',\n",
       "  '329233d117',\n",
       "  '0041628436',\n",
       "  'bac412f897',\n",
       "  '322692e582',\n",
       "  'e1ba3ba266',\n",
       "  'ae578bf678',\n",
       "  '30b785e895'])"
      ]
     },
     "execution_count": 10,
     "metadata": {},
     "output_type": "execute_result"
    }
   ],
   "source": [
    "messageDataSet.print_connection_matrix()"
   ]
  },
  {
   "cell_type": "code",
   "execution_count": null,
   "metadata": {},
   "outputs": [],
   "source": [
    "messageDataSet.visualize_connection_network()"
   ]
  },
  {
   "cell_type": "code",
   "execution_count": null,
   "metadata": {},
   "outputs": [],
   "source": []
  }
 ],
 "metadata": {
  "kernelspec": {
   "display_name": "Python 3",
   "language": "python",
   "name": "python3"
  },
  "language_info": {
   "codemirror_mode": {
    "name": "ipython",
    "version": 3
   },
   "file_extension": ".py",
   "mimetype": "text/x-python",
   "name": "python",
   "nbconvert_exporter": "python",
   "pygments_lexer": "ipython3",
   "version": "3.7.0"
  }
 },
 "nbformat": 4,
 "nbformat_minor": 4
}
