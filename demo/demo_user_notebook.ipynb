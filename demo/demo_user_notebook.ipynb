{
 "cells": [
  {
   "cell_type": "markdown",
   "metadata": {},
   "source": [
    "# import Cellyzer"
   ]
  },
  {
   "cell_type": "code",
   "execution_count": 2,
   "metadata": {},
   "outputs": [
    {
     "name": "stdout",
     "output_type": "stream",
     "text": [
      "Requirement already satisfied: cellyzer==1.1.2 in c:\\users\\wageeshabangamuarach\\appdata\\local\\programs\\python\\python37\\lib\\site-packages (1.1.2)\n",
      "Requirement already satisfied: xlrd==1.2.0 in c:\\users\\wageeshabangamuarach\\appdata\\local\\programs\\python\\python37\\lib\\site-packages (from cellyzer==1.1.2) (1.2.0)\n",
      "Requirement already satisfied: networkx==2.4 in c:\\users\\wageeshabangamuarach\\appdata\\local\\programs\\python\\python37\\lib\\site-packages (from cellyzer==1.1.2) (2.4)\n",
      "Requirement already satisfied: IPython in c:\\users\\wageeshabangamuarach\\appdata\\local\\programs\\python\\python37\\lib\\site-packages (from cellyzer==1.1.2) (7.13.0)\n",
      "Requirement already satisfied: folium==0.10.1 in c:\\users\\wageeshabangamuarach\\appdata\\local\\programs\\python\\python37\\lib\\site-packages (from cellyzer==1.1.2) (0.10.1)\n",
      "Requirement already satisfied: numpy==1.18.2 in c:\\users\\wageeshabangamuarach\\appdata\\local\\programs\\python\\python37\\lib\\site-packages (from cellyzer==1.1.2) (1.18.2)\n",
      "Requirement already satisfied: datetime==4.3 in c:\\users\\wageeshabangamuarach\\appdata\\local\\programs\\python\\python37\\lib\\site-packages (from cellyzer==1.1.2) (4.3)\n",
      "Requirement already satisfied: matplotlib==3.2.1 in c:\\users\\wageeshabangamuarach\\appdata\\local\\programs\\python\\python37\\lib\\site-packages (from cellyzer==1.1.2) (3.2.1)\n",
      "Requirement already satisfied: tabulate==0.8.7 in c:\\users\\wageeshabangamuarach\\appdata\\local\\programs\\python\\python37\\lib\\site-packages (from cellyzer==1.1.2) (0.8.7)\n",
      "Requirement already satisfied: decorator>=4.3.0 in c:\\users\\wageeshabangamuarach\\appdata\\local\\programs\\python\\python37\\lib\\site-packages (from networkx==2.4->cellyzer==1.1.2) (4.4.2)\n",
      "Requirement already satisfied: setuptools>=18.5 in c:\\users\\wageeshabangamuarach\\appdata\\local\\programs\\python\\python37\\lib\\site-packages (from IPython->cellyzer==1.1.2) (39.0.1)\n",
      "Requirement already satisfied: traitlets>=4.2 in c:\\users\\wageeshabangamuarach\\appdata\\local\\programs\\python\\python37\\lib\\site-packages (from IPython->cellyzer==1.1.2) (4.3.3)\n",
      "Requirement already satisfied: jedi>=0.10 in c:\\users\\wageeshabangamuarach\\appdata\\local\\programs\\python\\python37\\lib\\site-packages (from IPython->cellyzer==1.1.2) (0.16.0)\n",
      "Requirement already satisfied: backcall in c:\\users\\wageeshabangamuarach\\appdata\\local\\programs\\python\\python37\\lib\\site-packages (from IPython->cellyzer==1.1.2) (0.1.0)\n",
      "Requirement already satisfied: prompt-toolkit!=3.0.0,!=3.0.1,<3.1.0,>=2.0.0 in c:\\users\\wageeshabangamuarach\\appdata\\local\\programs\\python\\python37\\lib\\site-packages (from IPython->cellyzer==1.1.2) (3.0.5)\n",
      "Requirement already satisfied: pygments in c:\\users\\wageeshabangamuarach\\appdata\\local\\programs\\python\\python37\\lib\\site-packages (from IPython->cellyzer==1.1.2) (2.6.1)\n",
      "Requirement already satisfied: colorama; sys_platform == \"win32\" in c:\\users\\wageeshabangamuarach\\appdata\\local\\programs\\python\\python37\\lib\\site-packages (from IPython->cellyzer==1.1.2) (0.4.3)\n",
      "Requirement already satisfied: pickleshare in c:\\users\\wageeshabangamuarach\\appdata\\local\\programs\\python\\python37\\lib\\site-packages (from IPython->cellyzer==1.1.2) (0.7.5)\n",
      "Requirement already satisfied: jinja2>=2.9 in c:\\users\\wageeshabangamuarach\\appdata\\local\\programs\\python\\python37\\lib\\site-packages (from folium==0.10.1->cellyzer==1.1.2) (2.11.1)\n",
      "Requirement already satisfied: branca>=0.3.0 in c:\\users\\wageeshabangamuarach\\appdata\\local\\programs\\python\\python37\\lib\\site-packages (from folium==0.10.1->cellyzer==1.1.2) (0.4.0)\n",
      "Requirement already satisfied: requests in c:\\users\\wageeshabangamuarach\\appdata\\local\\programs\\python\\python37\\lib\\site-packages (from folium==0.10.1->cellyzer==1.1.2) (2.23.0)\n",
      "Requirement already satisfied: zope.interface in c:\\users\\wageeshabangamuarach\\appdata\\local\\programs\\python\\python37\\lib\\site-packages (from datetime==4.3->cellyzer==1.1.2) (5.1.0)\n",
      "Requirement already satisfied: pytz in c:\\users\\wageeshabangamuarach\\appdata\\local\\programs\\python\\python37\\lib\\site-packages (from datetime==4.3->cellyzer==1.1.2) (2019.3)\n",
      "Requirement already satisfied: kiwisolver>=1.0.1 in c:\\users\\wageeshabangamuarach\\appdata\\local\\programs\\python\\python37\\lib\\site-packages (from matplotlib==3.2.1->cellyzer==1.1.2) (1.1.0)\n",
      "Requirement already satisfied: python-dateutil>=2.1 in c:\\users\\wageeshabangamuarach\\appdata\\local\\programs\\python\\python37\\lib\\site-packages (from matplotlib==3.2.1->cellyzer==1.1.2) (2.8.1)\n",
      "Requirement already satisfied: cycler>=0.10 in c:\\users\\wageeshabangamuarach\\appdata\\local\\programs\\python\\python37\\lib\\site-packages (from matplotlib==3.2.1->cellyzer==1.1.2) (0.10.0)\n",
      "Requirement already satisfied: pyparsing!=2.0.4,!=2.1.2,!=2.1.6,>=2.0.1 in c:\\users\\wageeshabangamuarach\\appdata\\local\\programs\\python\\python37\\lib\\site-packages (from matplotlib==3.2.1->cellyzer==1.1.2) (2.4.6)\n",
      "Requirement already satisfied: six in c:\\users\\wageeshabangamuarach\\appdata\\local\\programs\\python\\python37\\lib\\site-packages (from traitlets>=4.2->IPython->cellyzer==1.1.2) (1.14.0)\n",
      "Requirement already satisfied: ipython-genutils in c:\\users\\wageeshabangamuarach\\appdata\\local\\programs\\python\\python37\\lib\\site-packages (from traitlets>=4.2->IPython->cellyzer==1.1.2) (0.2.0)\n",
      "Requirement already satisfied: parso>=0.5.2 in c:\\users\\wageeshabangamuarach\\appdata\\local\\programs\\python\\python37\\lib\\site-packages (from jedi>=0.10->IPython->cellyzer==1.1.2) (0.6.2)\n",
      "Requirement already satisfied: wcwidth in c:\\users\\wageeshabangamuarach\\appdata\\local\\programs\\python\\python37\\lib\\site-packages (from prompt-toolkit!=3.0.0,!=3.0.1,<3.1.0,>=2.0.0->IPython->cellyzer==1.1.2) (0.1.9)\n",
      "Requirement already satisfied: MarkupSafe>=0.23 in c:\\users\\wageeshabangamuarach\\appdata\\local\\programs\\python\\python37\\lib\\site-packages (from jinja2>=2.9->folium==0.10.1->cellyzer==1.1.2) (1.1.1)\n",
      "Requirement already satisfied: chardet<4,>=3.0.2 in c:\\users\\wageeshabangamuarach\\appdata\\local\\programs\\python\\python37\\lib\\site-packages (from requests->folium==0.10.1->cellyzer==1.1.2) (3.0.4)\n",
      "Note: you may need to restart the kernel to use updated packages.\n",
      "Requirement already satisfied: urllib3!=1.25.0,!=1.25.1,<1.26,>=1.21.1 in c:\\users\\wageeshabangamuarach\\appdata\\local\\programs\\python\\python37\\lib\\site-packages (from requests->folium==0.10.1->cellyzer==1.1.2) (1.25.8)\n",
      "Requirement already satisfied: certifi>=2017.4.17 in c:\\users\\wageeshabangamuarach\\appdata\\local\\programs\\python\\python37\\lib\\site-packages (from requests->folium==0.10.1->cellyzer==1.1.2) (2020.4.5.1)\n",
      "Requirement already satisfied: idna<3,>=2.5 in c:\\users\\wageeshabangamuarach\\appdata\\local\\programs\\python\\python37\\lib\\site-packages (from requests->folium==0.10.1->cellyzer==1.1.2) (2.9)\n"
     ]
    }
   ],
   "source": [
    "pip install cellyzer==1.1.2"
   ]
  },
  {
   "cell_type": "code",
   "execution_count": 3,
   "metadata": {},
   "outputs": [],
   "source": [
    "import cellyzer as cz"
   ]
  },
  {
   "cell_type": "markdown",
   "metadata": {},
   "source": [
    "# read call data and cell data sets"
   ]
  },
  {
   "cell_type": "code",
   "execution_count": 2,
   "metadata": {},
   "outputs": [
    {
     "name": "stdout",
     "output_type": "stream",
     "text": [
      "[x]  Reading Call Data\n",
      "OrderedDict([('all', 0), ('user', 0), ('other', 0), ('direction', 0), ('duration', 0), ('timestamp', 0), ('cell_id', 0), ('cost', 0)])\n",
      "[x]  Objects creation successful\n",
      "\n",
      "OrderedDict([('all', 0), ('cell_id', 0), ('latitude', 0), ('longitude', 0)])\n",
      "[x]  Objects creation successful\n",
      "\n"
     ]
    }
   ],
   "source": [
    "call_file_path = \"demo_datasets/long_data/calls_.csv\"\n",
    "antenna_file_path = \"demo_datasets/long_data/antennas.csv\"\n",
    "\n",
    "callDataSet = cz.read_call(call_file_path)\n",
    "cellDataSet = cz.read_cell(antenna_file_path)"
   ]
  },
  {
   "cell_type": "markdown",
   "metadata": {},
   "source": [
    "# User objects"
   ]
  },
  {
   "cell_type": "code",
   "execution_count": 3,
   "metadata": {},
   "outputs": [],
   "source": [
    "user_number = \"3e97992791\"\n",
    "user2_number = \"265034e175\""
   ]
  },
  {
   "cell_type": "code",
   "execution_count": 4,
   "metadata": {},
   "outputs": [],
   "source": [
    "user1 = cz.User(callDataSet=callDataSet, cellDataSet=cellDataSet, contact_no=user_number)"
   ]
  },
  {
   "cell_type": "markdown",
   "metadata": {},
   "source": [
    "# get user home and work locations"
   ]
  },
  {
   "cell_type": "code",
   "execution_count": 5,
   "metadata": {},
   "outputs": [
    {
     "name": "stdout",
     "output_type": "stream",
     "text": [
      ">> home location :  [42.48, -71.23]\n",
      ">> home location -> cell id :  16\n"
     ]
    }
   ],
   "source": [
    "location_home = user1.get_home_location()\n",
    "print('>> home location : ', location_home)\n",
    "home_cell_id = user1.get_home_location_related_cell_id()\n",
    "print(\">> home location -> cell id : \", home_cell_id)"
   ]
  },
  {
   "cell_type": "code",
   "execution_count": 6,
   "metadata": {},
   "outputs": [
    {
     "name": "stdout",
     "output_type": "stream",
     "text": [
      ">> work location :  [42.386722, -71.138778]\n",
      ">> work location -> cell id :  2\n"
     ]
    }
   ],
   "source": [
    "location_office = user1.get_work_location()\n",
    "print('>> work location : ', location_office)\n",
    "officeplace_cell_id = user1.get_work_location_related_cell_id()\n",
    "print(\">> work location -> cell id : \", officeplace_cell_id)"
   ]
  },
  {
   "cell_type": "code",
   "execution_count": 7,
   "metadata": {},
   "outputs": [
    {
     "data": {
      "text/html": [
       "<div style=\"width:100%;\"><div style=\"position:relative;width:100%;height:0;padding-bottom:60%;\"><iframe src=\"about:blank\" style=\"position:absolute;width:100%;height:100%;left:0;top:0;border:none !important;\" data-html=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 onload=\"this.contentDocument.open();this.contentDocument.write(atob(this.getAttribute('data-html')));this.contentDocument.close();\" allowfullscreen webkitallowfullscreen mozallowfullscreen></iframe></div></div>"
      ],
      "text/plain": [
       "<folium.folium.Map at 0x292d9b5d550>"
      ]
     },
     "execution_count": 7,
     "metadata": {},
     "output_type": "execute_result"
    }
   ],
   "source": [
    "cz.visualization.view_home_work_locations(home_location=location_home, work_location=location_office , notebook = True)"
   ]
  },
  {
   "cell_type": "markdown",
   "metadata": {},
   "source": [
    "# change home/work locations by changing the work start and end time"
   ]
  },
  {
   "cell_type": "code",
   "execution_count": 8,
   "metadata": {},
   "outputs": [],
   "source": [
    "user3_number = \"e98994c239\""
   ]
  },
  {
   "cell_type": "code",
   "execution_count": 9,
   "metadata": {},
   "outputs": [
    {
     "data": {
      "text/html": [
       "<div style=\"width:100%;\"><div style=\"position:relative;width:100%;height:0;padding-bottom:60%;\"><iframe src=\"about:blank\" style=\"position:absolute;width:100%;height:100%;left:0;top:0;border:none !important;\" data-html=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 onload=\"this.contentDocument.open();this.contentDocument.write(atob(this.getAttribute('data-html')));this.contentDocument.close();\" allowfullscreen webkitallowfullscreen mozallowfullscreen></iframe></div></div>"
      ],
      "text/plain": [
       "<folium.folium.Map at 0x292e3c93f28>"
      ]
     },
     "execution_count": 9,
     "metadata": {},
     "output_type": "execute_result"
    }
   ],
   "source": [
    "user3_1 = cz.User(callDataSet=callDataSet, cellDataSet=cellDataSet, contact_no=user3_number, \n",
    "                  work_start_time=17,work_end_time=22)\n",
    "user3_1_location_home = user3_1.get_home_location()\n",
    "user3_1_location_office = user3_1.get_work_location()\n",
    "cz.visualization.view_home_work_locations(home_location=user3_1_location_home, work_location=user3_1_location_office , notebook = True)"
   ]
  },
  {
   "cell_type": "code",
   "execution_count": 10,
   "metadata": {},
   "outputs": [
    {
     "data": {
      "text/html": [
       "<div style=\"width:100%;\"><div style=\"position:relative;width:100%;height:0;padding-bottom:60%;\"><iframe src=\"about:blank\" style=\"position:absolute;width:100%;height:100%;left:0;top:0;border:none !important;\" data-html=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 onload=\"this.contentDocument.open();this.contentDocument.write(atob(this.getAttribute('data-html')));this.contentDocument.close();\" allowfullscreen webkitallowfullscreen mozallowfullscreen></iframe></div></div>"
      ],
      "text/plain": [
       "<folium.folium.Map at 0x292e3d78b70>"
      ]
     },
     "execution_count": 10,
     "metadata": {},
     "output_type": "execute_result"
    }
   ],
   "source": [
    "user3_2 = cz.User(callDataSet=callDataSet, cellDataSet=cellDataSet, contact_no=user3_number, \n",
    "                  work_start_time=5,work_end_time=12)\n",
    "user3_2_location_home = user3_2.get_home_location()\n",
    "user3_2_location_office = user3_2.get_work_location()\n",
    "cz.visualization.view_home_work_locations(home_location=user3_2_location_home, work_location=user3_2_location_office , notebook = True)"
   ]
  },
  {
   "cell_type": "markdown",
   "metadata": {},
   "source": [
    "# get ignored calls of the user"
   ]
  },
  {
   "cell_type": "code",
   "execution_count": 11,
   "metadata": {},
   "outputs": [],
   "source": [
    "user3_number = '329233d117'\n",
    "user3 = cz.User(callDataSet=callDataSet, cellDataSet=cellDataSet, contact_no=user3_number)"
   ]
  },
  {
   "cell_type": "code",
   "execution_count": 12,
   "metadata": {},
   "outputs": [
    {
     "name": "stdout",
     "output_type": "stream",
     "text": [
      ">> ignored calls details : \n",
      "[{'other user': '0041628436', 'date': '11-02-1980', 'time stamp': '08:06:18', 'cell ID': '5'}, {'other user': '329233d117', 'date': '10-11-2010', 'time stamp': '19:38:13', 'cell ID': '9'}, {'other user': '329233d117', 'date': '01-12-2010', 'time stamp': '17:19:44', 'cell ID': '18'}]\n"
     ]
    }
   ],
   "source": [
    "ignored_call_details = user3.get_ignored_call_details()\n",
    "print(\">> ignored calls details : \")\n",
    "print(ignored_call_details)"
   ]
  },
  {
   "cell_type": "code",
   "execution_count": 13,
   "metadata": {},
   "outputs": [
    {
     "name": "stdout",
     "output_type": "stream",
     "text": [
      "+------------+------------+------------+---------+\n",
      "| other user |    date    | time stamp | cell ID |\n",
      "+------------+------------+------------+---------+\n",
      "| 0041628436 | 11-02-1980 |  08:06:18  |    5    |\n",
      "| 329233d117 | 10-11-2010 |  19:38:13  |    9    |\n",
      "| 329233d117 | 01-12-2010 |  17:19:44  |   18    |\n",
      "+------------+------------+------------+---------+\n"
     ]
    }
   ],
   "source": [
    "cz.utils.tabulate_list_of_dictionaries(ignored_call_details)"
   ]
  },
  {
   "cell_type": "code",
   "execution_count": null,
   "metadata": {},
   "outputs": [],
   "source": [
    "cell"
   ]
  }
 ],
 "metadata": {
  "kernelspec": {
   "display_name": "Python 3",
   "language": "python",
   "name": "python3"
  },
  "language_info": {
   "codemirror_mode": {
    "name": "ipython",
    "version": 3
   },
   "file_extension": ".py",
   "mimetype": "text/x-python",
   "name": "python",
   "nbconvert_exporter": "python",
   "pygments_lexer": "ipython3",
   "version": "3.7.0"
  }
 },
 "nbformat": 4,
 "nbformat_minor": 4
}
