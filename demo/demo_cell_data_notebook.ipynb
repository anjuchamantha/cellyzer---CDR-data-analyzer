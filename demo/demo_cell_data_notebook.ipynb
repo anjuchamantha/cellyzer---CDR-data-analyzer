{
 "cells": [
  {
   "cell_type": "markdown",
   "metadata": {},
   "source": [
    "# import Cellyzer"
   ]
  },
  {
   "cell_type": "code",
   "execution_count": 1,
   "metadata": {
    "collapsed": true
   },
   "outputs": [
    {
     "name": "stdout",
     "output_type": "stream",
     "text": [
      "Requirement already satisfied: cellyzer==1.1.2 in c:\\users\\wageeshabangamuarach\\appdata\\local\\programs\\python\\python37\\lib\\site-packages (1.1.2)\n",
      "Requirement already satisfied: folium==0.10.1 in c:\\users\\wageeshabangamuarach\\appdata\\local\\programs\\python\\python37\\lib\\site-packages (from cellyzer==1.1.2) (0.10.1)\n",
      "Requirement already satisfied: IPython in c:\\users\\wageeshabangamuarach\\appdata\\local\\programs\\python\\python37\\lib\\site-packages (from cellyzer==1.1.2) (7.13.0)\n",
      "Requirement already satisfied: tabulate==0.8.7 in c:\\users\\wageeshabangamuarach\\appdata\\local\\programs\\python\\python37\\lib\\site-packages (from cellyzer==1.1.2) (0.8.7)Note: you may need to restart the kernel to use updated packages.\n",
      "\n",
      "Requirement already satisfied: xlrd==1.2.0 in c:\\users\\wageeshabangamuarach\\appdata\\local\\programs\\python\\python37\\lib\\site-packages (from cellyzer==1.1.2) (1.2.0)\n",
      "Requirement already satisfied: numpy==1.18.2 in c:\\users\\wageeshabangamuarach\\appdata\\local\\programs\\python\\python37\\lib\\site-packages (from cellyzer==1.1.2) (1.18.2)\n",
      "Requirement already satisfied: networkx==2.4 in c:\\users\\wageeshabangamuarach\\appdata\\local\\programs\\python\\python37\\lib\\site-packages (from cellyzer==1.1.2) (2.4)\n",
      "Requirement already satisfied: matplotlib==3.2.1 in c:\\users\\wageeshabangamuarach\\appdata\\local\\programs\\python\\python37\\lib\\site-packages (from cellyzer==1.1.2) (3.2.1)\n",
      "Requirement already satisfied: datetime==4.3 in c:\\users\\wageeshabangamuarach\\appdata\\local\\programs\\python\\python37\\lib\\site-packages (from cellyzer==1.1.2) (4.3)\n",
      "Requirement already satisfied: requests in c:\\users\\wageeshabangamuarach\\appdata\\local\\programs\\python\\python37\\lib\\site-packages (from folium==0.10.1->cellyzer==1.1.2) (2.23.0)\n",
      "Requirement already satisfied: jinja2>=2.9 in c:\\users\\wageeshabangamuarach\\appdata\\local\\programs\\python\\python37\\lib\\site-packages (from folium==0.10.1->cellyzer==1.1.2) (2.11.1)\n",
      "Requirement already satisfied: branca>=0.3.0 in c:\\users\\wageeshabangamuarach\\appdata\\local\\programs\\python\\python37\\lib\\site-packages (from folium==0.10.1->cellyzer==1.1.2) (0.4.0)\n",
      "Requirement already satisfied: decorator in c:\\users\\wageeshabangamuarach\\appdata\\local\\programs\\python\\python37\\lib\\site-packages (from IPython->cellyzer==1.1.2) (4.4.2)\n",
      "Requirement already satisfied: prompt-toolkit!=3.0.0,!=3.0.1,<3.1.0,>=2.0.0 in c:\\users\\wageeshabangamuarach\\appdata\\local\\programs\\python\\python37\\lib\\site-packages (from IPython->cellyzer==1.1.2) (3.0.5)\n",
      "Requirement already satisfied: pygments in c:\\users\\wageeshabangamuarach\\appdata\\local\\programs\\python\\python37\\lib\\site-packages (from IPython->cellyzer==1.1.2) (2.6.1)\n",
      "Requirement already satisfied: jedi>=0.10 in c:\\users\\wageeshabangamuarach\\appdata\\local\\programs\\python\\python37\\lib\\site-packages (from IPython->cellyzer==1.1.2) (0.16.0)\n",
      "Requirement already satisfied: backcall in c:\\users\\wageeshabangamuarach\\appdata\\local\\programs\\python\\python37\\lib\\site-packages (from IPython->cellyzer==1.1.2) (0.1.0)\n",
      "Requirement already satisfied: colorama; sys_platform == \"win32\" in c:\\users\\wageeshabangamuarach\\appdata\\local\\programs\\python\\python37\\lib\\site-packages (from IPython->cellyzer==1.1.2) (0.4.3)\n",
      "Requirement already satisfied: pickleshare in c:\\users\\wageeshabangamuarach\\appdata\\local\\programs\\python\\python37\\lib\\site-packages (from IPython->cellyzer==1.1.2) (0.7.5)\n",
      "Requirement already satisfied: traitlets>=4.2 in c:\\users\\wageeshabangamuarach\\appdata\\local\\programs\\python\\python37\\lib\\site-packages (from IPython->cellyzer==1.1.2) (4.3.3)\n",
      "Requirement already satisfied: setuptools>=18.5 in c:\\users\\wageeshabangamuarach\\appdata\\local\\programs\\python\\python37\\lib\\site-packages (from IPython->cellyzer==1.1.2) (39.0.1)\n",
      "Requirement already satisfied: kiwisolver>=1.0.1 in c:\\users\\wageeshabangamuarach\\appdata\\local\\programs\\python\\python37\\lib\\site-packages (from matplotlib==3.2.1->cellyzer==1.1.2) (1.1.0)\n",
      "Requirement already satisfied: python-dateutil>=2.1 in c:\\users\\wageeshabangamuarach\\appdata\\local\\programs\\python\\python37\\lib\\site-packages (from matplotlib==3.2.1->cellyzer==1.1.2) (2.8.1)\n",
      "Requirement already satisfied: cycler>=0.10 in c:\\users\\wageeshabangamuarach\\appdata\\local\\programs\\python\\python37\\lib\\site-packages (from matplotlib==3.2.1->cellyzer==1.1.2) (0.10.0)\n",
      "Requirement already satisfied: pyparsing!=2.0.4,!=2.1.2,!=2.1.6,>=2.0.1 in c:\\users\\wageeshabangamuarach\\appdata\\local\\programs\\python\\python37\\lib\\site-packages (from matplotlib==3.2.1->cellyzer==1.1.2) (2.4.6)\n",
      "Requirement already satisfied: pytz in c:\\users\\wageeshabangamuarach\\appdata\\local\\programs\\python\\python37\\lib\\site-packages (from datetime==4.3->cellyzer==1.1.2) (2019.3)\n",
      "Requirement already satisfied: zope.interface in c:\\users\\wageeshabangamuarach\\appdata\\local\\programs\\python\\python37\\lib\\site-packages (from datetime==4.3->cellyzer==1.1.2) (5.1.0)\n",
      "Requirement already satisfied: chardet<4,>=3.0.2 in c:\\users\\wageeshabangamuarach\\appdata\\local\\programs\\python\\python37\\lib\\site-packages (from requests->folium==0.10.1->cellyzer==1.1.2) (3.0.4)\n",
      "Requirement already satisfied: idna<3,>=2.5 in c:\\users\\wageeshabangamuarach\\appdata\\local\\programs\\python\\python37\\lib\\site-packages (from requests->folium==0.10.1->cellyzer==1.1.2) (2.9)\n",
      "Requirement already satisfied: certifi>=2017.4.17 in c:\\users\\wageeshabangamuarach\\appdata\\local\\programs\\python\\python37\\lib\\site-packages (from requests->folium==0.10.1->cellyzer==1.1.2) (2020.4.5.1)\n",
      "Requirement already satisfied: urllib3!=1.25.0,!=1.25.1,<1.26,>=1.21.1 in c:\\users\\wageeshabangamuarach\\appdata\\local\\programs\\python\\python37\\lib\\site-packages (from requests->folium==0.10.1->cellyzer==1.1.2) (1.25.8)\n",
      "Requirement already satisfied: MarkupSafe>=0.23 in c:\\users\\wageeshabangamuarach\\appdata\\local\\programs\\python\\python37\\lib\\site-packages (from jinja2>=2.9->folium==0.10.1->cellyzer==1.1.2) (1.1.1)\n",
      "Requirement already satisfied: six in c:\\users\\wageeshabangamuarach\\appdata\\local\\programs\\python\\python37\\lib\\site-packages (from branca>=0.3.0->folium==0.10.1->cellyzer==1.1.2) (1.14.0)\n",
      "Requirement already satisfied: wcwidth in c:\\users\\wageeshabangamuarach\\appdata\\local\\programs\\python\\python37\\lib\\site-packages (from prompt-toolkit!=3.0.0,!=3.0.1,<3.1.0,>=2.0.0->IPython->cellyzer==1.1.2) (0.1.9)\n",
      "Requirement already satisfied: parso>=0.5.2 in c:\\users\\wageeshabangamuarach\\appdata\\local\\programs\\python\\python37\\lib\\site-packages (from jedi>=0.10->IPython->cellyzer==1.1.2) (0.6.2)\n",
      "Requirement already satisfied: ipython-genutils in c:\\users\\wageeshabangamuarach\\appdata\\local\\programs\\python\\python37\\lib\\site-packages (from traitlets>=4.2->IPython->cellyzer==1.1.2) (0.2.0)\n"
     ]
    }
   ],
   "source": [
    "pip install cellyzer==1.1.2"
   ]
  },
  {
   "cell_type": "code",
   "execution_count": 2,
   "metadata": {},
   "outputs": [
    {
     "name": "stdout",
     "output_type": "stream",
     "text": [
      "[WinError 183] Cannot create a file when that file already exists: 'outputs'\n"
     ]
    }
   ],
   "source": [
    "import cellyzer as cz"
   ]
  },
  {
   "cell_type": "markdown",
   "metadata": {},
   "source": [
    "# read call data and cell data"
   ]
  },
  {
   "cell_type": "code",
   "execution_count": 3,
   "metadata": {},
   "outputs": [
    {
     "name": "stdout",
     "output_type": "stream",
     "text": [
      "[x]  Reading Call Data\n",
      "OrderedDict([('all', 0), ('user', 0), ('other', 0), ('direction', 0), ('duration', 0), ('timestamp', 0), ('cell_id', 0), ('cost', 0)])\n",
      "[x]  Objects creation successful\n",
      "\n",
      "OrderedDict([('all', 0), ('cell_id', 0), ('latitude', 0), ('longitude', 0)])\n",
      "[x]  Objects creation successful\n",
      "\n"
     ]
    }
   ],
   "source": [
    "call_file_path = \"demo_datasets/long_data/calls_.csv\"\n",
    "antenna_file_path = \"demo_datasets/long_data/antennas.csv\"\n",
    "callDataSet = cz.read_call(call_file_path)\n",
    "antennaDataSet = cz.read_cell(antenna_file_path, call_dataset_obj=callDataSet, file_type='csv')"
   ]
  },
  {
   "cell_type": "markdown",
   "metadata": {},
   "source": [
    "# get records of a specific cell"
   ]
  },
  {
   "cell_type": "code",
   "execution_count": 23,
   "metadata": {},
   "outputs": [
    {
     "name": "stdout",
     "output_type": "stream",
     "text": [
      "Record of cell 1 : {'_cell_id': '1', '_latitude': '42.366944', '_longitude': '-71.083611'} \n",
      "\n"
     ]
    }
   ],
   "source": [
    "record = antennaDataSet.get_cell_records(cell_id=1)\n",
    "print(\"Record of cell %s : %s \\n\" % (1, record.__dict__))"
   ]
  },
  {
   "cell_type": "markdown",
   "metadata": {},
   "source": [
    "# get population arround cell and visualize"
   ]
  },
  {
   "cell_type": "code",
   "execution_count": 14,
   "metadata": {
    "collapsed": true
   },
   "outputs": [
    {
     "name": "stdout",
     "output_type": "stream",
     "text": [
      ">> population around cell\n",
      "+---------+-----------+------------+------------------------+\n",
      "| cell_id | latitude  | longitude  | population_around_cell |\n",
      "+---------+-----------+------------+------------------------+\n",
      "|    1    | 42.366944 | -71.083611 |           0            |\n",
      "|    2    | 42.386722 | -71.138778 |           3            |\n",
      "|    3    |  42.3604  | -71.087374 |           0            |\n",
      "|    4    | 42.353917 |  -71.105   |           0            |\n",
      "|    5    |   42.36   |   -71.12   |           0            |\n",
      "|    6    |  42.375   |   -71.1    |           2            |\n",
      "|    7    |  42.345   |   -71.09   |           1            |\n",
      "|    8    |   42.39   |  -71.105   |           1            |\n",
      "|    9    |   42.38   |   -71.09   |           1            |\n",
      "|   10    | 42.304917 | -71.147374 |           2            |\n",
      "|   11    | 42.373917 | -70.067374 |           2            |\n",
      "|   12    | 42.313917 | -71.037374 |           1            |\n",
      "|   13    | 42.40944  |   -71.1    |           1            |\n",
      "|   14    |   42.41   |  -71.073   |           1            |\n",
      "|   15    |   42.44   |   -71.15   |           2            |\n",
      "|   16    |   42.48   |   -71.23   |           1            |\n",
      "|   17    |   42.35   |   -71.05   |           0            |\n",
      "|   18    |   42.33   |   -71.11   |           0            |\n",
      "|   19    |   42.36   |   -71.25   |           1            |\n",
      "|   20    |  42.413   |  -71.143   |           0            |\n",
      "|   21    | 42.373917 |  -71.215   |           1            |\n",
      "|   22    |   43.37   |  -71.085   |           1            |\n",
      "|   23    |   43.39   |   -71.11   |           3            |\n",
      "|   24    |   42.29   |   -71.13   |           2            |\n",
      "|   25    |   42.31   |   -71.16   |           1            |\n",
      "|   26    |  42.313   |  -71.135   |           0            |\n",
      "|   27    |  42.297   |  -71.155   |           0            |\n",
      "+---------+-----------+------------+------------------------+\n"
     ]
    }
   ],
   "source": [
    "population = antennaDataSet.get_population()\n",
    "print(\">> population around cell\")\n",
    "cz.utils.tabulate_list_of_dictionaries(population)"
   ]
  },
  {
   "cell_type": "code",
   "execution_count": 15,
   "metadata": {
    "collapsed": true
   },
   "outputs": [
    {
     "data": {
      "text/html": [
       "<div style=\"width:100%;\"><div style=\"position:relative;width:100%;height:0;padding-bottom:60%;\"><iframe src=\"about:blank\" style=\"position:absolute;width:100%;height:100%;left:0;top:0;border:none !important;\" data-html=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 onload=\"this.contentDocument.open();this.contentDocument.write(atob(this.getAttribute('data-html')));this.contentDocument.close();\" allowfullscreen webkitallowfullscreen mozallowfullscreen></iframe></div></div>"
      ],
      "text/plain": [
       "<folium.folium.Map at 0x26ce4c5fe80>"
      ]
     },
     "execution_count": 15,
     "metadata": {},
     "output_type": "execute_result"
    }
   ],
   "source": [
    "cz.visualization.cell_population_visualization(population, notebook = True)"
   ]
  },
  {
   "cell_type": "markdown",
   "metadata": {},
   "source": [
    "# trip visualize"
   ]
  },
  {
   "cell_type": "code",
   "execution_count": 21,
   "metadata": {
    "collapsed": true
   },
   "outputs": [
    {
     "name": "stdout",
     "output_type": "stream",
     "text": [
      "+---------------------+----------+---------+-------------------------+\n",
      "|      timestamp      | duration | cell_id |        location         |\n",
      "+---------------------+----------+---------+-------------------------+\n",
      "| 1980-02-11 07:18:23 |    31    |   10    | (42.304917, -71.147374) |\n",
      "| 1980-02-11 07:45:42 |    45    |    2    | (42.386722, -71.138778) |\n",
      "| 1980-02-11 08:04:42 |    10    |    3    |  (42.3604, -71.087374)  |\n",
      "| 1980-02-11 08:05:31 |    0     |    4    |  (42.353917, -71.105)   |\n",
      "| 1980-02-11 08:06:18 |    0     |    5    |     (42.36, -71.12)     |\n",
      "| 1980-02-11 08:06:31 |    0     |    6    |     (42.375, -71.1)     |\n",
      "| 2010-09-09 19:35:37 |   124    |    7    |    (42.345, -71.09)     |\n",
      "| 2010-09-09 23:17:14 |    0     |   16    |     (42.48, -71.23)     |\n",
      "| 2010-09-10 16:27:34 |    0     |   25    |     (42.31, -71.16)     |\n",
      "| 2010-09-10 19:03:58 |    15    |    7    |    (42.345, -71.09)     |\n",
      "| 2010-09-10 21:43:34 |    39    |   10    | (42.304917, -71.147374) |\n",
      "| 2010-09-11 12:29:24 |    16    |    4    |  (42.353917, -71.105)   |\n",
      "| 2010-09-11 12:30:01 |    18    |   20    |    (42.413, -71.143)    |\n",
      "| 2010-09-11 14:43:03 |    0     |    8    |    (42.39, -71.105)     |\n",
      "| 2010-09-11 14:49:18 |    26    |    2    | (42.386722, -71.138778) |\n",
      "| 2010-09-12 19:47:42 |   186    |   25    |     (42.31, -71.16)     |\n",
      "| 2010-09-12 20:32:22 |    18    |   18    |     (42.33, -71.11)     |\n",
      "| 2010-09-12 20:37:48 |    0     |   17    |     (42.35, -71.05)     |\n",
      "| 2010-09-12 20:38:13 |    0     |    2    | (42.386722, -71.138778) |\n",
      "| 2010-09-13 09:45:20 |    39    |    5    |     (42.36, -71.12)     |\n",
      "| 2010-09-13 14:54:17 |    19    |   24    |     (42.29, -71.13)     |\n",
      "| 2010-09-14 07:20:21 |    1     |   18    |     (42.33, -71.11)     |\n",
      "| 2010-09-14 21:33:39 |   949    |    8    |    (42.39, -71.105)     |\n",
      "| 2010-09-14 21:50:22 |   426    |   14    |    (42.41, -71.073)     |\n",
      "| 2010-09-15 17:37:19 |    65    |   14    |    (42.41, -71.073)     |\n",
      "| 2010-09-17 17:02:49 |    36    |   26    |    (42.313, -71.135)    |\n",
      "| 2010-09-17 17:43:26 |    11    |   12    | (42.313917, -71.037374) |\n",
      "| 2010-09-17 17:44:46 |    55    |   12    | (42.313917, -71.037374) |\n",
      "| 2010-09-17 17:45:05 |    34    |   18    |     (42.33, -71.11)     |\n",
      "| 2010-09-17 17:46:32 |    33    |   26    |    (42.313, -71.135)    |\n",
      "| 2010-09-18 11:24:23 |    0     |   15    |     (42.44, -71.15)     |\n",
      "| 2010-09-18 11:25:48 |    23    |   18    |     (42.33, -71.11)     |\n",
      "| 2010-09-18 11:26:34 |    0     |   22    |    (43.37, -71.085)     |\n",
      "| 2010-09-18 11:26:52 |    0     |    5    |     (42.36, -71.12)     |\n",
      "| 2010-09-18 11:27:25 |    24    |   12    | (42.313917, -71.037374) |\n",
      "| 2010-09-18 11:28:17 |    0     |   20    |    (42.413, -71.143)    |\n",
      "| 2010-09-18 12:51:11 |    25    |   21    |  (42.373917, -71.215)   |\n",
      "| 2010-09-18 13:18:09 |    0     |    4    |  (42.353917, -71.105)   |\n",
      "| 2010-09-18 17:11:53 |   131    |    8    |    (42.39, -71.105)     |\n",
      "| 2010-09-18 20:34:18 |    0     |    2    | (42.386722, -71.138778) |\n",
      "| 2010-09-20 12:15:36 |    0     |   25    |     (42.31, -71.16)     |\n",
      "| 2010-09-21 17:02:12 |   850    |    7    |    (42.345, -71.09)     |\n",
      "| 2010-09-21 17:32:52 |   340    |   22    |    (43.37, -71.085)     |\n",
      "| 2010-09-22 14:47:12 |    19    |    9    |     (42.38, -71.09)     |\n",
      "| 2010-09-22 14:48:25 |    36    |    8    |    (42.39, -71.105)     |\n",
      "| 2010-09-22 15:08:06 |    6     |   15    |     (42.44, -71.15)     |\n",
      "+---------------------+----------+---------+-------------------------+\n",
      "[{'timestamp': datetime.datetime(1980, 2, 11, 7, 18, 23), 'duration': '31', 'cell_id': '10', 'location': (42.304917, -71.147374)}, {'timestamp': datetime.datetime(1980, 2, 11, 7, 45, 42), 'duration': '45', 'cell_id': '2', 'location': (42.386722, -71.138778)}, {'timestamp': datetime.datetime(1980, 2, 11, 8, 4, 42), 'duration': '10', 'cell_id': '3', 'location': (42.3604, -71.087374)}, {'timestamp': datetime.datetime(1980, 2, 11, 8, 5, 31), 'duration': '0', 'cell_id': '4', 'location': (42.353917, -71.105)}, {'timestamp': datetime.datetime(1980, 2, 11, 8, 6, 18), 'duration': '0', 'cell_id': '5', 'location': (42.36, -71.12)}, {'timestamp': datetime.datetime(1980, 2, 11, 8, 6, 31), 'duration': '0', 'cell_id': '6', 'location': (42.375, -71.1)}, {'timestamp': datetime.datetime(2010, 9, 9, 19, 35, 37), 'duration': '124', 'cell_id': '7', 'location': (42.345, -71.09)}, {'timestamp': datetime.datetime(2010, 9, 9, 23, 17, 14), 'duration': '0', 'cell_id': '16', 'location': (42.48, -71.23)}, {'timestamp': datetime.datetime(2010, 9, 10, 16, 27, 34), 'duration': '0', 'cell_id': '25', 'location': (42.31, -71.16)}, {'timestamp': datetime.datetime(2010, 9, 10, 19, 3, 58), 'duration': '15', 'cell_id': '7', 'location': (42.345, -71.09)}, {'timestamp': datetime.datetime(2010, 9, 10, 21, 43, 34), 'duration': '39', 'cell_id': '10', 'location': (42.304917, -71.147374)}, {'timestamp': datetime.datetime(2010, 9, 11, 12, 29, 24), 'duration': '16', 'cell_id': '4', 'location': (42.353917, -71.105)}, {'timestamp': datetime.datetime(2010, 9, 11, 12, 30, 1), 'duration': '18', 'cell_id': '20', 'location': (42.413, -71.143)}, {'timestamp': datetime.datetime(2010, 9, 11, 14, 43, 3), 'duration': '0', 'cell_id': '8', 'location': (42.39, -71.105)}, {'timestamp': datetime.datetime(2010, 9, 11, 14, 49, 18), 'duration': '26', 'cell_id': '2', 'location': (42.386722, -71.138778)}, {'timestamp': datetime.datetime(2010, 9, 12, 19, 47, 42), 'duration': '186', 'cell_id': '25', 'location': (42.31, -71.16)}, {'timestamp': datetime.datetime(2010, 9, 12, 20, 32, 22), 'duration': '18', 'cell_id': '18', 'location': (42.33, -71.11)}, {'timestamp': datetime.datetime(2010, 9, 12, 20, 37, 48), 'duration': '0', 'cell_id': '17', 'location': (42.35, -71.05)}, {'timestamp': datetime.datetime(2010, 9, 12, 20, 38, 13), 'duration': '0', 'cell_id': '2', 'location': (42.386722, -71.138778)}, {'timestamp': datetime.datetime(2010, 9, 13, 9, 45, 20), 'duration': '39', 'cell_id': '5', 'location': (42.36, -71.12)}, {'timestamp': datetime.datetime(2010, 9, 13, 14, 54, 17), 'duration': '19', 'cell_id': '24', 'location': (42.29, -71.13)}, {'timestamp': datetime.datetime(2010, 9, 14, 7, 20, 21), 'duration': '1', 'cell_id': '18', 'location': (42.33, -71.11)}, {'timestamp': datetime.datetime(2010, 9, 14, 21, 33, 39), 'duration': '949', 'cell_id': '8', 'location': (42.39, -71.105)}, {'timestamp': datetime.datetime(2010, 9, 14, 21, 50, 22), 'duration': '426', 'cell_id': '14', 'location': (42.41, -71.073)}, {'timestamp': datetime.datetime(2010, 9, 15, 17, 37, 19), 'duration': '65', 'cell_id': '14', 'location': (42.41, -71.073)}, {'timestamp': datetime.datetime(2010, 9, 17, 17, 2, 49), 'duration': '36', 'cell_id': '26', 'location': (42.313, -71.135)}, {'timestamp': datetime.datetime(2010, 9, 17, 17, 43, 26), 'duration': '11', 'cell_id': '12', 'location': (42.313917, -71.037374)}, {'timestamp': datetime.datetime(2010, 9, 17, 17, 44, 46), 'duration': '55', 'cell_id': '12', 'location': (42.313917, -71.037374)}, {'timestamp': datetime.datetime(2010, 9, 17, 17, 45, 5), 'duration': '34', 'cell_id': '18', 'location': (42.33, -71.11)}, {'timestamp': datetime.datetime(2010, 9, 17, 17, 46, 32), 'duration': '33', 'cell_id': '26', 'location': (42.313, -71.135)}, {'timestamp': datetime.datetime(2010, 9, 18, 11, 24, 23), 'duration': '0', 'cell_id': '15', 'location': (42.44, -71.15)}, {'timestamp': datetime.datetime(2010, 9, 18, 11, 25, 48), 'duration': '23', 'cell_id': '18', 'location': (42.33, -71.11)}, {'timestamp': datetime.datetime(2010, 9, 18, 11, 26, 34), 'duration': '0', 'cell_id': '22', 'location': (43.37, -71.085)}, {'timestamp': datetime.datetime(2010, 9, 18, 11, 26, 52), 'duration': '0', 'cell_id': '5', 'location': (42.36, -71.12)}, {'timestamp': datetime.datetime(2010, 9, 18, 11, 27, 25), 'duration': '24', 'cell_id': '12', 'location': (42.313917, -71.037374)}, {'timestamp': datetime.datetime(2010, 9, 18, 11, 28, 17), 'duration': '0', 'cell_id': '20', 'location': (42.413, -71.143)}, {'timestamp': datetime.datetime(2010, 9, 18, 12, 51, 11), 'duration': '25', 'cell_id': '21', 'location': (42.373917, -71.215)}, {'timestamp': datetime.datetime(2010, 9, 18, 13, 18, 9), 'duration': '0', 'cell_id': '4', 'location': (42.353917, -71.105)}, {'timestamp': datetime.datetime(2010, 9, 18, 17, 11, 53), 'duration': '131', 'cell_id': '8', 'location': (42.39, -71.105)}, {'timestamp': datetime.datetime(2010, 9, 18, 20, 34, 18), 'duration': '0', 'cell_id': '2', 'location': (42.386722, -71.138778)}, {'timestamp': datetime.datetime(2010, 9, 20, 12, 15, 36), 'duration': '0', 'cell_id': '25', 'location': (42.31, -71.16)}, {'timestamp': datetime.datetime(2010, 9, 21, 17, 2, 12), 'duration': '850', 'cell_id': '7', 'location': (42.345, -71.09)}, {'timestamp': datetime.datetime(2010, 9, 21, 17, 32, 52), 'duration': '340', 'cell_id': '22', 'location': (43.37, -71.085)}, {'timestamp': datetime.datetime(2010, 9, 22, 14, 47, 12), 'duration': '19', 'cell_id': '9', 'location': (42.38, -71.09)}, {'timestamp': datetime.datetime(2010, 9, 22, 14, 48, 25), 'duration': '36', 'cell_id': '8', 'location': (42.39, -71.105)}, {'timestamp': datetime.datetime(2010, 9, 22, 15, 8, 6), 'duration': '6', 'cell_id': '15', 'location': (42.44, -71.15)}]\n"
     ]
    }
   ],
   "source": [
    "call_made_locations = antennaDataSet.get_trip_details(\"329233d117\", console_print=True, tabulate=True)"
   ]
  },
  {
   "cell_type": "code",
   "execution_count": 24,
   "metadata": {},
   "outputs": [],
   "source": [
    "cz.visualization.trip_visualization(call_made_locations)"
   ]
  },
  {
   "cell_type": "code",
   "execution_count": null,
   "metadata": {},
   "outputs": [],
   "source": []
  }
 ],
 "metadata": {
  "kernelspec": {
   "display_name": "Python 3",
   "language": "python",
   "name": "python3"
  },
  "language_info": {
   "codemirror_mode": {
    "name": "ipython",
    "version": 3
   },
   "file_extension": ".py",
   "mimetype": "text/x-python",
   "name": "python",
   "nbconvert_exporter": "python",
   "pygments_lexer": "ipython3",
   "version": "3.7.0"
  }
 },
 "nbformat": 4,
 "nbformat_minor": 4
}
