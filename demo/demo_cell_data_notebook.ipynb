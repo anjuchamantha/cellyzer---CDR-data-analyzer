{
 "cells": [
  {
   "cell_type": "code",
   "execution_count": 1,
   "metadata": {},
   "outputs": [
    {
     "name": "stdout",
     "output_type": "stream",
     "text": [
      "Requirement already satisfied: xlrd in c:\\programdata\\anaconda3\\lib\\site-packages (1.2.0)\n",
      "Requirement already satisfied: numpy in c:\\programdata\\anaconda3\\lib\\site-packages (1.16.5)\n",
      "Requirement already satisfied: tabulate in c:\\programdata\\anaconda3\\lib\\site-packages (0.8.7)\n",
      "Requirement already satisfied: datetime in c:\\programdata\\anaconda3\\lib\\site-packages (4.3)\n",
      "Requirement already satisfied: zope.interface in c:\\programdata\\anaconda3\\lib\\site-packages (from datetime) (5.1.0)\n",
      "Requirement already satisfied: pytz in c:\\programdata\\anaconda3\\lib\\site-packages (from datetime) (2019.3)\n",
      "Requirement already satisfied: setuptools in c:\\programdata\\anaconda3\\lib\\site-packages (from zope.interface->datetime) (41.4.0)\n",
      "Requirement already satisfied: networkx in c:\\programdata\\anaconda3\\lib\\site-packages (2.3)\n",
      "Requirement already satisfied: decorator>=4.3.0 in c:\\programdata\\anaconda3\\lib\\site-packages (from networkx) (4.4.0)\n",
      "Requirement already satisfied: matplotlib in c:\\programdata\\anaconda3\\lib\\site-packages (3.1.1)\n",
      "Requirement already satisfied: cycler>=0.10 in c:\\programdata\\anaconda3\\lib\\site-packages (from matplotlib) (0.10.0)\n",
      "Requirement already satisfied: kiwisolver>=1.0.1 in c:\\programdata\\anaconda3\\lib\\site-packages (from matplotlib) (1.1.0)\n",
      "Requirement already satisfied: pyparsing!=2.0.4,!=2.1.2,!=2.1.6,>=2.0.1 in c:\\programdata\\anaconda3\\lib\\site-packages (from matplotlib) (2.4.2)\n",
      "Requirement already satisfied: python-dateutil>=2.1 in c:\\programdata\\anaconda3\\lib\\site-packages (from matplotlib) (2.8.0)\n",
      "Requirement already satisfied: numpy>=1.11 in c:\\programdata\\anaconda3\\lib\\site-packages (from matplotlib) (1.16.5)\n",
      "Requirement already satisfied: six in c:\\programdata\\anaconda3\\lib\\site-packages (from cycler>=0.10->matplotlib) (1.12.0)\n",
      "Requirement already satisfied: setuptools in c:\\programdata\\anaconda3\\lib\\site-packages (from kiwisolver>=1.0.1->matplotlib) (41.4.0)\n",
      "Requirement already satisfied: folium in c:\\programdata\\anaconda3\\lib\\site-packages (0.10.1)\n",
      "Requirement already satisfied: branca>=0.3.0 in c:\\programdata\\anaconda3\\lib\\site-packages (from folium) (0.4.0)\n",
      "Requirement already satisfied: requests in c:\\programdata\\anaconda3\\lib\\site-packages (from folium) (2.22.0)\n",
      "Requirement already satisfied: numpy in c:\\programdata\\anaconda3\\lib\\site-packages (from folium) (1.16.5)\n",
      "Requirement already satisfied: jinja2>=2.9 in c:\\programdata\\anaconda3\\lib\\site-packages (from folium) (2.10.3)\n",
      "Requirement already satisfied: six in c:\\programdata\\anaconda3\\lib\\site-packages (from branca>=0.3.0->folium) (1.12.0)\n",
      "Requirement already satisfied: idna<2.9,>=2.5 in c:\\programdata\\anaconda3\\lib\\site-packages (from requests->folium) (2.8)\n",
      "Requirement already satisfied: certifi>=2017.4.17 in c:\\programdata\\anaconda3\\lib\\site-packages (from requests->folium) (2019.9.11)\n",
      "Requirement already satisfied: urllib3!=1.25.0,!=1.25.1,<1.26,>=1.21.1 in c:\\programdata\\anaconda3\\lib\\site-packages (from requests->folium) (1.24.2)\n",
      "Requirement already satisfied: chardet<3.1.0,>=3.0.2 in c:\\programdata\\anaconda3\\lib\\site-packages (from requests->folium) (3.0.4)\n",
      "Requirement already satisfied: MarkupSafe>=0.23 in c:\\programdata\\anaconda3\\lib\\site-packages (from jinja2>=2.9->folium) (1.1.1)\n"
     ]
    }
   ],
   "source": [
    "!pip install xlrd\n",
    "!pip install numpy\n",
    "!pip install tabulate\n",
    "!pip install datetime \n",
    "!pip install networkx\n",
    "!pip install matplotlib\n",
    "!pip install folium"
   ]
  },
  {
   "cell_type": "markdown",
   "metadata": {},
   "source": [
    "# import Cellyzer"
   ]
  },
  {
   "cell_type": "code",
   "execution_count": 5,
   "metadata": {},
   "outputs": [],
   "source": [
    "import sys\n",
    "import os\n",
    "\n",
    "module_path = os.path.abspath(os.path.join('..'))\n",
    "if module_path not in sys.path:\n",
    "    sys.path.append(module_path)\n",
    "\n",
    "import cellyzer as cz"
   ]
  },
  {
   "cell_type": "markdown",
   "metadata": {},
   "source": [
    "# read call data and cell data"
   ]
  },
  {
   "cell_type": "code",
   "execution_count": 7,
   "metadata": {},
   "outputs": [
    {
     "name": "stdout",
     "output_type": "stream",
     "text": [
      "[x]  Reading Call Data\n",
      "[x]  Objects creation successful\n",
      "\n"
     ]
    }
   ],
   "source": [
    "call_file_path = \"demo_datasets/test_data/calls.csv\"\n",
    "antenna_file_path = \"demo_datasets/test_data/antennas.csv\"\n",
    "callDataSet = cz.read_call(call_file_path)\n",
    "antennaDataSet = cz.read_cell(antenna_file_path, call_dataset_obj=callDataSet, file_type='csv')"
   ]
  },
  {
   "cell_type": "markdown",
   "metadata": {},
   "source": [
    "# get records of a specific cell"
   ]
  },
  {
   "cell_type": "code",
   "execution_count": 8,
   "metadata": {},
   "outputs": [
    {
     "name": "stdout",
     "output_type": "stream",
     "text": [
      "cell id -  1\n"
     ]
    }
   ],
   "source": [
    "record = antennaDataSet.get_cell_records(cell_id=1)\n",
    "print(\"cell id - \", record.get_cell_id())"
   ]
  },
  {
   "cell_type": "markdown",
   "metadata": {},
   "source": [
    "# get population arround cell and visualize"
   ]
  },
  {
   "cell_type": "code",
   "execution_count": 9,
   "metadata": {},
   "outputs": [
    {
     "name": "stdout",
     "output_type": "stream",
     "text": [
      ">> population around cell\n",
      "+---------+-----------+------------+------------------------+\n",
      "| cell_id | latitude  | longitude  | population_around_cell |\n",
      "+---------+-----------+------------+------------------------+\n",
      "|    1    | 42.366944 | -71.083611 |           1            |\n",
      "|    2    | 42.386722 | -71.138778 |           2            |\n",
      "|    3    |  42.3604  | -71.087374 |           0            |\n",
      "|    4    | 42.353917 |  -71.105   |           0            |\n",
      "|    5    |   42.36   |   -71.12   |           0            |\n",
      "|    6    |  42.375   |   -71.1    |           0            |\n",
      "|    7    |  42.345   |   -71.09   |           0            |\n",
      "|    8    |   42.39   |  -71.105   |           0            |\n",
      "|    9    |   42.38   |   -71.09   |           0            |\n",
      "|   10    | 42.304917 | -71.147374 |           2            |\n",
      "|   11    | 42.373917 | -70.067374 |           0            |\n",
      "|   12    | 42.313917 | -71.037374 |           0            |\n",
      "|   13    | 42.40944  |   -71.1    |           0            |\n",
      "|   14    |   42.41   |  -71.073   |           0            |\n",
      "|   15    |   42.44   |   -71.15   |           0            |\n",
      "|   16    |   42.48   |   -71.23   |           0            |\n",
      "|   17    |   42.35   |   -71.05   |           0            |\n",
      "|   18    |   42.33   |   -71.11   |           0            |\n",
      "|   19    |   42.36   |   -71.25   |           0            |\n",
      "|   20    |  42.413   |  -71.143   |           0            |\n",
      "|   21    | 42.373917 |  -71.215   |           0            |\n",
      "|   22    |   43.37   |  -71.085   |           0            |\n",
      "|   23    |   43.39   |   -71.11   |           0            |\n",
      "|   24    |   42.29   |   -71.13   |           0            |\n",
      "|   25    |   42.31   |   -71.16   |           0            |\n",
      "|   26    |  42.313   |  -71.135   |           0            |\n",
      "|   27    |  42.297   |  -71.155   |           0            |\n",
      "+---------+-----------+------------+------------------------+\n"
     ]
    }
   ],
   "source": [
    "population = antennaDataSet.get_population()\n",
    "print(\">> population around cell\")\n",
    "cz.utils.tabulate_list_of_dictionaries(population)"
   ]
  },
  {
   "cell_type": "code",
   "execution_count": 10,
   "metadata": {},
   "outputs": [
    {
     "data": {
      "text/html": [
       "<div style=\"width:100%;\"><div style=\"position:relative;width:100%;height:0;padding-bottom:60%;\"><iframe src=\"about:blank\" style=\"position:absolute;width:100%;height:100%;left:0;top:0;border:none !important;\" data-html=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 onload=\"this.contentDocument.open();this.contentDocument.write(atob(this.getAttribute('data-html')));this.contentDocument.close();\" allowfullscreen webkitallowfullscreen mozallowfullscreen></iframe></div></div>"
      ],
      "text/plain": [
       "<folium.folium.Map at 0x29217dc3ac8>"
      ]
     },
     "execution_count": 10,
     "metadata": {},
     "output_type": "execute_result"
    }
   ],
   "source": [
    "cz.visualization.cell_population_visualization(population, notebook = True)"
   ]
  },
  {
   "cell_type": "markdown",
   "metadata": {},
   "source": [
    "# trip visualize"
   ]
  },
  {
   "cell_type": "code",
   "execution_count": 11,
   "metadata": {},
   "outputs": [
    {
     "name": "stdout",
     "output_type": "stream",
     "text": [
      "+---------------------+----------+---------+-------------------------+\n",
      "|      timestamp      | duration | cell_id |        location         |\n",
      "+---------------------+----------+---------+-------------------------+\n",
      "| 2010-09-09 18:16:47 |    0     |    1    | (42.366944, -71.083611) |\n",
      "| 2010-09-09 18:37:05 |    0     |    2    | (42.386722, -71.138778) |\n",
      "| 2010-09-09 19:03:05 |    0     |    2    | (42.386722, -71.138778) |\n",
      "| 2010-09-09 20:02:16 |    0     |    2    | (42.386722, -71.138778) |\n",
      "| 2010-09-09 20:57:51 |    0     |    3    |  (42.3604, -71.087374)  |\n",
      "| 2010-09-09 22:07:39 |    0     |    3    |  (42.3604, -71.087374)  |\n",
      "| 2010-09-09 22:08:08 |    0     |    3    |  (42.3604, -71.087374)  |\n",
      "| 2010-09-09 22:12:01 |   215    |    2    | (42.386722, -71.138778) |\n",
      "| 2010-09-09 22:38:09 |    41    |    2    | (42.386722, -71.138778) |\n",
      "| 2010-09-09 23:02:56 |    0     |    2    | (42.386722, -71.138778) |\n",
      "| 2010-09-09 23:18:13 |    0     |    2    | (42.386722, -71.138778) |\n",
      "| 2010-09-09 23:21:05 |    0     |    2    | (42.386722, -71.138778) |\n",
      "| 2010-09-09 23:28:24 |    4     |    2    | (42.386722, -71.138778) |\n",
      "| 2010-09-10 06:01:27 |    52    |    1    | (42.366944, -71.083611) |\n",
      "| 2010-09-10 06:04:43 |    0     |    2    | (42.386722, -71.138778) |\n",
      "| 2010-09-10 07:45:52 |    39    |    4    |  (42.353917, -71.105)   |\n",
      "| 2010-09-10 07:53:09 |    0     |    2    | (42.386722, -71.138778) |\n",
      "| 2010-09-10 07:54:02 |    0     |    1    | (42.366944, -71.083611) |\n",
      "| 2010-09-10 11:15:49 |    0     |   10    | (42.304917, -71.147374) |\n",
      "| 2010-09-10 19:35:57 |    0     |    1    | (42.366944, -71.083611) |\n",
      "+---------------------+----------+---------+-------------------------+\n",
      "[{'timestamp': datetime.datetime(2010, 9, 9, 18, 16, 47), 'duration': '0', 'cell_id': '1', 'location': (42.366944, -71.083611)}, {'timestamp': datetime.datetime(2010, 9, 9, 18, 37, 5), 'duration': '0', 'cell_id': '2', 'location': (42.386722, -71.138778)}, {'timestamp': datetime.datetime(2010, 9, 9, 19, 3, 5), 'duration': '0', 'cell_id': '2', 'location': (42.386722, -71.138778)}, {'timestamp': datetime.datetime(2010, 9, 9, 20, 2, 16), 'duration': '0', 'cell_id': '2', 'location': (42.386722, -71.138778)}, {'timestamp': datetime.datetime(2010, 9, 9, 20, 57, 51), 'duration': '0', 'cell_id': '3', 'location': (42.3604, -71.087374)}, {'timestamp': datetime.datetime(2010, 9, 9, 22, 7, 39), 'duration': '0', 'cell_id': '3', 'location': (42.3604, -71.087374)}, {'timestamp': datetime.datetime(2010, 9, 9, 22, 8, 8), 'duration': '0', 'cell_id': '3', 'location': (42.3604, -71.087374)}, {'timestamp': datetime.datetime(2010, 9, 9, 22, 12, 1), 'duration': '215', 'cell_id': '2', 'location': (42.386722, -71.138778)}, {'timestamp': datetime.datetime(2010, 9, 9, 22, 38, 9), 'duration': '41', 'cell_id': '2', 'location': (42.386722, -71.138778)}, {'timestamp': datetime.datetime(2010, 9, 9, 23, 2, 56), 'duration': '0', 'cell_id': '2', 'location': (42.386722, -71.138778)}, {'timestamp': datetime.datetime(2010, 9, 9, 23, 18, 13), 'duration': '0', 'cell_id': '2', 'location': (42.386722, -71.138778)}, {'timestamp': datetime.datetime(2010, 9, 9, 23, 21, 5), 'duration': '0', 'cell_id': '2', 'location': (42.386722, -71.138778)}, {'timestamp': datetime.datetime(2010, 9, 9, 23, 28, 24), 'duration': '4', 'cell_id': '2', 'location': (42.386722, -71.138778)}, {'timestamp': datetime.datetime(2010, 9, 10, 6, 1, 27), 'duration': '52', 'cell_id': '1', 'location': (42.366944, -71.083611)}, {'timestamp': datetime.datetime(2010, 9, 10, 6, 4, 43), 'duration': '0', 'cell_id': '2', 'location': (42.386722, -71.138778)}, {'timestamp': datetime.datetime(2010, 9, 10, 7, 45, 52), 'duration': '39', 'cell_id': '4', 'location': (42.353917, -71.105)}, {'timestamp': datetime.datetime(2010, 9, 10, 7, 53, 9), 'duration': '0', 'cell_id': '2', 'location': (42.386722, -71.138778)}, {'timestamp': datetime.datetime(2010, 9, 10, 7, 54, 2), 'duration': '0', 'cell_id': '1', 'location': (42.366944, -71.083611)}, {'timestamp': datetime.datetime(2010, 9, 10, 11, 15, 49), 'duration': '0', 'cell_id': '10', 'location': (42.304917, -71.147374)}, {'timestamp': datetime.datetime(2010, 9, 10, 19, 35, 57), 'duration': '0', 'cell_id': '1', 'location': (42.366944, -71.083611)}]\n"
     ]
    }
   ],
   "source": [
    "call_made_locations = antennaDataSet.get_trip_details(\"7331c02864\", console_print=True, tabulate=True)"
   ]
  },
  {
   "cell_type": "code",
   "execution_count": 12,
   "metadata": {},
   "outputs": [],
   "source": [
    "cz.visualization.trip_visualization(call_made_locations)"
   ]
  },
  {
   "cell_type": "code",
   "execution_count": null,
   "metadata": {},
   "outputs": [],
   "source": []
  }
 ],
 "metadata": {
  "kernelspec": {
   "display_name": "Python 3",
   "language": "python",
   "name": "python3"
  },
  "language_info": {
   "codemirror_mode": {
    "name": "ipython",
    "version": 3
   },
   "file_extension": ".py",
   "mimetype": "text/x-python",
   "name": "python",
   "nbconvert_exporter": "python",
   "pygments_lexer": "ipython3",
   "version": "3.7.4"
  }
 },
 "nbformat": 4,
 "nbformat_minor": 4
}
