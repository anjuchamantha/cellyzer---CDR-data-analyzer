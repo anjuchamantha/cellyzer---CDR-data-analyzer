{
 "cells": [
  {
   "cell_type": "markdown",
   "metadata": {},
   "source": [
    "# import Cellyzer"
   ]
  },
  {
   "cell_type": "code",
   "execution_count": 1,
   "metadata": {},
   "outputs": [
    {
     "name": "stdout",
     "output_type": "stream",
     "text": [
      "Requirement already satisfied: cellyzer==1.1.2 in c:\\users\\wageeshabangamuarach\\appdata\\local\\programs\\python\\python37\\lib\\site-packages (1.1.2)\n",
      "Requirement already satisfied: matplotlib==3.2.1 in c:\\users\\wageeshabangamuarach\\appdata\\local\\programs\\python\\python37\\lib\\site-packages (from cellyzer==1.1.2) (3.2.1)\n",
      "Requirement already satisfied: folium==0.10.1 in c:\\users\\wageeshabangamuarach\\appdata\\local\\programs\\python\\python37\\lib\\site-packages (from cellyzer==1.1.2) (0.10.1)Note: you may need to restart the kernel to use updated packages.\n",
      "Requirement already satisfied: xlrd==1.2.0 in c:\\users\\wageeshabangamuarach\\appdata\\local\\programs\\python\\python37\\lib\\site-packages (from cellyzer==1.1.2) (1.2.0)\n",
      "Requirement already satisfied: IPython in c:\\users\\wageeshabangamuarach\\appdata\\local\\programs\\python\\python37\\lib\\site-packages (from cellyzer==1.1.2) (7.13.0)\n",
      "Requirement already satisfied: tabulate==0.8.7 in c:\\users\\wageeshabangamuarach\\appdata\\local\\programs\\python\\python37\\lib\\site-packages (from cellyzer==1.1.2) (0.8.7)\n",
      "Requirement already satisfied: numpy==1.18.2 in c:\\users\\wageeshabangamuarach\\appdata\\local\\programs\\python\\python37\\lib\\site-packages (from cellyzer==1.1.2) (1.18.2)\n",
      "Requirement already satisfied: networkx==2.4 in c:\\users\\wageeshabangamuarach\\appdata\\local\\programs\\python\\python37\\lib\\site-packages (from cellyzer==1.1.2) (2.4)\n",
      "Requirement already satisfied: datetime==4.3 in c:\\users\\wageeshabangamuarach\\appdata\\local\\programs\\python\\python37\\lib\\site-packages (from cellyzer==1.1.2) (4.3)\n",
      "Requirement already satisfied: cycler>=0.10 in c:\\users\\wageeshabangamuarach\\appdata\\local\\programs\\python\\python37\\lib\\site-packages (from matplotlib==3.2.1->cellyzer==1.1.2) (0.10.0)\n",
      "Requirement already satisfied: pyparsing!=2.0.4,!=2.1.2,!=2.1.6,>=2.0.1 in c:\\users\\wageeshabangamuarach\\appdata\\local\\programs\\python\\python37\\lib\\site-packages (from matplotlib==3.2.1->cellyzer==1.1.2) (2.4.6)\n",
      "\n",
      "Requirement already satisfied: python-dateutil>=2.1 in c:\\users\\wageeshabangamuarach\\appdata\\local\\programs\\python\\python37\\lib\\site-packages (from matplotlib==3.2.1->cellyzer==1.1.2) (2.8.1)\n",
      "Requirement already satisfied: kiwisolver>=1.0.1 in c:\\users\\wageeshabangamuarach\\appdata\\local\\programs\\python\\python37\\lib\\site-packages (from matplotlib==3.2.1->cellyzer==1.1.2) (1.1.0)\n",
      "Requirement already satisfied: branca>=0.3.0 in c:\\users\\wageeshabangamuarach\\appdata\\local\\programs\\python\\python37\\lib\\site-packages (from folium==0.10.1->cellyzer==1.1.2) (0.4.0)\n",
      "Requirement already satisfied: requests in c:\\users\\wageeshabangamuarach\\appdata\\local\\programs\\python\\python37\\lib\\site-packages (from folium==0.10.1->cellyzer==1.1.2) (2.23.0)\n",
      "Requirement already satisfied: jinja2>=2.9 in c:\\users\\wageeshabangamuarach\\appdata\\local\\programs\\python\\python37\\lib\\site-packages (from folium==0.10.1->cellyzer==1.1.2) (2.11.1)\n",
      "Requirement already satisfied: traitlets>=4.2 in c:\\users\\wageeshabangamuarach\\appdata\\local\\programs\\python\\python37\\lib\\site-packages (from IPython->cellyzer==1.1.2) (4.3.3)\n",
      "Requirement already satisfied: pickleshare in c:\\users\\wageeshabangamuarach\\appdata\\local\\programs\\python\\python37\\lib\\site-packages (from IPython->cellyzer==1.1.2) (0.7.5)\n",
      "Requirement already satisfied: colorama; sys_platform == \"win32\" in c:\\users\\wageeshabangamuarach\\appdata\\local\\programs\\python\\python37\\lib\\site-packages (from IPython->cellyzer==1.1.2) (0.4.3)\n",
      "Requirement already satisfied: setuptools>=18.5 in c:\\users\\wageeshabangamuarach\\appdata\\local\\programs\\python\\python37\\lib\\site-packages (from IPython->cellyzer==1.1.2) (39.0.1)\n",
      "Requirement already satisfied: decorator in c:\\users\\wageeshabangamuarach\\appdata\\local\\programs\\python\\python37\\lib\\site-packages (from IPython->cellyzer==1.1.2) (4.4.2)\n",
      "Requirement already satisfied: backcall in c:\\users\\wageeshabangamuarach\\appdata\\local\\programs\\python\\python37\\lib\\site-packages (from IPython->cellyzer==1.1.2) (0.1.0)\n",
      "Requirement already satisfied: prompt-toolkit!=3.0.0,!=3.0.1,<3.1.0,>=2.0.0 in c:\\users\\wageeshabangamuarach\\appdata\\local\\programs\\python\\python37\\lib\\site-packages (from IPython->cellyzer==1.1.2) (3.0.5)\n",
      "Requirement already satisfied: pygments in c:\\users\\wageeshabangamuarach\\appdata\\local\\programs\\python\\python37\\lib\\site-packages (from IPython->cellyzer==1.1.2) (2.6.1)\n",
      "Requirement already satisfied: jedi>=0.10 in c:\\users\\wageeshabangamuarach\\appdata\\local\\programs\\python\\python37\\lib\\site-packages (from IPython->cellyzer==1.1.2) (0.16.0)\n",
      "Requirement already satisfied: pytz in c:\\users\\wageeshabangamuarach\\appdata\\local\\programs\\python\\python37\\lib\\site-packages (from datetime==4.3->cellyzer==1.1.2) (2019.3)\n",
      "Requirement already satisfied: zope.interface in c:\\users\\wageeshabangamuarach\\appdata\\local\\programs\\python\\python37\\lib\\site-packages (from datetime==4.3->cellyzer==1.1.2) (5.1.0)\n",
      "Requirement already satisfied: six in c:\\users\\wageeshabangamuarach\\appdata\\local\\programs\\python\\python37\\lib\\site-packages (from cycler>=0.10->matplotlib==3.2.1->cellyzer==1.1.2) (1.14.0)\n",
      "Requirement already satisfied: idna<3,>=2.5 in c:\\users\\wageeshabangamuarach\\appdata\\local\\programs\\python\\python37\\lib\\site-packages (from requests->folium==0.10.1->cellyzer==1.1.2) (2.9)\n",
      "Requirement already satisfied: certifi>=2017.4.17 in c:\\users\\wageeshabangamuarach\\appdata\\local\\programs\\python\\python37\\lib\\site-packages (from requests->folium==0.10.1->cellyzer==1.1.2) (2020.4.5.1)\n",
      "Requirement already satisfied: chardet<4,>=3.0.2 in c:\\users\\wageeshabangamuarach\\appdata\\local\\programs\\python\\python37\\lib\\site-packages (from requests->folium==0.10.1->cellyzer==1.1.2) (3.0.4)\n",
      "Requirement already satisfied: urllib3!=1.25.0,!=1.25.1,<1.26,>=1.21.1 in c:\\users\\wageeshabangamuarach\\appdata\\local\\programs\\python\\python37\\lib\\site-packages (from requests->folium==0.10.1->cellyzer==1.1.2) (1.25.8)\n",
      "Requirement already satisfied: MarkupSafe>=0.23 in c:\\users\\wageeshabangamuarach\\appdata\\local\\programs\\python\\python37\\lib\\site-packages (from jinja2>=2.9->folium==0.10.1->cellyzer==1.1.2) (1.1.1)\n",
      "Requirement already satisfied: ipython-genutils in c:\\users\\wageeshabangamuarach\\appdata\\local\\programs\\python\\python37\\lib\\site-packages (from traitlets>=4.2->IPython->cellyzer==1.1.2) (0.2.0)\n",
      "Requirement already satisfied: wcwidth in c:\\users\\wageeshabangamuarach\\appdata\\local\\programs\\python\\python37\\lib\\site-packages (from prompt-toolkit!=3.0.0,!=3.0.1,<3.1.0,>=2.0.0->IPython->cellyzer==1.1.2) (0.1.9)\n",
      "Requirement already satisfied: parso>=0.5.2 in c:\\users\\wageeshabangamuarach\\appdata\\local\\programs\\python\\python37\\lib\\site-packages (from jedi>=0.10->IPython->cellyzer==1.1.2) (0.6.2)\n"
     ]
    }
   ],
   "source": [
    "pip install cellyzer==1.1.2"
   ]
  },
  {
   "cell_type": "code",
   "execution_count": 2,
   "metadata": {},
   "outputs": [
    {
     "name": "stdout",
     "output_type": "stream",
     "text": [
      "[WinError 183] Cannot create a file when that file already exists: 'outputs'\n"
     ]
    }
   ],
   "source": [
    "import cellyzer as cz"
   ]
  },
  {
   "cell_type": "markdown",
   "metadata": {},
   "source": [
    "# read message data csv file"
   ]
  },
  {
   "cell_type": "code",
   "execution_count": 41,
   "metadata": {},
   "outputs": [
    {
     "name": "stdout",
     "output_type": "stream",
     "text": [
      "[x]  Reading Message Data...\n",
      "[x]  Objects creation successful\n",
      "\n"
     ]
    }
   ],
   "source": [
    "msg_file_path = \"demo_datasets/long_data/messages_.csv\"\n",
    "messageDataSet = cz.read_msg(msg_file_path)"
   ]
  },
  {
   "cell_type": "markdown",
   "metadata": {},
   "source": [
    "# print data set"
   ]
  },
  {
   "cell_type": "code",
   "execution_count": 8,
   "metadata": {
    "collapsed": true
   },
   "outputs": [
    {
     "name": "stdout",
     "output_type": "stream",
     "text": [
      "\n",
      " >>> Message Dataset :\n",
      "+------------+-------------+------------+---------+--------------------------------+\n",
      "|   _user    | _other_user | _direction | _length |           _timestamp           |\n",
      "+------------+-------------+------------+---------+--------------------------------+\n",
      "| d235863694 | e59cd92671  |  Incoming  |   28    | Wed Sep 15 19:01:54 +0100 2010 |\n",
      "| 07f0750117 | 4b1c2de436  |  Incoming  |    7    | Mon Feb 11 07:08:49 +0000 1980 |\n",
      "| 07f0750117 | 4b1c2de436  |  Outgoing  |    6    | Mon Feb 11 07:14:05 +0000 1980 |\n",
      "| 07f0750117 | 9bf7b67897  |  Outgoing  |   41    | Thu Sep 09 21:43:44 +0100 2010 |\n",
      "| 9bf7b67897 | 25efbc7582  |  Outgoing  |   75    | Mon Jan 07 22:58:28 +0000 1980 |\n",
      "|            |             |            |         |                                |\n",
      "| f0ad111587 | 505d932638  |  Outgoing  |   49    | Tue Feb 22 20:36:22 +0000 2011 |\n",
      "| f0ad111587 | acef226930  |  Incoming  |   57    | Tue Feb 22 21:13:57 +0000 2011 |\n",
      "| f0ad111587 | 505d932638  |  Incoming  |   149   | Tue Feb 22 21:19:27 +0000 2011 |\n",
      "| f0ad111587 | 505d932638  |  Outgoing  |   63    | Tue Feb 22 21:23:21 +0000 2011 |\n",
      "| f0ad111587 | 634c801066  |  Incoming  |   57    | Wed Feb 23 01:22:27 +0000 2011 |\n",
      "+------------+-------------+------------+---------+--------------------------------+\n"
     ]
    },
    {
     "data": {
      "text/plain": [
       "[['_user', '_other_user', '_direction', '_length', '_timestamp'],\n",
       " [{'_user': 'd235863694',\n",
       "   '_other_user': 'e59cd92671',\n",
       "   '_direction': 'Incoming',\n",
       "   '_length': '28',\n",
       "   '_timestamp': 'Wed Sep 15 19:01:54 +0100 2010'},\n",
       "  {'_user': '07f0750117',\n",
       "   '_other_user': '4b1c2de436',\n",
       "   '_direction': 'Incoming',\n",
       "   '_length': '7',\n",
       "   '_timestamp': 'Mon Feb 11 07:08:49 +0000 1980'},\n",
       "  {'_user': '07f0750117',\n",
       "   '_other_user': '4b1c2de436',\n",
       "   '_direction': 'Outgoing',\n",
       "   '_length': '6',\n",
       "   '_timestamp': 'Mon Feb 11 07:14:05 +0000 1980'},\n",
       "  {'_user': '07f0750117',\n",
       "   '_other_user': '9bf7b67897',\n",
       "   '_direction': 'Outgoing',\n",
       "   '_length': '41',\n",
       "   '_timestamp': 'Thu Sep 09 21:43:44 +0100 2010'},\n",
       "  {'_user': '9bf7b67897',\n",
       "   '_other_user': '25efbc7582',\n",
       "   '_direction': 'Outgoing',\n",
       "   '_length': '75',\n",
       "   '_timestamp': 'Mon Jan 07 22:58:28 +0000 1980'},\n",
       "  {},\n",
       "  {'_user': 'f0ad111587',\n",
       "   '_other_user': '505d932638',\n",
       "   '_direction': 'Outgoing',\n",
       "   '_length': '49',\n",
       "   '_timestamp': 'Tue Feb 22 20:36:22 +0000 2011'},\n",
       "  {'_user': 'f0ad111587',\n",
       "   '_other_user': 'acef226930',\n",
       "   '_direction': 'Incoming',\n",
       "   '_length': '57',\n",
       "   '_timestamp': 'Tue Feb 22 21:13:57 +0000 2011'},\n",
       "  {'_user': 'f0ad111587',\n",
       "   '_other_user': '505d932638',\n",
       "   '_direction': 'Incoming',\n",
       "   '_length': '149',\n",
       "   '_timestamp': 'Tue Feb 22 21:19:27 +0000 2011'},\n",
       "  {'_user': 'f0ad111587',\n",
       "   '_other_user': '505d932638',\n",
       "   '_direction': 'Outgoing',\n",
       "   '_length': '63',\n",
       "   '_timestamp': 'Tue Feb 22 21:23:21 +0000 2011'},\n",
       "  {'_user': 'f0ad111587',\n",
       "   '_other_user': '634c801066',\n",
       "   '_direction': 'Incoming',\n",
       "   '_length': '57',\n",
       "   '_timestamp': 'Wed Feb 23 01:22:27 +0000 2011'}]]"
      ]
     },
     "execution_count": 8,
     "metadata": {},
     "output_type": "execute_result"
    }
   ],
   "source": [
    "cz.utils.print_dataset(messageDataSet, name=\"Message Dataset\")"
   ]
  },
  {
   "cell_type": "markdown",
   "metadata": {},
   "source": [
    "# get all users"
   ]
  },
  {
   "cell_type": "code",
   "execution_count": 9,
   "metadata": {
    "collapsed": true
   },
   "outputs": [
    {
     "name": "stdout",
     "output_type": "stream",
     "text": [
      "All Users : ['d235863694', 'e59cd92671', '07f0750117', '4b1c2de436', '9bf7b67897', '25efbc7582', '9ac45dd266', '18423b0678', 'd566e7c895', '2d06370441', '7830238088', '31da1a06', '9d3972d791', '71198e5918', '7ea5f98842', '1675fe3388', '6ca8b94106', '1784e0f349', 'a255120066', '9da4249361', 'cd5dd77566', '8736b41058', '456fe81598', 'ccf5870348', '7ce11f4521', '51f7f9d702', '443cf67135', '8ef0e8d175', '405d059328', '02eba2e407', '1ca0d77459', 'e6436d8225', '45bc97c000', '981b45f766', '823d354152', '67367e8101', '5ff92f4346', '0c090a0446', '88c74d5020', '1e705bc995', '48c95c9167', 'bbaa52e864', 'a66c7b6163', '6f60c58713', '5a5a92f232', '76ee765303', '6a78983359', '01800c8869', 'f0ad111587', '163e4d7485', '4cb19fc761', '085972b492', '0f1c0ac474', 'eaebfcc731', '1a1a51e655', 'ad86b54306', '4b3c75a960', '603f97f795', '9c68f4e077', 'fb1d288324', '51960bc413', '8dacb2c922', 'a9b9993617', 'c5fcb5d393', '8ce0d3e408', '4cd672c427', '894b998148', '2409361215', '879ef0c492', '1b15417069', 'f02c817429', 'acef226930', 'fc8ba37438', 'd193802533', '13294d8055', '2be985f658', 'f960d2d319', '25cefa6924', 'c911d13829', '534cb0a743', '10a631c393', 'b6a7971544', 'd542374213', 'd0cd49b172', '548a258621', 'ecc835d233', '142c658368', 'e47e1d2744', '0c94208404', 'b458e77788', '74e6f6f984', '5b947b6358', '745ad33425', '75c00e5059', 'c351c12302', '0ba0548921', 'a044acc386', 'fc2cee9413', 'e5d6c51447', '3c4c7d8898', 'fde837c803', '10898a0477', 'fbea689264', '5fc1883456', '0173e9d546', '71409c3937', '6d4276e003', '8731c85057', 'e37bc16322', '96d4320649', '3ed32b3736', '7c056ba382', 'ee22011771', 'bda2f8a238', 'b571046498', 'e988ea1450', '0c77a72812', '42f8df4844', '2b9bd5f904', '910145b056', 'a27be73049', 'ff0328c233', '87a7254157', 'f946459699', 'd4a607a542', '2bdce00254', '7a38d03194', '5318257073', '6b3c043261', 'e6253ed998', 'c4efc7c082', 'ee26b78344', 'b27ada0636', 'f7faf47697', 'bcc9361125', '543bb5d571', 'e2116fa841', '92665eb076', '26359f9429', '26b13dd719', 'a5fabb2453', '382712f627', '0b60236168', '1249f7a599', 'f6e03bd617', '296e9e4409', '8284184344', '6786024981', '8e00ae6693', '4e6754b218', 'e96075c548', 'de507c9275', '8d7ea38358', '2cd0f3c764', '7d5c7ce202', 'a48e87d907', 'd921523720', '8e4aab4486', 'e987b24894', '3a8c3f7233', '41c41d1354', '09d2683042', '028246b483', '9473afc238', 'fddda72517', '4753a64044', '5f6c956679', '44d5e8e513', 'a764fa6599', 'fc40bb1647', '81924f0771', '5d43680655', '1693bcd613', '38185b3646', 'ef16267853', 'fbe2283421', '55435b1077', '1574f84463', 'd87ed6d817', '8abdad8810', '6214572105', '2c2546c107', 'ac56d86655', 'de2017d738', 'ea89662542', 'ad56512331', 'd7f49b3636', 'dfb43e2461', '9fe3ea8008', 'fc893ba776', '5fb9865236', '635c4a9209', 'aa7b581120', 'ec2328f496', 'c92517b592', '04389d5122', '87de32c873', '7d40f8c166', 'd305c9f785', '5d7b8b7793', '30fd7c3924', '46a068a486', 'c8f9209336', '1bdf94f771', 'ea83f7f324', 'c8a9af5398', 'e7ad6e3122', '0497aa4192', 'df3ae65077', 'a39d0e4773', '168f065544', '17aaa6d686', '82e374f820', '97933ad451', '1fcbad8779', '3bbbaa4160', '7caa84f896', 'f60fa16242', 'bd51e35571', '3ab889d631', '1b4c072869', '3b0fabf718', '955927d487', '54ddc36520', 'e2f6569690', '026f642228', '28dc108698', '4aa56a7146', 'c27acac631', '1be146a918', '149dbe0753', '8760c57690', '0436092778', 'f3a4a08550', '96f6d06945', 'dc347fb385', '77b8b5d072', '8fe484b403', 'aea637e678', '367881b218', '955a1e6469', 'c6e17b1110', 'eeea933566', '49fda78851', '7445bef730', 'd2cd3a4867', '935cb1d044', 'a26150f411', '79c8a0e601', '7a352ca496', 'eed0175758', '7d83b10874', '037a764848', '77475c8907', '64610ac208', 'b653b86192', '66b97ac619', 'd072778885', 'fec5c92094', '6f8ace9077', '261632d960', '3cd5370091', '236e7ec584', '77d2673214', 'ff58c99200', '55ce3f1120', 'd950dab409', '0fa5881531', '3865b75329', 'e5549c9076', 'bf88bba639', '9fda380486', '30c5fd1669', '19314d7829', '0e13b8a072', '4457e27475', 'b46c0ef861', '0ea6149759', '9c41e79493', '4894c6a098', '14d606d452', '23ad482541', 'f55a229600', '17fb1a4980', '22bb689883', 'd6792a6273', '7e5328d052', 'e7a7e72401', '443cf67749', '42c7f1d434', '3f43810583', '0c5ed11632', 'ee55dcc398', 'b56fa5e782', '18b14d2120', 'a9d3b45029', 'c572d11986', '71779e4255', '836657a556', '49f8ee2742', '507e966156', '8e89425980', 'bc2c87c464', 'bf363c0432', 'f7ae96b016', 'f044100026', 'fe7c53f701', '103cb45669', '75111b4041', '90a90e9961', '52ee6f0455', 'b079d0d474', '1472076820', '6e9d593242', '066a74b401', '68f02c9693', '40bdc95634', '7aab9dd072', 'f739eb9190', '30b0cd5233', 'dc59413071', '0e9a1f5039', '976f690850', '86496fa741', '74aeb98260', '31b8b9a224', 'f34407b018', 'd175aac672', '4c1e4f5700', '8bf6330112', '5894155278', 'f10fd91360', '684b778908', '9d7a2ec406', '8615ff0579', 'e80206d132', '511f739143', '46ca47c775', '4650d4a484', '7964506938', 'c68282a863', '26cadb7667', 'e5df62a190', 'a59b50f526', '4b1c2de444', 'f8ca64a228', '688d508020', '9bc233e646', '6c90e96944', 'ce2d903205', '694eb5a639', '124f733654', '4cfc3a13', 'c694ae3968', 'b304022908', 'cab7b53920', '4b58ca0192', '193fcec567', '5000e5d778', 'cba4f63676', 'd897ef3243', '262d443257', '4641bde474', 'b65a2fa225', '165060b443', '032d974780', '54abf60694', '91f4ff8059', '140eec5017', 'f63b8ef901', '09e5b8e133', '21f4f39327', '8fb1570585', '9e8b0f3982', '41ad3dd593', '48d973d170', '1c53976949', '17f5b08509', '0aaa116510', '9c67e90462', '0867ca6901', 'f686cdc117', '8b3fa7b927', '7cce95c206', 'de01a96051', '5d2f933911', '9ffdbfa401', '28a046a248', 'c2e7c0f303', 'f924a75149', '66ea1fa495', 'e78e740212', 'c5dc121038', '6498e8d357', '3746b05585', '8bde872421', 'eb52c2e374', '7d92a85195', '6008a99621', '6521010750', '5d88ffb142', '7f28f4c813', '85cad9d863', '1b6734f425', 'e798205239', '342d020580', 'e0f7243766', 'ea46029177', 'bb737cf093', '65c7d23174', '0e6e7dd002', 'f4f6a31067', '0b05033777', 'cece0b3886', '22df3e2046', '3b0ba13231', '90183b5879', '2dfb666244', '18f41f8851', '14a2f43821', '2c93c62128', '1eec7cf128', '9e042aa355', '9f48edf373', '23ac2a7643', 'f581b2c010', '9e1d0a3778', '7241bfb444', '325828a815', 'e8aefa5708', '4182e89147', '3d4e227226', '54342fe733', 'f94c7e4820', '94b4b06113', '7420efe942', '0b807d9931', '965f96b660', 'b8b97d3894', '1a11ff7571', 'a911bd9676', '238aece285', '05884dc013', '88a87b6516', '6b18f9a273', 'cdb793c165', 'a62b83f875', '4190094849', 'fcd028c773', 'd03c06a579', 'ff61b69367', '5befa7f144', 'bc0893a214', 'db998ac549', '135b609656', 'b5d7ebf479', '0657e58440', 'ca48d95050', 'f76bb8d291', 'ebe74bc758', '9a8d984377', 'c309151484', '5e472e7917', 'f12d685750', '6c3e72a966', 'ccdbc1e912', '0031ff8114', '824705d900', 'a82a44a637', '1ddf8ba961', '22b366d720', '0adaa4e342', '423e1a4153', '623f23e124', 'ee4f52a838', 'ff2dfae598', '96d323d013', '24f7a6a273', '16e0516851', '8df75d2090', 'd9063ed069', '47443d2606', '766d225369', '347e876479', '31cfac2704', '8275c0a738', '5ff70d6000', 'fee77d9338', '4e4b43b678', '45c3375200', '26d39ad571', '0af1e5a875', '27adca4274', '189520d485', '16641c0580', '466827a659', '13580b0587', 'f0e46f1471', 'cfdfe78358', '7ac06fe370', '4b52c80942', '634c801066', '07fef5a534', '53c8bae841', 'a59b527473', '773575d085', '422266c471', '38d30ec511', 'c06e7d5960', 'e3d8eb7414', 'bf3be75855', '9610c88218', '0ac5fc2927', 'ef688d9701', '0f71be6070', '3517ef9022', '918fe05393', '12e8b13985', '86f75b4320', '368c42a068', 'cc5cc87543', '4a7e73c266', 'f187567819', 'e2b657b224', '4d18a48956', '63bd60e295', 'd7a9e16655', 'e61b02e514', 'd14a028', '1b937e3559', '938da7a804', '08d8c6e791', '81b6e67619', 'ac625c6432', '6886506267', '2feaed7026', '25d6248726', 'c1ddd31182', '6af5185345', '847c5fa138', 'c5a0bfc439', '505d932638'] \n",
      "\n"
     ]
    }
   ],
   "source": [
    "all_users = messageDataSet.get_all_users()\n",
    "print(\"All Users : %s \\n\" % all_users)"
   ]
  },
  {
   "cell_type": "code",
   "execution_count": 27,
   "metadata": {},
   "outputs": [],
   "source": [
    "search_user1 = \"d235863694\"\n",
    "search_user2 = \"e59cd92671\"\n",
    "search_user3 = \"163e4d7485\""
   ]
  },
  {
   "cell_type": "markdown",
   "metadata": {},
   "source": [
    "# get all connected users of a specific user"
   ]
  },
  {
   "cell_type": "code",
   "execution_count": 13,
   "metadata": {},
   "outputs": [
    {
     "name": "stdout",
     "output_type": "stream",
     "text": [
      "Users connected to d235863694 : ['e59cd92671', '18423b0678', '0c090a0446', 'd566e7c895', '4cd672c427', '5318257073', '6b3c043261', '07f0750117', '6ca8b94106', '0b60236168', 'df3ae65077', '894b998148', '9bf7b67897', '0497aa4192', 'c572d11986', '1675fe3388'] \n",
      "\n"
     ]
    }
   ],
   "source": [
    "connected_users = messageDataSet.get_connected_users(search_user1)\n",
    "print(\"Users connected to %s : %s \\n\" % (search_user1, connected_users))"
   ]
  },
  {
   "cell_type": "markdown",
   "metadata": {},
   "source": [
    "# get records between two selected users"
   ]
  },
  {
   "cell_type": "code",
   "execution_count": 14,
   "metadata": {},
   "outputs": [
    {
     "name": "stdout",
     "output_type": "stream",
     "text": [
      "{'_user': 'd235863694', '_other_user': 'e59cd92671', '_direction': 'Incoming', '_length': '28', '_timestamp': 'Wed Sep 15 19:01:54 +0100 2010'}\n"
     ]
    }
   ],
   "source": [
    "user_record_list = messageDataSet.get_records(search_user1, search_user2)\n",
    "cz.utils.print_record_lists(user_record_list)"
   ]
  },
  {
   "cell_type": "code",
   "execution_count": 9,
   "metadata": {
    "collapsed": true
   },
   "outputs": [
    {
     "name": "stdout",
     "output_type": "stream",
     "text": [
      "\n",
      " >>> User Records of 0041628436 & 329233d117 :\n",
      "+------------+-------------+------------+---------+--------------------------------+\n",
      "|   _user    | _other_user | _direction | _length |           _timestamp           |\n",
      "+------------+-------------+------------+---------+--------------------------------+\n",
      "| 329233d117 | 0041628436  |  Incoming  |    7    | Mon Feb 11 07:08:49 +0000 1980 |\n",
      "| 329233d117 | 0041628436  |  Outgoing  |    6    | Mon Feb 11 07:14:05 +0000 1980 |\n",
      "+------------+-------------+------------+---------+--------------------------------+\n"
     ]
    }
   ],
   "source": [
    "user_message_dataset = cz.MessageDataSet(user_record_list)\n",
    "cz.utils.print_dataset(user_message_dataset, name=\"User Records of %s\" % search_user1 + \" & \" + search_user2)\n"
   ]
  },
  {
   "cell_type": "markdown",
   "metadata": {},
   "source": [
    "# visualize connections between all users"
   ]
  },
  {
   "cell_type": "code",
   "execution_count": 15,
   "metadata": {},
   "outputs": [
    {
     "name": "stdout",
     "output_type": "stream",
     "text": [
      "Matrix Length :  542\n"
     ]
    }
   ],
   "source": [
    "messageDataSet.print_connection_matrix()"
   ]
  },
  {
   "cell_type": "code",
   "execution_count": 38,
   "metadata": {},
   "outputs": [],
   "source": [
    "search_user_list = [\"a27be73049\", \"e59cd92671\"]\n",
    "messageDataSet.visualize_connection_network(users=search_user_list, gui=True, fig_id = \"msg_1\")"
   ]
  },
  {
   "cell_type": "markdown",
   "metadata": {},
   "source": [
    "# get close contacts(default top 5) of a selected user"
   ]
  },
  {
   "cell_type": "code",
   "execution_count": 39,
   "metadata": {},
   "outputs": [
    {
     "name": "stdout",
     "output_type": "stream",
     "text": [
      ">> close contacts of 163e4d7485 :\n",
      "+------------+----------------------------------+\n",
      "| contact no | no of interactions between users |\n",
      "+------------+----------------------------------+\n",
      "| 4b3c75a960 |                39                |\n",
      "| 6a78983359 |                23                |\n",
      "| f0ad111587 |                6                 |\n",
      "| 76ee765303 |                4                 |\n",
      "| 96d4320649 |                2                 |\n",
      "+------------+----------------------------------+\n"
     ]
    }
   ],
   "source": [
    "close_contacts = messageDataSet.get_close_contacts(search_user3, top_contact=5)\n",
    "print(\">> close contacts of %s :\" % search_user3)\n",
    "cz.utils.print_close_contacts(close_contacts)"
   ]
  },
  {
   "cell_type": "code",
   "execution_count": null,
   "metadata": {},
   "outputs": [],
   "source": []
  },
  {
   "cell_type": "code",
   "execution_count": null,
   "metadata": {},
   "outputs": [],
   "source": []
  }
 ],
 "metadata": {
  "kernelspec": {
   "display_name": "Python 3",
   "language": "python",
   "name": "python3"
  },
  "language_info": {
   "codemirror_mode": {
    "name": "ipython",
    "version": 3
   },
   "file_extension": ".py",
   "mimetype": "text/x-python",
   "name": "python",
   "nbconvert_exporter": "python",
   "pygments_lexer": "ipython3",
   "version": "3.7.0"
  }
 },
 "nbformat": 4,
 "nbformat_minor": 4
}
