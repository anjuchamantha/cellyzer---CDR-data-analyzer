{
 "cells": [
  {
   "cell_type": "code",
   "execution_count": 1,
   "metadata": {
    "collapsed": true
   },
   "outputs": [
    {
     "name": "stdout",
     "output_type": "stream",
     "text": [
      "Requirement already satisfied: xlrd in c:\\users\\wageeshabangamuarach\\appdata\\local\\programs\\python\\python37\\lib\\site-packages (1.2.0)\n"
     ]
    },
    {
     "name": "stderr",
     "output_type": "stream",
     "text": [
      "You are using pip version 10.0.1, however version 20.0.2 is available.\n",
      "You should consider upgrading via the 'python -m pip install --upgrade pip' command.\n"
     ]
    },
    {
     "name": "stdout",
     "output_type": "stream",
     "text": [
      "Requirement already satisfied: numpy in c:\\users\\wageeshabangamuarach\\appdata\\local\\programs\\python\\python37\\lib\\site-packages (1.18.2)\n"
     ]
    },
    {
     "name": "stderr",
     "output_type": "stream",
     "text": [
      "You are using pip version 10.0.1, however version 20.0.2 is available.\n",
      "You should consider upgrading via the 'python -m pip install --upgrade pip' command.\n"
     ]
    },
    {
     "name": "stdout",
     "output_type": "stream",
     "text": [
      "Requirement already satisfied: tabulate in c:\\users\\wageeshabangamuarach\\appdata\\local\\programs\\python\\python37\\lib\\site-packages (0.8.7)\n"
     ]
    },
    {
     "name": "stderr",
     "output_type": "stream",
     "text": [
      "You are using pip version 10.0.1, however version 20.0.2 is available.\n",
      "You should consider upgrading via the 'python -m pip install --upgrade pip' command.\n"
     ]
    },
    {
     "name": "stdout",
     "output_type": "stream",
     "text": [
      "Requirement already satisfied: datetime in c:\\users\\wageeshabangamuarach\\appdata\\local\\programs\\python\\python37\\lib\\site-packages (4.3)\n",
      "Requirement already satisfied: pytz in c:\\users\\wageeshabangamuarach\\appdata\\local\\programs\\python\\python37\\lib\\site-packages (from datetime) (2019.3)\n",
      "Requirement already satisfied: zope.interface in c:\\users\\wageeshabangamuarach\\appdata\\local\\programs\\python\\python37\\lib\\site-packages (from datetime) (5.1.0)\n",
      "Requirement already satisfied: setuptools in c:\\users\\wageeshabangamuarach\\appdata\\local\\programs\\python\\python37\\lib\\site-packages (from zope.interface->datetime) (39.0.1)\n"
     ]
    },
    {
     "name": "stderr",
     "output_type": "stream",
     "text": [
      "You are using pip version 10.0.1, however version 20.0.2 is available.\n",
      "You should consider upgrading via the 'python -m pip install --upgrade pip' command.\n"
     ]
    },
    {
     "name": "stdout",
     "output_type": "stream",
     "text": [
      "Requirement already satisfied: networkx in c:\\users\\wageeshabangamuarach\\appdata\\local\\programs\\python\\python37\\lib\\site-packages (2.4)\n",
      "Requirement already satisfied: decorator>=4.3.0 in c:\\users\\wageeshabangamuarach\\appdata\\local\\programs\\python\\python37\\lib\\site-packages (from networkx) (4.4.2)\n"
     ]
    },
    {
     "name": "stderr",
     "output_type": "stream",
     "text": [
      "You are using pip version 10.0.1, however version 20.0.2 is available.\n",
      "You should consider upgrading via the 'python -m pip install --upgrade pip' command.\n"
     ]
    },
    {
     "name": "stdout",
     "output_type": "stream",
     "text": [
      "Requirement already satisfied: matplotlib in c:\\users\\wageeshabangamuarach\\appdata\\local\\programs\\python\\python37\\lib\\site-packages (3.2.1)\n",
      "Requirement already satisfied: pyparsing!=2.0.4,!=2.1.2,!=2.1.6,>=2.0.1 in c:\\users\\wageeshabangamuarach\\appdata\\local\\programs\\python\\python37\\lib\\site-packages (from matplotlib) (2.4.6)\n",
      "Requirement already satisfied: numpy>=1.11 in c:\\users\\wageeshabangamuarach\\appdata\\local\\programs\\python\\python37\\lib\\site-packages (from matplotlib) (1.18.2)\n",
      "Requirement already satisfied: python-dateutil>=2.1 in c:\\users\\wageeshabangamuarach\\appdata\\local\\programs\\python\\python37\\lib\\site-packages (from matplotlib) (2.8.1)\n",
      "Requirement already satisfied: cycler>=0.10 in c:\\users\\wageeshabangamuarach\\appdata\\local\\programs\\python\\python37\\lib\\site-packages (from matplotlib) (0.10.0)\n",
      "Requirement already satisfied: kiwisolver>=1.0.1 in c:\\users\\wageeshabangamuarach\\appdata\\local\\programs\\python\\python37\\lib\\site-packages (from matplotlib) (1.1.0)\n",
      "Requirement already satisfied: six>=1.5 in c:\\users\\wageeshabangamuarach\\appdata\\local\\programs\\python\\python37\\lib\\site-packages (from python-dateutil>=2.1->matplotlib) (1.14.0)\n",
      "Requirement already satisfied: setuptools in c:\\users\\wageeshabangamuarach\\appdata\\local\\programs\\python\\python37\\lib\\site-packages (from kiwisolver>=1.0.1->matplotlib) (39.0.1)\n"
     ]
    },
    {
     "name": "stderr",
     "output_type": "stream",
     "text": [
      "You are using pip version 10.0.1, however version 20.0.2 is available.\n",
      "You should consider upgrading via the 'python -m pip install --upgrade pip' command.\n"
     ]
    }
   ],
   "source": [
    "!pip install xlrd\n",
    "!pip install numpy\n",
    "!pip install tabulate\n",
    "!pip install datetime \n",
    "!pip install networkx\n",
    "!pip install matplotlib"
   ]
  },
  {
   "cell_type": "markdown",
   "metadata": {},
   "source": [
    "# import Cellyzer"
   ]
  },
  {
   "cell_type": "code",
   "execution_count": 2,
   "metadata": {},
   "outputs": [],
   "source": [
    "import cellyzer as cz"
   ]
  },
  {
   "cell_type": "markdown",
   "metadata": {},
   "source": [
    "# read call data csv file"
   ]
  },
  {
   "cell_type": "code",
   "execution_count": 3,
   "metadata": {},
   "outputs": [
    {
     "name": "stdout",
     "output_type": "stream",
     "text": [
      "[x]  Reading Call Data\n",
      "[x]  Objects creation successful\n",
      "\n"
     ]
    },
    {
     "name": "stderr",
     "output_type": "stream",
     "text": [
      "\u001b[33mWarning: 3 record(s) were removed due to missing or incomplete fields.\n",
      "         other: 3 record(s) with incomplete values\n",
      "\u001b[0m"
     ]
    }
   ],
   "source": [
    "call_file_path = \"dataset/my_test_data/calls.csv\"\n",
    "callDataSet = cz.read_call(call_file_path)"
   ]
  },
  {
   "cell_type": "markdown",
   "metadata": {},
   "source": [
    "# get all users "
   ]
  },
  {
   "cell_type": "code",
   "execution_count": 4,
   "metadata": {},
   "outputs": [
    {
     "data": {
      "text/plain": [
       "['7610039694',\n",
       " '7434677419',\n",
       " '7641036117',\n",
       " '1666472054',\n",
       " '7371326239',\n",
       " '7681546436',\n",
       " '7981267897',\n",
       " '7588304495',\n",
       " '7784425582',\n",
       " '7743039441',\n",
       " '7163185791',\n",
       " '1850897526',\n",
       " '7066875066',\n",
       " '7691640598',\n",
       " '8704500768',\n",
       " '7187432175',\n",
       " '7230262224',\n",
       " '7110730864',\n",
       " '7209670163',\n",
       " '452',\n",
       " '563',\n",
       " '7501874156',\n",
       " '7914559382',\n",
       " '1258345846']"
      ]
     },
     "execution_count": 4,
     "metadata": {},
     "output_type": "execute_result"
    }
   ],
   "source": [
    "all_users_of_calls = callDataSet.get_all_users()\n",
    "all_users_of_calls"
   ]
  },
  {
   "cell_type": "code",
   "execution_count": 5,
   "metadata": {},
   "outputs": [],
   "source": [
    "search_user_call_1 = \"7163185791\"\n",
    "search_user_call_2 = \"7187432175\""
   ]
  },
  {
   "cell_type": "markdown",
   "metadata": {},
   "source": [
    "# get all connected users of a specific user"
   ]
  },
  {
   "cell_type": "code",
   "execution_count": 6,
   "metadata": {},
   "outputs": [
    {
     "data": {
      "text/plain": [
       "['1850897526',\n",
       " '7066875066',\n",
       " '7691640598',\n",
       " '8704500768',\n",
       " '7187432175',\n",
       " '7230262224']"
      ]
     },
     "execution_count": 6,
     "metadata": {},
     "output_type": "execute_result"
    }
   ],
   "source": [
    "connected_users_calls = callDataSet.get_connected_users(search_user_call_1)\n",
    "connected_users_calls"
   ]
  },
  {
   "cell_type": "markdown",
   "metadata": {},
   "source": [
    "# get call records between two selected users"
   ]
  },
  {
   "cell_type": "code",
   "execution_count": 7,
   "metadata": {},
   "outputs": [
    {
     "name": "stdout",
     "output_type": "stream",
     "text": [
      ">> call records between 7163185791 and 7187432175\n",
      "{'user': '7163185791', 'other_user': '7187432175', 'direction': 'Outgoing', 'duration': '39', 'timestamp': 'Tue Sep 14 15:23:43 +0100 2010', 'cell_id': '2', 'cost': '2'}\n",
      "{'user': '7163185791', 'other_user': '7187432175', 'direction': 'Outgoing', 'duration': '3', 'timestamp': 'Tue Sep 14 15:27:12 +0100 2010', 'cell_id': '2', 'cost': '2'}\n",
      "{'user': '7163185791', 'other_user': '7187432175', 'direction': 'Outgoing', 'duration': '8', 'timestamp': 'Tue Sep 14 15:55:01 +0100 2010', 'cell_id': '2', 'cost': '2'}\n",
      "{'user': '7163185791', 'other_user': '7187432175', 'direction': 'Outgoing', 'duration': '8', 'timestamp': 'Wed Sep 15 15:54:26 +0100 2010', 'cell_id': '2', 'cost': '2'}\n"
     ]
    }
   ],
   "source": [
    "user_call_record_list = callDataSet.get_records(search_user_call_1, search_user_call_2)\n",
    "print(\">> call records between %s and %s\" % (search_user_call_1, search_user_call_2))\n",
    "cz.utils.print_record_lists(user_call_record_list)"
   ]
  },
  {
   "cell_type": "code",
   "execution_count": 8,
   "metadata": {},
   "outputs": [
    {
     "name": "stdout",
     "output_type": "stream",
     "text": [
      "\n",
      " >>> User Records of 7163185791 7187432175 :\n",
      "+---+------------+------------+-----------+----------+--------------------------------+---------+------+\n",
      "|   |    user    | other_user | direction | duration |           timestamp            | cell_id | cost |\n",
      "+---+------------+------------+-----------+----------+--------------------------------+---------+------+\n",
      "| 1 | 7163185791 | 7187432175 | Outgoing  |    39    | Tue Sep 14 15:23:43 +0100 2010 |    2    |  2   |\n",
      "| 2 | 7163185791 | 7187432175 | Outgoing  |    3     | Tue Sep 14 15:27:12 +0100 2010 |    2    |  2   |\n",
      "| 3 | 7163185791 | 7187432175 | Outgoing  |    8     | Tue Sep 14 15:55:01 +0100 2010 |    2    |  2   |\n",
      "| 4 | 7163185791 | 7187432175 | Outgoing  |    8     | Wed Sep 15 15:54:26 +0100 2010 |    2    |  2   |\n",
      "+---+------------+------------+-----------+----------+--------------------------------+---------+------+\n"
     ]
    }
   ],
   "source": [
    "user_call_dataset = cz.MessageDataSet(user_call_record_list)\n",
    "cz.utils.print_dataset(user_call_dataset, name=\"User Records of %s\" % search_user_call_1 + \" \" + search_user_call_2)"
   ]
  },
  {
   "cell_type": "markdown",
   "metadata": {},
   "source": [
    "# visualize connections between all users"
   ]
  },
  {
   "cell_type": "code",
   "execution_count": 9,
   "metadata": {},
   "outputs": [
    {
     "name": "stdout",
     "output_type": "stream",
     "text": [
      "+------------+------------+------------+------------+------------+------------+------------+------------+------------+------------+------------+------------+------------+------------+------------+------------+------------+------------+------------+------------+-----+-----+------------+------------+------------+\n",
      "|            | 7610039694 | 7434677419 | 7641036117 | 1666472054 | 7371326239 | 7681546436 | 7981267897 | 7588304495 | 7784425582 | 7743039441 | 7163185791 | 1850897526 | 7066875066 | 7691640598 | 8704500768 | 7187432175 | 7230262224 | 7110730864 | 7209670163 | 452 | 563 | 7501874156 | 7914559382 | 1258345846 |\n",
      "+------------+------------+------------+------------+------------+------------+------------+------------+------------+------------+------------+------------+------------+------------+------------+------------+------------+------------+------------+------------+-----+-----+------------+------------+------------+\n",
      "| 7610039694 |     .      |     1      |     .      |     .      |     .      |     .      |     .      |     .      |     .      |     .      |     .      |     .      |     .      |     .      |     .      |     .      |     .      |     .      |     .      |  .  |  .  |     .      |     .      |     .      |\n",
      "| 7434677419 |     1      |     .      |     .      |     .      |     .      |     .      |     .      |     .      |     .      |     .      |     .      |     .      |     .      |     .      |     .      |     .      |     .      |     .      |     .      |  .  |  .  |     .      |     .      |     .      |\n",
      "| 7641036117 |     .      |     .      |     .      |     1      |     1      |     3      |     2      |     1      |     .      |     .      |     .      |     .      |     .      |     .      |     .      |     .      |     .      |     .      |     .      |  .  |  .  |     .      |     .      |     .      |\n",
      "| 1666472054 |     .      |     .      |     1      |     .      |     .      |     .      |     .      |     .      |     .      |     .      |     .      |     .      |     .      |     .      |     .      |     .      |     .      |     .      |     .      |  .  |  .  |     .      |     .      |     .      |\n",
      "| 7371326239 |     .      |     .      |     1      |     .      |     .      |     .      |     .      |     .      |     .      |     .      |     .      |     .      |     .      |     .      |     .      |     .      |     .      |     .      |     .      |  .  |  .  |     .      |     .      |     .      |\n",
      "| 7681546436 |     .      |     .      |     3      |     .      |     .      |     .      |     .      |     .      |     .      |     .      |     .      |     .      |     .      |     .      |     .      |     .      |     .      |     2      |     .      |  .  |  .  |     .      |     .      |     .      |\n",
      "| 7981267897 |     .      |     .      |     2      |     .      |     .      |     .      |     .      |     .      |     5      |     2      |     .      |     .      |     .      |     .      |     .      |     .      |     .      |     .      |     .      |  .  |  .  |     .      |     .      |     .      |\n",
      "| 7588304495 |     .      |     .      |     1      |     .      |     .      |     .      |     .      |     .      |     .      |     .      |     .      |     .      |     .      |     .      |     .      |     .      |     .      |     .      |     .      |  .  |  .  |     .      |     .      |     .      |\n",
      "| 7784425582 |     .      |     .      |     .      |     .      |     .      |     .      |     5      |     .      |     .      |     .      |     .      |     .      |     .      |     .      |     .      |     .      |     .      |     1      |     .      |  .  |  .  |     .      |     .      |     .      |\n",
      "| 7743039441 |     .      |     .      |     .      |     .      |     .      |     .      |     2      |     .      |     .      |     .      |     .      |     .      |     .      |     .      |     .      |     .      |     .      |     .      |     .      |  .  |  .  |     .      |     .      |     .      |\n",
      "| 7163185791 |     .      |     .      |     .      |     .      |     .      |     .      |     .      |     .      |     .      |     .      |     .      |     1      |     2      |     2      |     3      |     4      |     1      |     .      |     .      |  .  |  .  |     .      |     .      |     .      |\n",
      "| 1850897526 |     .      |     .      |     .      |     .      |     .      |     .      |     .      |     .      |     .      |     .      |     1      |     .      |     .      |     .      |     .      |     .      |     .      |     .      |     .      |  .  |  .  |     .      |     .      |     .      |\n",
      "| 7066875066 |     .      |     .      |     .      |     .      |     .      |     .      |     .      |     .      |     .      |     .      |     2      |     .      |     .      |     .      |     .      |     .      |     .      |     .      |     .      |  .  |  .  |     .      |     .      |     .      |\n",
      "| 7691640598 |     .      |     .      |     .      |     .      |     .      |     .      |     .      |     .      |     .      |     .      |     2      |     .      |     .      |     .      |     .      |     .      |     .      |     .      |     .      |  .  |  .  |     .      |     .      |     .      |\n",
      "| 8704500768 |     .      |     .      |     .      |     .      |     .      |     .      |     .      |     .      |     .      |     .      |     3      |     .      |     .      |     .      |     .      |     .      |     .      |     .      |     .      |  .  |  .  |     .      |     .      |     .      |\n",
      "| 7187432175 |     .      |     .      |     .      |     .      |     .      |     .      |     .      |     .      |     .      |     .      |     4      |     .      |     .      |     .      |     .      |     .      |     .      |     .      |     .      |  .  |  .  |     .      |     .      |     .      |\n",
      "| 7230262224 |     .      |     .      |     .      |     .      |     .      |     .      |     .      |     .      |     .      |     .      |     1      |     .      |     .      |     .      |     .      |     .      |     .      |     .      |     .      |  .  |  .  |     .      |     .      |     .      |\n",
      "| 7110730864 |     .      |     .      |     .      |     .      |     .      |     2      |     .      |     .      |     1      |     .      |     .      |     .      |     .      |     .      |     .      |     .      |     .      |     .      |     6      |  4  |  1  |     1      |     1      |     1      |\n",
      "| 7209670163 |     .      |     .      |     .      |     .      |     .      |     .      |     .      |     .      |     .      |     .      |     .      |     .      |     .      |     .      |     .      |     .      |     .      |     6      |     .      |  .  |  .  |     .      |     .      |     .      |\n",
      "|    452     |     .      |     .      |     .      |     .      |     .      |     .      |     .      |     .      |     .      |     .      |     .      |     .      |     .      |     .      |     .      |     .      |     .      |     4      |     .      |  .  |  .  |     .      |     .      |     .      |\n",
      "|    563     |     .      |     .      |     .      |     .      |     .      |     .      |     .      |     .      |     .      |     .      |     .      |     .      |     .      |     .      |     .      |     .      |     .      |     1      |     .      |  .  |  .  |     .      |     .      |     .      |\n",
      "| 7501874156 |     .      |     .      |     .      |     .      |     .      |     .      |     .      |     .      |     .      |     .      |     .      |     .      |     .      |     .      |     .      |     .      |     .      |     1      |     .      |  .  |  .  |     .      |     .      |     .      |\n",
      "| 7914559382 |     .      |     .      |     .      |     .      |     .      |     .      |     .      |     .      |     .      |     .      |     .      |     .      |     .      |     .      |     .      |     .      |     .      |     1      |     .      |  .  |  .  |     .      |     .      |     .      |\n",
      "| 1258345846 |     .      |     .      |     .      |     .      |     .      |     .      |     .      |     .      |     .      |     .      |     .      |     .      |     .      |     .      |     .      |     .      |     .      |     1      |     .      |  .  |  .  |     .      |     .      |     .      |\n",
      "+------------+------------+------------+------------+------------+------------+------------+------------+------------+------------+------------+------------+------------+------------+------------+------------+------------+------------+------------+------------+-----+-----+------------+------------+------------+\n"
     ]
    },
    {
     "data": {
      "text/plain": [
       "([['7610039694',\n",
       "   '.',\n",
       "   1,\n",
       "   '.',\n",
       "   '.',\n",
       "   '.',\n",
       "   '.',\n",
       "   '.',\n",
       "   '.',\n",
       "   '.',\n",
       "   '.',\n",
       "   '.',\n",
       "   '.',\n",
       "   '.',\n",
       "   '.',\n",
       "   '.',\n",
       "   '.',\n",
       "   '.',\n",
       "   '.',\n",
       "   '.',\n",
       "   '.',\n",
       "   '.',\n",
       "   '.',\n",
       "   '.',\n",
       "   '.'],\n",
       "  ['7434677419',\n",
       "   1,\n",
       "   '.',\n",
       "   '.',\n",
       "   '.',\n",
       "   '.',\n",
       "   '.',\n",
       "   '.',\n",
       "   '.',\n",
       "   '.',\n",
       "   '.',\n",
       "   '.',\n",
       "   '.',\n",
       "   '.',\n",
       "   '.',\n",
       "   '.',\n",
       "   '.',\n",
       "   '.',\n",
       "   '.',\n",
       "   '.',\n",
       "   '.',\n",
       "   '.',\n",
       "   '.',\n",
       "   '.',\n",
       "   '.'],\n",
       "  ['7641036117',\n",
       "   '.',\n",
       "   '.',\n",
       "   '.',\n",
       "   1,\n",
       "   1,\n",
       "   3,\n",
       "   2,\n",
       "   1,\n",
       "   '.',\n",
       "   '.',\n",
       "   '.',\n",
       "   '.',\n",
       "   '.',\n",
       "   '.',\n",
       "   '.',\n",
       "   '.',\n",
       "   '.',\n",
       "   '.',\n",
       "   '.',\n",
       "   '.',\n",
       "   '.',\n",
       "   '.',\n",
       "   '.',\n",
       "   '.'],\n",
       "  ['1666472054',\n",
       "   '.',\n",
       "   '.',\n",
       "   1,\n",
       "   '.',\n",
       "   '.',\n",
       "   '.',\n",
       "   '.',\n",
       "   '.',\n",
       "   '.',\n",
       "   '.',\n",
       "   '.',\n",
       "   '.',\n",
       "   '.',\n",
       "   '.',\n",
       "   '.',\n",
       "   '.',\n",
       "   '.',\n",
       "   '.',\n",
       "   '.',\n",
       "   '.',\n",
       "   '.',\n",
       "   '.',\n",
       "   '.',\n",
       "   '.'],\n",
       "  ['7371326239',\n",
       "   '.',\n",
       "   '.',\n",
       "   1,\n",
       "   '.',\n",
       "   '.',\n",
       "   '.',\n",
       "   '.',\n",
       "   '.',\n",
       "   '.',\n",
       "   '.',\n",
       "   '.',\n",
       "   '.',\n",
       "   '.',\n",
       "   '.',\n",
       "   '.',\n",
       "   '.',\n",
       "   '.',\n",
       "   '.',\n",
       "   '.',\n",
       "   '.',\n",
       "   '.',\n",
       "   '.',\n",
       "   '.',\n",
       "   '.'],\n",
       "  ['7681546436',\n",
       "   '.',\n",
       "   '.',\n",
       "   3,\n",
       "   '.',\n",
       "   '.',\n",
       "   '.',\n",
       "   '.',\n",
       "   '.',\n",
       "   '.',\n",
       "   '.',\n",
       "   '.',\n",
       "   '.',\n",
       "   '.',\n",
       "   '.',\n",
       "   '.',\n",
       "   '.',\n",
       "   '.',\n",
       "   2,\n",
       "   '.',\n",
       "   '.',\n",
       "   '.',\n",
       "   '.',\n",
       "   '.',\n",
       "   '.'],\n",
       "  ['7981267897',\n",
       "   '.',\n",
       "   '.',\n",
       "   2,\n",
       "   '.',\n",
       "   '.',\n",
       "   '.',\n",
       "   '.',\n",
       "   '.',\n",
       "   5,\n",
       "   2,\n",
       "   '.',\n",
       "   '.',\n",
       "   '.',\n",
       "   '.',\n",
       "   '.',\n",
       "   '.',\n",
       "   '.',\n",
       "   '.',\n",
       "   '.',\n",
       "   '.',\n",
       "   '.',\n",
       "   '.',\n",
       "   '.',\n",
       "   '.'],\n",
       "  ['7588304495',\n",
       "   '.',\n",
       "   '.',\n",
       "   1,\n",
       "   '.',\n",
       "   '.',\n",
       "   '.',\n",
       "   '.',\n",
       "   '.',\n",
       "   '.',\n",
       "   '.',\n",
       "   '.',\n",
       "   '.',\n",
       "   '.',\n",
       "   '.',\n",
       "   '.',\n",
       "   '.',\n",
       "   '.',\n",
       "   '.',\n",
       "   '.',\n",
       "   '.',\n",
       "   '.',\n",
       "   '.',\n",
       "   '.',\n",
       "   '.'],\n",
       "  ['7784425582',\n",
       "   '.',\n",
       "   '.',\n",
       "   '.',\n",
       "   '.',\n",
       "   '.',\n",
       "   '.',\n",
       "   5,\n",
       "   '.',\n",
       "   '.',\n",
       "   '.',\n",
       "   '.',\n",
       "   '.',\n",
       "   '.',\n",
       "   '.',\n",
       "   '.',\n",
       "   '.',\n",
       "   '.',\n",
       "   1,\n",
       "   '.',\n",
       "   '.',\n",
       "   '.',\n",
       "   '.',\n",
       "   '.',\n",
       "   '.'],\n",
       "  ['7743039441',\n",
       "   '.',\n",
       "   '.',\n",
       "   '.',\n",
       "   '.',\n",
       "   '.',\n",
       "   '.',\n",
       "   2,\n",
       "   '.',\n",
       "   '.',\n",
       "   '.',\n",
       "   '.',\n",
       "   '.',\n",
       "   '.',\n",
       "   '.',\n",
       "   '.',\n",
       "   '.',\n",
       "   '.',\n",
       "   '.',\n",
       "   '.',\n",
       "   '.',\n",
       "   '.',\n",
       "   '.',\n",
       "   '.',\n",
       "   '.'],\n",
       "  ['7163185791',\n",
       "   '.',\n",
       "   '.',\n",
       "   '.',\n",
       "   '.',\n",
       "   '.',\n",
       "   '.',\n",
       "   '.',\n",
       "   '.',\n",
       "   '.',\n",
       "   '.',\n",
       "   '.',\n",
       "   1,\n",
       "   2,\n",
       "   2,\n",
       "   3,\n",
       "   4,\n",
       "   1,\n",
       "   '.',\n",
       "   '.',\n",
       "   '.',\n",
       "   '.',\n",
       "   '.',\n",
       "   '.',\n",
       "   '.'],\n",
       "  ['1850897526',\n",
       "   '.',\n",
       "   '.',\n",
       "   '.',\n",
       "   '.',\n",
       "   '.',\n",
       "   '.',\n",
       "   '.',\n",
       "   '.',\n",
       "   '.',\n",
       "   '.',\n",
       "   1,\n",
       "   '.',\n",
       "   '.',\n",
       "   '.',\n",
       "   '.',\n",
       "   '.',\n",
       "   '.',\n",
       "   '.',\n",
       "   '.',\n",
       "   '.',\n",
       "   '.',\n",
       "   '.',\n",
       "   '.',\n",
       "   '.'],\n",
       "  ['7066875066',\n",
       "   '.',\n",
       "   '.',\n",
       "   '.',\n",
       "   '.',\n",
       "   '.',\n",
       "   '.',\n",
       "   '.',\n",
       "   '.',\n",
       "   '.',\n",
       "   '.',\n",
       "   2,\n",
       "   '.',\n",
       "   '.',\n",
       "   '.',\n",
       "   '.',\n",
       "   '.',\n",
       "   '.',\n",
       "   '.',\n",
       "   '.',\n",
       "   '.',\n",
       "   '.',\n",
       "   '.',\n",
       "   '.',\n",
       "   '.'],\n",
       "  ['7691640598',\n",
       "   '.',\n",
       "   '.',\n",
       "   '.',\n",
       "   '.',\n",
       "   '.',\n",
       "   '.',\n",
       "   '.',\n",
       "   '.',\n",
       "   '.',\n",
       "   '.',\n",
       "   2,\n",
       "   '.',\n",
       "   '.',\n",
       "   '.',\n",
       "   '.',\n",
       "   '.',\n",
       "   '.',\n",
       "   '.',\n",
       "   '.',\n",
       "   '.',\n",
       "   '.',\n",
       "   '.',\n",
       "   '.',\n",
       "   '.'],\n",
       "  ['8704500768',\n",
       "   '.',\n",
       "   '.',\n",
       "   '.',\n",
       "   '.',\n",
       "   '.',\n",
       "   '.',\n",
       "   '.',\n",
       "   '.',\n",
       "   '.',\n",
       "   '.',\n",
       "   3,\n",
       "   '.',\n",
       "   '.',\n",
       "   '.',\n",
       "   '.',\n",
       "   '.',\n",
       "   '.',\n",
       "   '.',\n",
       "   '.',\n",
       "   '.',\n",
       "   '.',\n",
       "   '.',\n",
       "   '.',\n",
       "   '.'],\n",
       "  ['7187432175',\n",
       "   '.',\n",
       "   '.',\n",
       "   '.',\n",
       "   '.',\n",
       "   '.',\n",
       "   '.',\n",
       "   '.',\n",
       "   '.',\n",
       "   '.',\n",
       "   '.',\n",
       "   4,\n",
       "   '.',\n",
       "   '.',\n",
       "   '.',\n",
       "   '.',\n",
       "   '.',\n",
       "   '.',\n",
       "   '.',\n",
       "   '.',\n",
       "   '.',\n",
       "   '.',\n",
       "   '.',\n",
       "   '.',\n",
       "   '.'],\n",
       "  ['7230262224',\n",
       "   '.',\n",
       "   '.',\n",
       "   '.',\n",
       "   '.',\n",
       "   '.',\n",
       "   '.',\n",
       "   '.',\n",
       "   '.',\n",
       "   '.',\n",
       "   '.',\n",
       "   1,\n",
       "   '.',\n",
       "   '.',\n",
       "   '.',\n",
       "   '.',\n",
       "   '.',\n",
       "   '.',\n",
       "   '.',\n",
       "   '.',\n",
       "   '.',\n",
       "   '.',\n",
       "   '.',\n",
       "   '.',\n",
       "   '.'],\n",
       "  ['7110730864',\n",
       "   '.',\n",
       "   '.',\n",
       "   '.',\n",
       "   '.',\n",
       "   '.',\n",
       "   2,\n",
       "   '.',\n",
       "   '.',\n",
       "   1,\n",
       "   '.',\n",
       "   '.',\n",
       "   '.',\n",
       "   '.',\n",
       "   '.',\n",
       "   '.',\n",
       "   '.',\n",
       "   '.',\n",
       "   '.',\n",
       "   6,\n",
       "   4,\n",
       "   1,\n",
       "   1,\n",
       "   1,\n",
       "   1],\n",
       "  ['7209670163',\n",
       "   '.',\n",
       "   '.',\n",
       "   '.',\n",
       "   '.',\n",
       "   '.',\n",
       "   '.',\n",
       "   '.',\n",
       "   '.',\n",
       "   '.',\n",
       "   '.',\n",
       "   '.',\n",
       "   '.',\n",
       "   '.',\n",
       "   '.',\n",
       "   '.',\n",
       "   '.',\n",
       "   '.',\n",
       "   6,\n",
       "   '.',\n",
       "   '.',\n",
       "   '.',\n",
       "   '.',\n",
       "   '.',\n",
       "   '.'],\n",
       "  ['452',\n",
       "   '.',\n",
       "   '.',\n",
       "   '.',\n",
       "   '.',\n",
       "   '.',\n",
       "   '.',\n",
       "   '.',\n",
       "   '.',\n",
       "   '.',\n",
       "   '.',\n",
       "   '.',\n",
       "   '.',\n",
       "   '.',\n",
       "   '.',\n",
       "   '.',\n",
       "   '.',\n",
       "   '.',\n",
       "   4,\n",
       "   '.',\n",
       "   '.',\n",
       "   '.',\n",
       "   '.',\n",
       "   '.',\n",
       "   '.'],\n",
       "  ['563',\n",
       "   '.',\n",
       "   '.',\n",
       "   '.',\n",
       "   '.',\n",
       "   '.',\n",
       "   '.',\n",
       "   '.',\n",
       "   '.',\n",
       "   '.',\n",
       "   '.',\n",
       "   '.',\n",
       "   '.',\n",
       "   '.',\n",
       "   '.',\n",
       "   '.',\n",
       "   '.',\n",
       "   '.',\n",
       "   1,\n",
       "   '.',\n",
       "   '.',\n",
       "   '.',\n",
       "   '.',\n",
       "   '.',\n",
       "   '.'],\n",
       "  ['7501874156',\n",
       "   '.',\n",
       "   '.',\n",
       "   '.',\n",
       "   '.',\n",
       "   '.',\n",
       "   '.',\n",
       "   '.',\n",
       "   '.',\n",
       "   '.',\n",
       "   '.',\n",
       "   '.',\n",
       "   '.',\n",
       "   '.',\n",
       "   '.',\n",
       "   '.',\n",
       "   '.',\n",
       "   '.',\n",
       "   1,\n",
       "   '.',\n",
       "   '.',\n",
       "   '.',\n",
       "   '.',\n",
       "   '.',\n",
       "   '.'],\n",
       "  ['7914559382',\n",
       "   '.',\n",
       "   '.',\n",
       "   '.',\n",
       "   '.',\n",
       "   '.',\n",
       "   '.',\n",
       "   '.',\n",
       "   '.',\n",
       "   '.',\n",
       "   '.',\n",
       "   '.',\n",
       "   '.',\n",
       "   '.',\n",
       "   '.',\n",
       "   '.',\n",
       "   '.',\n",
       "   '.',\n",
       "   1,\n",
       "   '.',\n",
       "   '.',\n",
       "   '.',\n",
       "   '.',\n",
       "   '.',\n",
       "   '.'],\n",
       "  ['1258345846',\n",
       "   '.',\n",
       "   '.',\n",
       "   '.',\n",
       "   '.',\n",
       "   '.',\n",
       "   '.',\n",
       "   '.',\n",
       "   '.',\n",
       "   '.',\n",
       "   '.',\n",
       "   '.',\n",
       "   '.',\n",
       "   '.',\n",
       "   '.',\n",
       "   '.',\n",
       "   '.',\n",
       "   '.',\n",
       "   1,\n",
       "   '.',\n",
       "   '.',\n",
       "   '.',\n",
       "   '.',\n",
       "   '.',\n",
       "   '.']],\n",
       " ['',\n",
       "  '7610039694',\n",
       "  '7434677419',\n",
       "  '7641036117',\n",
       "  '1666472054',\n",
       "  '7371326239',\n",
       "  '7681546436',\n",
       "  '7981267897',\n",
       "  '7588304495',\n",
       "  '7784425582',\n",
       "  '7743039441',\n",
       "  '7163185791',\n",
       "  '1850897526',\n",
       "  '7066875066',\n",
       "  '7691640598',\n",
       "  '8704500768',\n",
       "  '7187432175',\n",
       "  '7230262224',\n",
       "  '7110730864',\n",
       "  '7209670163',\n",
       "  '452',\n",
       "  '563',\n",
       "  '7501874156',\n",
       "  '7914559382',\n",
       "  '1258345846'])"
      ]
     },
     "execution_count": 9,
     "metadata": {},
     "output_type": "execute_result"
    }
   ],
   "source": [
    "callDataSet.print_connection_matrix()"
   ]
  },
  {
   "cell_type": "code",
   "execution_count": 10,
   "metadata": {},
   "outputs": [
    {
     "data": {
      "image/png": "[encoded data removed]",
      "text/plain": [
       "<Figure size 432x288 with 1 Axes>"
      ]
     },
     "metadata": {},
     "output_type": "display_data"
    },
    {
     "data": {
      "text/plain": [
       "([['7434677419', '7610039694'],\n",
       "  ['7641036117', '1666472054'],\n",
       "  ['7371326239', '7641036117'],\n",
       "  ['7641036117', '7681546436'],\n",
       "  ['7641036117', '7681546436'],\n",
       "  ['7681546436', '7641036117'],\n",
       "  ['7641036117', '7981267897'],\n",
       "  ['7588304495', '7641036117'],\n",
       "  ['7981267897', '7784425582'],\n",
       "  ['7981267897', '7743039441'],\n",
       "  ['7981267897', '7784425582'],\n",
       "  ['7981267897', '7784425582'],\n",
       "  ['7981267897', '7784425582'],\n",
       "  ['7981267897', '7743039441'],\n",
       "  ['7981267897', '7784425582'],\n",
       "  ['7981267897', '7641036117'],\n",
       "  ['7163185791', '1850897526'],\n",
       "  ['7163185791', '7066875066'],\n",
       "  ['7163185791', '7066875066'],\n",
       "  ['7163185791', '7691640598'],\n",
       "  ['7163185791', '7691640598'],\n",
       "  ['7163185791', '8704500768'],\n",
       "  ['7163185791', '7187432175'],\n",
       "  ['7163185791', '7187432175'],\n",
       "  ['7230262224', '7163185791'],\n",
       "  ['7163185791', '7187432175'],\n",
       "  ['7163185791', '8704500768'],\n",
       "  ['7163185791', '8704500768'],\n",
       "  ['7163185791', '7187432175'],\n",
       "  ['7110730864', '7209670163'],\n",
       "  ['7110730864', '7209670163'],\n",
       "  ['7110730864', '7209670163'],\n",
       "  ['7110730864', '7209670163'],\n",
       "  ['7110730864', '7209670163'],\n",
       "  ['7110730864', '452'],\n",
       "  ['7110730864', '563'],\n",
       "  ['7110730864', '7501874156'],\n",
       "  ['7110730864', '7784425582'],\n",
       "  ['7110730864', '452'],\n",
       "  ['7110730864', '452'],\n",
       "  ['7110730864', '7209670163'],\n",
       "  ['7110730864', '452'],\n",
       "  ['7110730864', '7681546436'],\n",
       "  ['7110730864', '7681546436'],\n",
       "  ['7110730864', '7914559382'],\n",
       "  ['7110730864', '1258345846']],\n",
       " True)"
      ]
     },
     "execution_count": 10,
     "metadata": {},
     "output_type": "execute_result"
    }
   ],
   "source": [
    "callDataSet.visualize_connection_network()"
   ]
  },
  {
   "cell_type": "markdown",
   "metadata": {},
   "source": [
    "# get close contacts(default top 5) of a selected user"
   ]
  },
  {
   "cell_type": "code",
   "execution_count": 11,
   "metadata": {},
   "outputs": [
    {
     "name": "stdout",
     "output_type": "stream",
     "text": [
      ">> close contacts of 7163185791 : {'7187432175': 4, '7230262224': 1}\n"
     ]
    }
   ],
   "source": [
    "close_contacts = callDataSet.get_close_contacts(search_user_call_1, top_contact=2)\n",
    "print(\">> close contacts of %s : %s\" % (search_user_call_1, close_contacts))"
   ]
  },
  {
   "cell_type": "code",
   "execution_count": 12,
   "metadata": {},
   "outputs": [
    {
     "name": "stdout",
     "output_type": "stream",
     "text": [
      "+------------+---------------------------+\n",
      "| contact no | no of calls between users |\n",
      "+------------+---------------------------+\n",
      "| 7187432175 |             4             |\n",
      "| 7230262224 |             1             |\n",
      "+------------+---------------------------+\n"
     ]
    }
   ],
   "source": [
    "cz.utils.print_close_contacts(close_contacts)"
   ]
  },
  {
   "cell_type": "markdown",
   "metadata": {},
   "source": [
    "# get active time of a selected user"
   ]
  },
  {
   "cell_type": "code",
   "execution_count": 13,
   "metadata": {},
   "outputs": [
    {
     "name": "stdout",
     "output_type": "stream",
     "text": [
      ">> most active times during day of 7163185791 - {0: 0, 1: 0, 2: 0, 3: 0, 4: 0, 5: 0, 6: 0, 7: 0, 8: 0, 9: 0, 10: 0, 11: 1, 12: 1, 13: 1, 14: 0, 15: 5, 16: 0, 17: 0, 18: 4, 19: 0, 20: 0, 21: 1, 22: 0, 23: 0}\n"
     ]
    },
    {
     "data": {
      "image/png": "[encoded data removed]",
      "text/plain": [
       "<Figure size 432x288 with 1 Axes>"
      ]
     },
     "metadata": {
      "needs_background": "light"
     },
     "output_type": "display_data"
    }
   ],
   "source": [
    "active_time = callDataSet.get_most_active_time(search_user_call_1)\n",
    "print(\">> most active times during day of %s - %s\"%(search_user_call_1,active_time))\n",
    "cz.visualization.active_time_bar_chart(active_time)"
   ]
  },
  {
   "cell_type": "code",
   "execution_count": null,
   "metadata": {},
   "outputs": [],
   "source": []
  }
 ],
 "metadata": {
  "kernelspec": {
   "display_name": "Python 3",
   "language": "python",
   "name": "python3"
  },
  "language_info": {
   "codemirror_mode": {
    "name": "ipython",
    "version": 3
   },
   "file_extension": ".py",
   "mimetype": "text/x-python",
   "name": "python",
   "nbconvert_exporter": "python",
   "pygments_lexer": "ipython3",
   "version": "3.7.0"
  }
 },
 "nbformat": 4,
 "nbformat_minor": 2
}
