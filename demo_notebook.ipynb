{
 "cells": [
  {
   "cell_type": "code",
   "execution_count": 4,
   "metadata": {},
   "outputs": [
    {
     "data": {
      "text/html": [
       "import cellyzer as cz\n"
      ],
      "text/plain": [
       "<IPython.core.display.HTML object>"
      ]
     },
     "metadata": {},
     "output_type": "display_data"
    }
   ],
   "source": [
    "%%HTML\n",
    "import cellyzer as cz"
   ]
  },
  {
   "cell_type": "code",
   "execution_count": 5,
   "metadata": {},
   "outputs": [
    {
     "name": "stdout",
     "output_type": "stream",
     "text": [
      "[x]  Reading Message Data...\n",
      "[x]  Objects creation successful\n",
      "\n",
      "<table>\n",
      "<thead>\n",
      "<tr><th style=\"text-align: right;\">  </th><th style=\"text-align: right;\">     _user</th><th style=\"text-align: right;\">  _other_user</th><th>_direction  </th><th style=\"text-align: right;\">  _length</th><th>_timestamp                    </th></tr>\n",
      "</thead>\n",
      "<tbody>\n",
      "<tr><td style=\"text-align: right;\"> 1</td><td style=\"text-align: right;\">7610039694</td><td style=\"text-align: right;\">   7684763671</td><td>Incoming    </td><td style=\"text-align: right;\">       28</td><td>Wed Sep 15 19:01:54 +0100 2010</td></tr>\n",
      "<tr><td style=\"text-align: right;\"> 2</td><td style=\"text-align: right;\">7641036117</td><td style=\"text-align: right;\">   7681546436</td><td>Incoming    </td><td style=\"text-align: right;\">        7</td><td>Mon Feb 11 07:08:49 +0000 1980</td></tr>\n",
      "<tr><td style=\"text-align: right;\"> 3</td><td style=\"text-align: right;\">7641036117</td><td style=\"text-align: right;\">   7681546436</td><td>Outgoing    </td><td style=\"text-align: right;\">        6</td><td>Mon Feb 11 07:14:05 +0000 1980</td></tr>\n",
      "<tr><td style=\"text-align: right;\"> 4</td><td style=\"text-align: right;\">7641036117</td><td style=\"text-align: right;\">   7981267897</td><td>Outgoing    </td><td style=\"text-align: right;\">       41</td><td>Thu Sep 09 21:43:44 +0100 2010</td></tr>\n",
      "<tr><td style=\"text-align: right;\"> 5</td><td style=\"text-align: right;\">7981267897</td><td style=\"text-align: right;\">   7784425582</td><td>Outgoing    </td><td style=\"text-align: right;\">       75</td><td>Mon Jan 07 22:58:28 +0000 1980</td></tr>\n",
      "<tr><td style=\"text-align: right;\"> 6</td><td style=\"text-align: right;\">7981267897</td><td style=\"text-align: right;\">   7784425582</td><td>Incoming    </td><td style=\"text-align: right;\">       33</td><td>Thu Sep 09 18:53:25 +0100 2010</td></tr>\n",
      "<tr><td style=\"text-align: right;\"> 7</td><td style=\"text-align: right;\">7981267897</td><td style=\"text-align: right;\">   7784425582</td><td>Outgoing    </td><td style=\"text-align: right;\">       90</td><td>Thu Sep 09 18:59:35 +0100 2010</td></tr>\n",
      "<tr><td style=\"text-align: right;\"> 8</td><td style=\"text-align: right;\">7981267897</td><td style=\"text-align: right;\">   7784425582</td><td>Incoming    </td><td style=\"text-align: right;\">       30</td><td>Thu Sep 09 19:06:06 +0100 2010</td></tr>\n",
      "<tr><td style=\"text-align: right;\"> 9</td><td style=\"text-align: right;\">7981267897</td><td style=\"text-align: right;\">   7784425582</td><td>Outgoing    </td><td style=\"text-align: right;\">      112</td><td>Thu Sep 09 19:22:28 +0100 2010</td></tr>\n",
      "<tr><td style=\"text-align: right;\">10</td><td style=\"text-align: right;\">7981267897</td><td style=\"text-align: right;\">   7784425582</td><td>Incoming    </td><td style=\"text-align: right;\">       89</td><td>Thu Sep 09 19:24:50 +0100 2010</td></tr>\n",
      "<tr><td style=\"text-align: right;\">11</td><td style=\"text-align: right;\">7981267897</td><td style=\"text-align: right;\">   7784425582</td><td>Outgoing    </td><td style=\"text-align: right;\">       28</td><td>Thu Sep 09 19:26:17 +0100 2010</td></tr>\n",
      "<tr><td style=\"text-align: right;\">12</td><td style=\"text-align: right;\">7981267897</td><td style=\"text-align: right;\">   7784425582</td><td>Incoming    </td><td style=\"text-align: right;\">       19</td><td>Thu Sep 09 19:34:16 +0100 2010</td></tr>\n",
      "<tr><td style=\"text-align: right;\">13</td><td style=\"text-align: right;\">7981267897</td><td style=\"text-align: right;\">   7784425582</td><td>Incoming    </td><td style=\"text-align: right;\">        2</td><td>Thu Sep 09 19:35:07 +0100 2010</td></tr>\n",
      "<tr><td style=\"text-align: right;\">14</td><td style=\"text-align: right;\">7981267897</td><td style=\"text-align: right;\">   7784425582</td><td>Outgoing    </td><td style=\"text-align: right;\">       43</td><td>Thu Sep 09 19:35:45 +0100 2010</td></tr>\n",
      "<tr><td style=\"text-align: right;\">15</td><td style=\"text-align: right;\">7981267897</td><td style=\"text-align: right;\">   7681546436</td><td>Incoming    </td><td style=\"text-align: right;\">       19</td><td>Thu Sep 09 21:31:23 +0100 2010</td></tr>\n",
      "<tr><td style=\"text-align: right;\">16</td><td style=\"text-align: right;\">7981267897</td><td style=\"text-align: right;\">   7681546436</td><td>Outgoing    </td><td style=\"text-align: right;\">       20</td><td>Thu Sep 09 21:32:11 +0100 2010</td></tr>\n",
      "<tr><td style=\"text-align: right;\">17</td><td style=\"text-align: right;\">7981267897</td><td style=\"text-align: right;\">   7681546436</td><td>Incoming    </td><td style=\"text-align: right;\">       34</td><td>Thu Sep 09 21:33:45 +0100 2010</td></tr>\n",
      "<tr><td style=\"text-align: right;\">18</td><td style=\"text-align: right;\">7981267897</td><td style=\"text-align: right;\">   7681546436</td><td>Outgoing    </td><td style=\"text-align: right;\">        2</td><td>Thu Sep 09 21:34:14 +0100 2010</td></tr>\n",
      "<tr><td style=\"text-align: right;\">19</td><td style=\"text-align: right;\">7981267897</td><td style=\"text-align: right;\">   7641036117</td><td>Incoming    </td><td style=\"text-align: right;\">       41</td><td>Thu Sep 09 21:42:55 +0100 2010</td></tr>\n",
      "<tr><td style=\"text-align: right;\">20</td><td style=\"text-align: right;\">7981267897</td><td style=\"text-align: right;\">   7784425582</td><td>Outgoing    </td><td style=\"text-align: right;\">       23</td><td>Fri Sep 10 06:36:57 +0100 2010</td></tr>\n",
      "<tr><td style=\"text-align: right;\">21</td><td style=\"text-align: right;\">7981267897</td><td style=\"text-align: right;\">   7784425582</td><td>Incoming    </td><td style=\"text-align: right;\">       13</td><td>Fri Sep 10 06:38:38 +0100 2010</td></tr>\n",
      "<tr><td style=\"text-align: right;\">22</td><td style=\"text-align: right;\">7981267897</td><td style=\"text-align: right;\">   7784425582</td><td>Outgoing    </td><td style=\"text-align: right;\">       11</td><td>Fri Sep 10 06:39:10 +0100 2010</td></tr>\n",
      "<tr><td style=\"text-align: right;\">23</td><td style=\"text-align: right;\">7981267897</td><td style=\"text-align: right;\">   7784425582</td><td>Incoming    </td><td style=\"text-align: right;\">       15</td><td>Fri Sep 10 06:40:56 +0100 2010</td></tr>\n",
      "<tr><td style=\"text-align: right;\">24</td><td style=\"text-align: right;\">7981267897</td><td style=\"text-align: right;\">   7033434266</td><td>Incoming    </td><td style=\"text-align: right;\">      150</td><td>Fri Sep 10 12:23:21 +0100 2010</td></tr>\n",
      "<tr><td style=\"text-align: right;\">25</td><td style=\"text-align: right;\">7981267897</td><td style=\"text-align: right;\">   7817341678</td><td>Incoming    </td><td style=\"text-align: right;\">       45</td><td>Fri Sep 10 16:07:38 +0100 2010</td></tr>\n",
      "<tr><td style=\"text-align: right;\">26</td><td style=\"text-align: right;\">7981267897</td><td style=\"text-align: right;\">   7541477895</td><td>Incoming    </td><td style=\"text-align: right;\">       70</td><td>Fri Sep 10 16:33:49 +0100 2010</td></tr>\n",
      "<tr><td style=\"text-align: right;\">27</td><td style=\"text-align: right;\">7981267897</td><td style=\"text-align: right;\">   7541477895</td><td>Outgoing    </td><td style=\"text-align: right;\">       58</td><td>Fri Sep 10 16:36:07 +0100 2010</td></tr>\n",
      "<tr><td style=\"text-align: right;\">28</td><td style=\"text-align: right;\">7981267897</td><td style=\"text-align: right;\">   7541477895</td><td>Incoming    </td><td style=\"text-align: right;\">        9</td><td>Fri Sep 10 16:36:41 +0100 2010</td></tr>\n",
      "<tr><td style=\"text-align: right;\">29</td><td style=\"text-align: right;\">7981267897</td><td style=\"text-align: right;\">   7784425582</td><td>Outgoing    </td><td style=\"text-align: right;\">       14</td><td>Fri Sep 10 16:40:16 +0100 2010</td></tr>\n",
      "<tr><td style=\"text-align: right;\">30</td><td style=\"text-align: right;\">7981267897</td><td style=\"text-align: right;\">   7641036117</td><td>Incoming    </td><td style=\"text-align: right;\">       20</td><td>Fri Sep 10 16:47:21 +0100 2010</td></tr>\n",
      "<tr><td style=\"text-align: right;\">31</td><td style=\"text-align: right;\">7981267897</td><td style=\"text-align: right;\">   7641036117</td><td>Outgoing    </td><td style=\"text-align: right;\">        4</td><td>Fri Sep 10 16:47:45 +0100 2010</td></tr>\n",
      "<tr><td style=\"text-align: right;\">32</td><td style=\"text-align: right;\">7981267897</td><td style=\"text-align: right;\">   7784425582</td><td>Incoming    </td><td style=\"text-align: right;\">      100</td><td>Fri Sep 10 16:47:59 +0100 2010</td></tr>\n",
      "<tr><td style=\"text-align: right;\">33</td><td style=\"text-align: right;\">7981267897</td><td style=\"text-align: right;\">   7784425582</td><td>Outgoing    </td><td style=\"text-align: right;\">       49</td><td>Fri Sep 10 16:49:06 +0100 2010</td></tr>\n",
      "<tr><td style=\"text-align: right;\">34</td><td style=\"text-align: right;\">7981267897</td><td style=\"text-align: right;\">   7784425582</td><td>Incoming    </td><td style=\"text-align: right;\">      159</td><td>Fri Sep 10 16:52:51 +0100 2010</td></tr>\n",
      "<tr><td style=\"text-align: right;\">35</td><td style=\"text-align: right;\">7981267897</td><td style=\"text-align: right;\">   7784425582</td><td>Outgoing    </td><td style=\"text-align: right;\">       86</td><td>Fri Sep 10 16:55:14 +0100 2010</td></tr>\n",
      "<tr><td style=\"text-align: right;\">36</td><td style=\"text-align: right;\">7981267897</td><td style=\"text-align: right;\">   7784425582</td><td>Incoming    </td><td style=\"text-align: right;\">       57</td><td>Fri Sep 10 16:56:42 +0100 2010</td></tr>\n",
      "<tr><td style=\"text-align: right;\">37</td><td style=\"text-align: right;\">7981267897</td><td style=\"text-align: right;\">   7784425582</td><td>Outgoing    </td><td style=\"text-align: right;\">       59</td><td>Fri Sep 10 16:59:18 +0100 2010</td></tr>\n",
      "<tr><td style=\"text-align: right;\">38</td><td style=\"text-align: right;\">7981267897</td><td style=\"text-align: right;\">   7784425582</td><td>Incoming    </td><td style=\"text-align: right;\">       52</td><td>Fri Sep 10 17:00:37 +0100 2010</td></tr>\n",
      "<tr><td style=\"text-align: right;\">39</td><td style=\"text-align: right;\">7981267897</td><td style=\"text-align: right;\">   7784425582</td><td>Outgoing    </td><td style=\"text-align: right;\">       99</td><td>Fri Sep 10 17:02:45 +0100 2010</td></tr>\n",
      "<tr><td style=\"text-align: right;\">40</td><td style=\"text-align: right;\">7981267897</td><td style=\"text-align: right;\">   7784425582</td><td>Incoming    </td><td style=\"text-align: right;\">       82</td><td>Fri Sep 10 17:08:34 +0100 2010</td></tr>\n",
      "<tr><td style=\"text-align: right;\">41</td><td style=\"text-align: right;\">7981267897</td><td style=\"text-align: right;\">   7784425582</td><td>Outgoing    </td><td style=\"text-align: right;\">       71</td><td>Fri Sep 10 17:10:43 +0100 2010</td></tr>\n",
      "<tr><td style=\"text-align: right;\">42</td><td style=\"text-align: right;\">7981267897</td><td style=\"text-align: right;\">   7784425582</td><td>Incoming    </td><td style=\"text-align: right;\">       31</td><td>Fri Sep 10 17:29:15 +0100 2010</td></tr>\n",
      "<tr><td style=\"text-align: right;\">43</td><td style=\"text-align: right;\">7981267897</td><td style=\"text-align: right;\">   7784425582</td><td>Outgoing    </td><td style=\"text-align: right;\">      126</td><td>Fri Sep 10 17:31:56 +0100 2010</td></tr>\n",
      "<tr><td style=\"text-align: right;\">44</td><td style=\"text-align: right;\">7981267897</td><td style=\"text-align: right;\">   7784425582</td><td>Incoming    </td><td style=\"text-align: right;\">       36</td><td>Fri Sep 10 17:38:26 +0100 2010</td></tr>\n",
      "<tr><td style=\"text-align: right;\">45</td><td style=\"text-align: right;\">7981267897</td><td style=\"text-align: right;\">   7784425582</td><td>Outgoing    </td><td style=\"text-align: right;\">      159</td><td>Fri Sep 10 17:41:33 +0100 2010</td></tr>\n",
      "<tr><td style=\"text-align: right;\">46</td><td style=\"text-align: right;\">7981267897</td><td style=\"text-align: right;\">   7784425582</td><td>Incoming    </td><td style=\"text-align: right;\">       40</td><td>Fri Sep 10 17:43:14 +0100 2010</td></tr>\n",
      "<tr><td style=\"text-align: right;\">47</td><td style=\"text-align: right;\">7981267897</td><td style=\"text-align: right;\">   7784425582</td><td>Outgoing    </td><td style=\"text-align: right;\">       74</td><td>Fri Sep 10 17:47:08 +0100 2010</td></tr>\n",
      "<tr><td style=\"text-align: right;\">48</td><td style=\"text-align: right;\">7981267897</td><td style=\"text-align: right;\">   7784425582</td><td>Incoming    </td><td style=\"text-align: right;\">       29</td><td>Fri Sep 10 17:48:28 +0100 2010</td></tr>\n",
      "<tr><td style=\"text-align: right;\">49</td><td style=\"text-align: right;\">7981267897</td><td style=\"text-align: right;\">   7784425582</td><td>Outgoing    </td><td style=\"text-align: right;\">      149</td><td>Fri Sep 10 17:54:40 +0100 2010</td></tr>\n",
      "</tbody>\n",
      "</table>\n"
     ]
    }
   ],
   "source": [
    "msg_file_path = \"../dataset/my_test_data/messages.csv\"\n",
    "messageDataSet = cz.read_msg(msg_file_path)\n",
    "cz.utils.print_dataset(messageDataSet,True)"
   ]
  },
  {
   "cell_type": "code",
   "execution_count": null,
   "metadata": {},
   "outputs": [],
   "source": [
    "all_users = messageDataSet.get_all_users()\n",
    "print(\"All Users : %s \\n\" % all_users)"
   ]
  },
  {
   "cell_type": "code",
   "execution_count": null,
   "metadata": {},
   "outputs": [],
   "source": [
    "connected_users = messageDataSet.get_connected_users(\"7610039694\")\n",
    "print(\"Users connected to 7610039694 : %s \\n\" % connected_users)"
   ]
  },
  {
   "cell_type": "code",
   "execution_count": null,
   "metadata": {},
   "outputs": [],
   "source": [
    "user_record_list = messageDataSet.get_records(\"7610039694\")\n",
    "user_message_dataset = cz.MessageDataSet(user_record_list)\n",
    "cz.utils.print_dataset_dict(user_message_dataset,True)"
   ]
  },
  {
   "cell_type": "code",
   "execution_count": null,
   "metadata": {},
   "outputs": [],
   "source": []
  },
  {
   "cell_type": "code",
   "execution_count": null,
   "metadata": {},
   "outputs": [],
   "source": []
  }
 ],
 "metadata": {
  "kernelspec": {
   "display_name": "Python 3.7.0 64-bit",
   "language": "python",
   "name": "python37064bite28e14d73ba543c1ba8f158838c934c3"
  },
  "language_info": {
   "codemirror_mode": {
    "name": "ipython",
    "version": 3
   },
   "file_extension": ".py",
   "mimetype": "text/x-python",
   "name": "python",
   "nbconvert_exporter": "python",
   "pygments_lexer": "ipython3",
   "version": "3.7.0"
  }
 },
 "nbformat": 4,
 "nbformat_minor": 2
}
