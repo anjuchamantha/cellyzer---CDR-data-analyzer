{
 "cells": [
  {
   "cell_type": "code",
   "execution_count": 10,
   "metadata": {
    "collapsed": true
   },
   "outputs": [
    {
     "name": "stdout",
     "output_type": "stream",
     "text": [
      "Requirement already satisfied: xlrd in c:\\users\\wageeshabangamuarach\\appdata\\local\\programs\\python\\python37\\lib\\site-packages (1.2.0)\n"
     ]
    },
    {
     "name": "stderr",
     "output_type": "stream",
     "text": [
      "You are using pip version 10.0.1, however version 20.0.2 is available.\n",
      "You should consider upgrading via the 'python -m pip install --upgrade pip' command.\n"
     ]
    },
    {
     "name": "stdout",
     "output_type": "stream",
     "text": [
      "Requirement already satisfied: numpy in c:\\users\\wageeshabangamuarach\\appdata\\local\\programs\\python\\python37\\lib\\site-packages (1.18.2)\n"
     ]
    },
    {
     "name": "stderr",
     "output_type": "stream",
     "text": [
      "You are using pip version 10.0.1, however version 20.0.2 is available.\n",
      "You should consider upgrading via the 'python -m pip install --upgrade pip' command.\n"
     ]
    },
    {
     "name": "stdout",
     "output_type": "stream",
     "text": [
      "Requirement already satisfied: tabulate in c:\\users\\wageeshabangamuarach\\appdata\\local\\programs\\python\\python37\\lib\\site-packages (0.8.7)\n"
     ]
    },
    {
     "name": "stderr",
     "output_type": "stream",
     "text": [
      "You are using pip version 10.0.1, however version 20.0.2 is available.\n",
      "You should consider upgrading via the 'python -m pip install --upgrade pip' command.\n"
     ]
    },
    {
     "name": "stdout",
     "output_type": "stream",
     "text": [
      "Requirement already satisfied: datetime in c:\\users\\wageeshabangamuarach\\appdata\\local\\programs\\python\\python37\\lib\\site-packages (4.3)\n",
      "Requirement already satisfied: pytz in c:\\users\\wageeshabangamuarach\\appdata\\local\\programs\\python\\python37\\lib\\site-packages (from datetime) (2019.3)\n",
      "Requirement already satisfied: zope.interface in c:\\users\\wageeshabangamuarach\\appdata\\local\\programs\\python\\python37\\lib\\site-packages (from datetime) (5.1.0)\n",
      "Requirement already satisfied: setuptools in c:\\users\\wageeshabangamuarach\\appdata\\local\\programs\\python\\python37\\lib\\site-packages (from zope.interface->datetime) (39.0.1)\n"
     ]
    },
    {
     "name": "stderr",
     "output_type": "stream",
     "text": [
      "You are using pip version 10.0.1, however version 20.0.2 is available.\n",
      "You should consider upgrading via the 'python -m pip install --upgrade pip' command.\n"
     ]
    },
    {
     "name": "stdout",
     "output_type": "stream",
     "text": [
      "Requirement already satisfied: networkx in c:\\users\\wageeshabangamuarach\\appdata\\local\\programs\\python\\python37\\lib\\site-packages (2.4)\n",
      "Requirement already satisfied: decorator>=4.3.0 in c:\\users\\wageeshabangamuarach\\appdata\\local\\programs\\python\\python37\\lib\\site-packages (from networkx) (4.4.2)\n"
     ]
    },
    {
     "name": "stderr",
     "output_type": "stream",
     "text": [
      "You are using pip version 10.0.1, however version 20.0.2 is available.\n",
      "You should consider upgrading via the 'python -m pip install --upgrade pip' command.\n"
     ]
    },
    {
     "name": "stdout",
     "output_type": "stream",
     "text": [
      "Requirement already satisfied: matplotlib in c:\\users\\wageeshabangamuarach\\appdata\\local\\programs\\python\\python37\\lib\\site-packages (3.2.1)\n",
      "Requirement already satisfied: pyparsing!=2.0.4,!=2.1.2,!=2.1.6,>=2.0.1 in c:\\users\\wageeshabangamuarach\\appdata\\local\\programs\\python\\python37\\lib\\site-packages (from matplotlib) (2.4.6)\n"
     ]
    },
    {
     "name": "stderr",
     "output_type": "stream",
     "text": [
      "You are using pip version 10.0.1, however version 20.0.2 is available.\n",
      "You should consider upgrading via the 'python -m pip install --upgrade pip' command.\n"
     ]
    },
    {
     "name": "stdout",
     "output_type": "stream",
     "text": [
      "Requirement already satisfied: kiwisolver>=1.0.1 in c:\\users\\wageeshabangamuarach\\appdata\\local\\programs\\python\\python37\\lib\\site-packages (from matplotlib) (1.1.0)\n",
      "Requirement already satisfied: numpy>=1.11 in c:\\users\\wageeshabangamuarach\\appdata\\local\\programs\\python\\python37\\lib\\site-packages (from matplotlib) (1.18.2)\n",
      "Requirement already satisfied: python-dateutil>=2.1 in c:\\users\\wageeshabangamuarach\\appdata\\local\\programs\\python\\python37\\lib\\site-packages (from matplotlib) (2.8.1)\n",
      "Requirement already satisfied: cycler>=0.10 in c:\\users\\wageeshabangamuarach\\appdata\\local\\programs\\python\\python37\\lib\\site-packages (from matplotlib) (0.10.0)\n",
      "Requirement already satisfied: setuptools in c:\\users\\wageeshabangamuarach\\appdata\\local\\programs\\python\\python37\\lib\\site-packages (from kiwisolver>=1.0.1->matplotlib) (39.0.1)\n",
      "Requirement already satisfied: six>=1.5 in c:\\users\\wageeshabangamuarach\\appdata\\local\\programs\\python\\python37\\lib\\site-packages (from python-dateutil>=2.1->matplotlib) (1.14.0)\n"
     ]
    }
   ],
   "source": [
    "!pip install xlrd\n",
    "!pip install numpy\n",
    "!pip install tabulate\n",
    "!pip install datetime \n",
    "!pip install networkx\n",
    "!pip install matplotlib"
   ]
  },
  {
   "cell_type": "markdown",
   "metadata": {},
   "source": [
    "# import Cellyzer"
   ]
  },
  {
   "cell_type": "code",
   "execution_count": 11,
   "metadata": {},
   "outputs": [],
   "source": [
    "import cellyzer as cz"
   ]
  },
  {
   "cell_type": "markdown",
   "metadata": {},
   "source": [
    "# read call data and cell data"
   ]
  },
  {
   "cell_type": "code",
   "execution_count": 12,
   "metadata": {},
   "outputs": [
    {
     "name": "stdout",
     "output_type": "stream",
     "text": [
      "[x]  Reading Call Data\n",
      "[x]  Objects creation successful\n",
      "\n"
     ]
    },
    {
     "name": "stderr",
     "output_type": "stream",
     "text": [
      "\u001b[33mWarning: 3 record(s) were removed due to missing or incomplete fields.\n",
      "         other: 3 record(s) with incomplete values\n",
      "\u001b[0m"
     ]
    }
   ],
   "source": [
    "call_file_path = \"dataset/my_test_data/calls.csv\"\n",
    "antenna_file_path = \"dataset/my_test_data/antennas.csv\"\n",
    "callDataSet = cz.read_call(call_file_path)\n",
    "antennaDataSet = cz.read_cell(antenna_file_path, call_dataset_obj=callDataSet, file_type='csv')"
   ]
  },
  {
   "cell_type": "markdown",
   "metadata": {},
   "source": [
    "# get records of a specific cell"
   ]
  },
  {
   "cell_type": "code",
   "execution_count": 23,
   "metadata": {},
   "outputs": [
    {
     "name": "stdout",
     "output_type": "stream",
     "text": [
      "cell id -  1\n"
     ]
    }
   ],
   "source": [
    "record = antennaDataSet.get_cell_records(cell_id=1)\n",
    "print(\"cell id - \", record.get_cell_id())"
   ]
  },
  {
   "cell_type": "markdown",
   "metadata": {},
   "source": [
    "# get population arround cell and visualize"
   ]
  },
  {
   "cell_type": "code",
   "execution_count": 14,
   "metadata": {},
   "outputs": [
    {
     "name": "stdout",
     "output_type": "stream",
     "text": [
      ">> population around cell\n",
      "+---------+-----------+------------+------------------------+\n",
      "| cell_id | latitude  | longitude  | population_around_cell |\n",
      "+---------+-----------+------------+------------------------+\n",
      "|    1    | 42.366944 | -71.083611 |           1            |\n",
      "|    2    | 42.386722 | -71.138778 |           2            |\n",
      "|    3    |  42.3604  | -71.087374 |           0            |\n",
      "|    4    | 42.353917 |  -71.105   |           0            |\n",
      "|    5    |   42.36   |   -71.12   |           0            |\n",
      "|    6    |  42.375   |   -71.1    |           0            |\n",
      "|    7    |  42.345   |   -71.09   |           0            |\n",
      "|    8    |   42.39   |  -71.105   |           0            |\n",
      "|    9    |   42.38   |   -71.09   |           0            |\n",
      "|   10    | 42.304917 | -71.147374 |           2            |\n",
      "|   11    | 42.373917 | -70.067374 |           0            |\n",
      "|   12    | 42.313917 | -71.037374 |           0            |\n",
      "|   13    | 42.40944  |   -71.1    |           0            |\n",
      "|   14    |   42.41   |  -71.073   |           0            |\n",
      "|   15    |   42.44   |   -71.15   |           0            |\n",
      "|   16    |   42.48   |   -71.23   |           0            |\n",
      "|   17    |   42.35   |   -71.05   |           0            |\n",
      "|   18    |   42.33   |   -71.11   |           0            |\n",
      "|   19    |   42.36   |   -71.25   |           0            |\n",
      "|   20    |  42.413   |  -71.143   |           0            |\n",
      "|   21    | 42.373917 |  -71.215   |           0            |\n",
      "|   22    |   43.37   |  -71.085   |           0            |\n",
      "|   23    |   43.39   |   -71.11   |           0            |\n",
      "|   24    |   42.29   |   -71.13   |           0            |\n",
      "|   25    |   42.31   |   -71.16   |           0            |\n",
      "|   26    |  42.313   |  -71.135   |           0            |\n",
      "|   27    |  42.297   |  -71.155   |           0            |\n",
      "+---------+-----------+------------+------------------------+\n"
     ]
    }
   ],
   "source": [
    "population = antennaDataSet.get_population()\n",
    "print(\">> population around cell\")\n",
    "cz.utils.tabulate_list_of_dictionaries(population)"
   ]
  },
  {
   "cell_type": "code",
   "execution_count": 15,
   "metadata": {},
   "outputs": [
    {
     "data": {
      "text/html": [
       "<div style=\"width:100%;\"><div style=\"position:relative;width:100%;height:0;padding-bottom:60%;\"><iframe src=\"about:blank\" style=\"position:absolute;width:100%;height:100%;left:0;top:0;border:none !important;\" data-html=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 onload=\"this.contentDocument.open();this.contentDocument.write(atob(this.getAttribute('data-html')));this.contentDocument.close();\" allowfullscreen webkitallowfullscreen mozallowfullscreen></iframe></div></div>"
      ],
      "text/plain": [
       "<folium.folium.Map at 0x16014396048>"
      ]
     },
     "execution_count": 15,
     "metadata": {},
     "output_type": "execute_result"
    }
   ],
   "source": [
    "cz.visualization.cell_population_visualization(population, notebook = True)"
   ]
  },
  {
   "cell_type": "markdown",
   "metadata": {},
   "source": [
    "# trip visualize"
   ]
  },
  {
   "cell_type": "code",
   "execution_count": 21,
   "metadata": {},
   "outputs": [
    {
     "name": "stdout",
     "output_type": "stream",
     "text": [
      "+---------------------+----------+---------+-------------------------+\n",
      "|      timestamp      | duration | cell_id |        location         |\n",
      "+---------------------+----------+---------+-------------------------+\n",
      "| 2010-09-09 18:16:47 |    0     |    1    | (42.366944, -71.083611) |\n",
      "| 2010-09-09 18:37:05 |    0     |    2    | (42.386722, -71.138778) |\n",
      "| 2010-09-09 19:03:05 |    0     |    2    | (42.386722, -71.138778) |\n",
      "| 2010-09-09 20:57:51 |    0     |    3    |  (42.3604, -71.087374)  |\n",
      "| 2010-09-09 22:12:01 |   215    |    2    | (42.386722, -71.138778) |\n",
      "| 2010-09-09 22:38:09 |    41    |    2    | (42.386722, -71.138778) |\n",
      "| 2010-09-09 23:02:56 |    0     |    2    | (42.386722, -71.138778) |\n",
      "| 2010-09-09 23:18:13 |    0     |    2    | (42.386722, -71.138778) |\n",
      "| 2010-09-09 23:21:05 |    0     |    2    | (42.386722, -71.138778) |\n",
      "| 2010-09-09 23:28:24 |    4     |    2    | (42.386722, -71.138778) |\n",
      "| 2010-09-10 06:01:27 |    52    |    1    | (42.366944, -71.083611) |\n",
      "| 2010-09-10 06:04:43 |    0     |    2    | (42.386722, -71.138778) |\n",
      "| 2010-09-10 07:45:52 |    39    |    4    |  (42.353917, -71.105)   |\n",
      "| 2010-09-10 07:53:09 |    0     |    2    | (42.386722, -71.138778) |\n",
      "| 2010-09-10 07:54:02 |    0     |    1    | (42.366944, -71.083611) |\n",
      "| 2010-09-10 11:15:49 |    0     |   10    | (42.304917, -71.147374) |\n",
      "| 2010-09-10 19:35:57 |    0     |    1    | (42.366944, -71.083611) |\n",
      "+---------------------+----------+---------+-------------------------+\n",
      "[{'timestamp': datetime.datetime(2010, 9, 9, 18, 16, 47), 'duration': '0', 'cell_id': '1', 'location': (42.366944, -71.083611)}, {'timestamp': datetime.datetime(2010, 9, 9, 18, 37, 5), 'duration': '0', 'cell_id': '2', 'location': (42.386722, -71.138778)}, {'timestamp': datetime.datetime(2010, 9, 9, 19, 3, 5), 'duration': '0', 'cell_id': '2', 'location': (42.386722, -71.138778)}, {'timestamp': datetime.datetime(2010, 9, 9, 20, 57, 51), 'duration': '0', 'cell_id': '3', 'location': (42.3604, -71.087374)}, {'timestamp': datetime.datetime(2010, 9, 9, 22, 12, 1), 'duration': '215', 'cell_id': '2', 'location': (42.386722, -71.138778)}, {'timestamp': datetime.datetime(2010, 9, 9, 22, 38, 9), 'duration': '41', 'cell_id': '2', 'location': (42.386722, -71.138778)}, {'timestamp': datetime.datetime(2010, 9, 9, 23, 2, 56), 'duration': '0', 'cell_id': '2', 'location': (42.386722, -71.138778)}, {'timestamp': datetime.datetime(2010, 9, 9, 23, 18, 13), 'duration': '0', 'cell_id': '2', 'location': (42.386722, -71.138778)}, {'timestamp': datetime.datetime(2010, 9, 9, 23, 21, 5), 'duration': '0', 'cell_id': '2', 'location': (42.386722, -71.138778)}, {'timestamp': datetime.datetime(2010, 9, 9, 23, 28, 24), 'duration': '4', 'cell_id': '2', 'location': (42.386722, -71.138778)}, {'timestamp': datetime.datetime(2010, 9, 10, 6, 1, 27), 'duration': '52', 'cell_id': '1', 'location': (42.366944, -71.083611)}, {'timestamp': datetime.datetime(2010, 9, 10, 6, 4, 43), 'duration': '0', 'cell_id': '2', 'location': (42.386722, -71.138778)}, {'timestamp': datetime.datetime(2010, 9, 10, 7, 45, 52), 'duration': '39', 'cell_id': '4', 'location': (42.353917, -71.105)}, {'timestamp': datetime.datetime(2010, 9, 10, 7, 53, 9), 'duration': '0', 'cell_id': '2', 'location': (42.386722, -71.138778)}, {'timestamp': datetime.datetime(2010, 9, 10, 7, 54, 2), 'duration': '0', 'cell_id': '1', 'location': (42.366944, -71.083611)}, {'timestamp': datetime.datetime(2010, 9, 10, 11, 15, 49), 'duration': '0', 'cell_id': '10', 'location': (42.304917, -71.147374)}, {'timestamp': datetime.datetime(2010, 9, 10, 19, 35, 57), 'duration': '0', 'cell_id': '1', 'location': (42.366944, -71.083611)}]\n"
     ]
    }
   ],
   "source": [
    "call_made_locations = antennaDataSet.get_trip_details(\"7110730864\", console_print=True, tabulate=True)"
   ]
  },
  {
   "cell_type": "code",
   "execution_count": 22,
   "metadata": {},
   "outputs": [],
   "source": [
    "cz.visualization.trip_visualization(call_made_locations)"
   ]
  },
  {
   "cell_type": "code",
   "execution_count": null,
   "metadata": {},
   "outputs": [],
   "source": []
  }
 ],
 "metadata": {
  "kernelspec": {
   "display_name": "Python 3",
   "language": "python",
   "name": "python3"
  },
  "language_info": {
   "codemirror_mode": {
    "name": "ipython",
    "version": 3
   },
   "file_extension": ".py",
   "mimetype": "text/x-python",
   "name": "python",
   "nbconvert_exporter": "python",
   "pygments_lexer": "ipython3",
   "version": "3.7.0"
  }
 },
 "nbformat": 4,
 "nbformat_minor": 4
}
