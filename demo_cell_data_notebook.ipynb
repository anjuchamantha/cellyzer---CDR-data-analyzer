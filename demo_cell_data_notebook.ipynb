{
 "cells": [
  {
   "cell_type": "code",
   "execution_count": 1,
   "metadata": {
    "collapsed": true
   },
   "outputs": [
    {
     "name": "stdout",
     "output_type": "stream",
     "text": [
      "Requirement already satisfied: xlrd in c:\\users\\wageeshabangamuarach\\appdata\\local\\programs\\python\\python37\\lib\\site-packages (1.2.0)\n"
     ]
    },
    {
     "name": "stderr",
     "output_type": "stream",
     "text": [
      "You are using pip version 10.0.1, however version 20.0.2 is available.\n",
      "You should consider upgrading via the 'python -m pip install --upgrade pip' command.\n",
      "You are using pip version 10.0.1, however version 20.0.2 is available.\n",
      "You should consider upgrading via the 'python -m pip install --upgrade pip' command.\n"
     ]
    },
    {
     "name": "stdout",
     "output_type": "stream",
     "text": [
      "Requirement already satisfied: numpy in c:\\users\\wageeshabangamuarach\\appdata\\local\\programs\\python\\python37\\lib\\site-packages (1.18.2)\n",
      "Requirement already satisfied: tabulate in c:\\users\\wageeshabangamuarach\\appdata\\local\\programs\\python\\python37\\lib\\site-packages (0.8.7)\n"
     ]
    },
    {
     "name": "stderr",
     "output_type": "stream",
     "text": [
      "You are using pip version 10.0.1, however version 20.0.2 is available.\n",
      "You should consider upgrading via the 'python -m pip install --upgrade pip' command.\n"
     ]
    },
    {
     "name": "stdout",
     "output_type": "stream",
     "text": [
      "Requirement already satisfied: datetime in c:\\users\\wageeshabangamuarach\\appdata\\local\\programs\\python\\python37\\lib\\site-packages (4.3)\n",
      "Requirement already satisfied: pytz in c:\\users\\wageeshabangamuarach\\appdata\\local\\programs\\python\\python37\\lib\\site-packages (from datetime) (2019.3)\n",
      "Requirement already satisfied: zope.interface in c:\\users\\wageeshabangamuarach\\appdata\\local\\programs\\python\\python37\\lib\\site-packages (from datetime) (5.1.0)\n",
      "Requirement already satisfied: setuptools in c:\\users\\wageeshabangamuarach\\appdata\\local\\programs\\python\\python37\\lib\\site-packages (from zope.interface->datetime) (39.0.1)\n"
     ]
    },
    {
     "name": "stderr",
     "output_type": "stream",
     "text": [
      "You are using pip version 10.0.1, however version 20.0.2 is available.\n",
      "You should consider upgrading via the 'python -m pip install --upgrade pip' command.\n"
     ]
    },
    {
     "name": "stdout",
     "output_type": "stream",
     "text": [
      "Requirement already satisfied: networkx in c:\\users\\wageeshabangamuarach\\appdata\\local\\programs\\python\\python37\\lib\\site-packages (2.4)\n",
      "Requirement already satisfied: decorator>=4.3.0 in c:\\users\\wageeshabangamuarach\\appdata\\local\\programs\\python\\python37\\lib\\site-packages (from networkx) (4.4.2)"
     ]
    },
    {
     "name": "stderr",
     "output_type": "stream",
     "text": [
      "You are using pip version 10.0.1, however version 20.0.2 is available.\n",
      "You should consider upgrading via the 'python -m pip install --upgrade pip' command.\n"
     ]
    },
    {
     "name": "stdout",
     "output_type": "stream",
     "text": [
      "\n"
     ]
    },
    {
     "name": "stderr",
     "output_type": "stream",
     "text": [
      "You are using pip version 10.0.1, however version 20.0.2 is available.\n",
      "You should consider upgrading via the 'python -m pip install --upgrade pip' command.\n"
     ]
    },
    {
     "name": "stdout",
     "output_type": "stream",
     "text": [
      "Requirement already satisfied: matplotlib in c:\\users\\wageeshabangamuarach\\appdata\\local\\programs\\python\\python37\\lib\\site-packages (3.2.1)\n",
      "Requirement already satisfied: python-dateutil>=2.1 in c:\\users\\wageeshabangamuarach\\appdata\\local\\programs\\python\\python37\\lib\\site-packages (from matplotlib) (2.8.1)\n",
      "Requirement already satisfied: kiwisolver>=1.0.1 in c:\\users\\wageeshabangamuarach\\appdata\\local\\programs\\python\\python37\\lib\\site-packages (from matplotlib) (1.1.0)\n",
      "Requirement already satisfied: cycler>=0.10 in c:\\users\\wageeshabangamuarach\\appdata\\local\\programs\\python\\python37\\lib\\site-packages (from matplotlib) (0.10.0)\n",
      "Requirement already satisfied: numpy>=1.11 in c:\\users\\wageeshabangamuarach\\appdata\\local\\programs\\python\\python37\\lib\\site-packages (from matplotlib) (1.18.2)\n",
      "Requirement already satisfied: pyparsing!=2.0.4,!=2.1.2,!=2.1.6,>=2.0.1 in c:\\users\\wageeshabangamuarach\\appdata\\local\\programs\\python\\python37\\lib\\site-packages (from matplotlib) (2.4.6)\n",
      "Requirement already satisfied: six>=1.5 in c:\\users\\wageeshabangamuarach\\appdata\\local\\programs\\python\\python37\\lib\\site-packages (from python-dateutil>=2.1->matplotlib) (1.14.0)\n",
      "Requirement already satisfied: setuptools in c:\\users\\wageeshabangamuarach\\appdata\\local\\programs\\python\\python37\\lib\\site-packages (from kiwisolver>=1.0.1->matplotlib) (39.0.1)\n"
     ]
    }
   ],
   "source": [
    "!pip install xlrd\n",
    "!pip install numpy\n",
    "!pip install tabulate\n",
    "!pip install datetime \n",
    "!pip install networkx\n",
    "!pip install matplotlib"
   ]
  },
  {
   "cell_type": "markdown",
   "metadata": {},
   "source": [
    "# import Cellyzer"
   ]
  },
  {
   "cell_type": "code",
   "execution_count": 11,
   "metadata": {},
   "outputs": [],
   "source": [
    "import cellyzer as cz"
   ]
  },
  {
   "cell_type": "markdown",
   "metadata": {},
   "source": [
    "# read call data and cell data"
   ]
  },
  {
   "cell_type": "code",
   "execution_count": 12,
   "metadata": {},
   "outputs": [
    {
     "name": "stdout",
     "output_type": "stream",
     "text": [
      "[x]  Reading Call Data\n",
      "[x]  Objects creation successful\n",
      "\n"
     ]
    },
    {
     "name": "stderr",
     "output_type": "stream",
     "text": [
      "\u001b[33mWarning: 3 record(s) were removed due to missing or incomplete fields.\n",
      "         other: 3 record(s) with incomplete values\n",
      "\u001b[0m"
     ]
    }
   ],
   "source": [
    "call_file_path = \"dataset/my_test_data/calls.csv\"\n",
    "antenna_file_path = \"dataset/my_test_data/antennas.csv\"\n",
    "callDataSet = cz.read_call(call_file_path)\n",
    "antennaDataSet = cz.read_cell(antenna_file_path, call_dataset_obj=callDataSet, file_type='csv')"
   ]
  },
  {
   "cell_type": "markdown",
   "metadata": {},
   "source": [
    "# get records of a specific cell"
   ]
  },
  {
   "cell_type": "code",
   "execution_count": 13,
   "metadata": {},
   "outputs": [
    {
     "name": "stdout",
     "output_type": "stream",
     "text": [
      "cell id -  <cellyzer.core.CellRecord object at 0x000002207A3E4CC0>\n"
     ]
    }
   ],
   "source": [
    "record = antennaDataSet.get_cell_records(cell_id=1)\n",
    "print(\"cell id - \", record)"
   ]
  },
  {
   "cell_type": "markdown",
   "metadata": {},
   "source": [
    "# get population arround cell and visualize"
   ]
  },
  {
   "cell_type": "code",
   "execution_count": 14,
   "metadata": {},
   "outputs": [
    {
     "name": "stdout",
     "output_type": "stream",
     "text": [
      ">> population around cell\n",
      "+---------+-----------+------------+------------------------+\n",
      "| cell_id | latitude  | longitude  | population_around_cell |\n",
      "+---------+-----------+------------+------------------------+\n",
      "|    1    | 42.366944 | -71.083611 |           1            |\n",
      "|    2    | 42.386722 | -71.138778 |           2            |\n",
      "|    3    |  42.3604  | -71.087374 |           0            |\n",
      "|    4    | 42.353917 |  -71.105   |           0            |\n",
      "|    5    |   42.36   |   -71.12   |           0            |\n",
      "|    6    |  42.375   |   -71.1    |           0            |\n",
      "|    7    |  42.345   |   -71.09   |           0            |\n",
      "|    8    |   42.39   |  -71.105   |           0            |\n",
      "|    9    |   42.38   |   -71.09   |           0            |\n",
      "|   10    | 42.304917 | -71.147374 |           2            |\n",
      "|   11    | 42.373917 | -70.067374 |           0            |\n",
      "|   12    | 42.313917 | -71.037374 |           0            |\n",
      "|   13    | 42.40944  |   -71.1    |           0            |\n",
      "|   14    |   42.41   |  -71.073   |           0            |\n",
      "|   15    |   42.44   |   -71.15   |           0            |\n",
      "|   16    |   42.48   |   -71.23   |           0            |\n",
      "|   17    |   42.35   |   -71.05   |           0            |\n",
      "|   18    |   42.33   |   -71.11   |           0            |\n",
      "|   19    |   42.36   |   -71.25   |           0            |\n",
      "|   20    |  42.413   |  -71.143   |           0            |\n",
      "|   21    | 42.373917 |  -71.215   |           0            |\n",
      "|   22    |   43.37   |  -71.085   |           0            |\n",
      "|   23    |   43.39   |   -71.11   |           0            |\n",
      "|   24    |   42.29   |   -71.13   |           0            |\n",
      "|   25    |   42.31   |   -71.16   |           0            |\n",
      "|   26    |  42.313   |  -71.135   |           0            |\n",
      "|   27    |  42.297   |  -71.155   |           0            |\n",
      "+---------+-----------+------------+------------------------+\n"
     ]
    }
   ],
   "source": [
    "population = antennaDataSet.get_population()\n",
    "print(\">> population around cell\")\n",
    "cz.utils.tabulate_list_of_dictionaries(population)"
   ]
  },
  {
   "cell_type": "code",
   "execution_count": 15,
   "metadata": {},
   "outputs": [],
   "source": [
    "cz.visualization.cell_population_visualization(population)"
   ]
  },
  {
   "cell_type": "markdown",
   "metadata": {},
   "source": [
    "# trip visualize"
   ]
  },
  {
   "cell_type": "code",
   "execution_count": 9,
   "metadata": {
    "collapsed": true
   },
   "outputs": [
    {
     "name": "stdout",
     "output_type": "stream",
     "text": [
      "+---------------------+----------+---------+-------------------------+\n",
      "|      timestamp      | duration | cell_id |        location         |\n",
      "+---------------------+----------+---------+-------------------------+\n",
      "| 2010-09-09 18:16:47 |    0     |    1    | (42.366944, -71.083611) |\n",
      "| 2010-09-09 18:37:05 |    0     |    2    | (42.386722, -71.138778) |\n",
      "| 2010-09-09 19:03:05 |    0     |    2    | (42.386722, -71.138778) |\n",
      "| 2010-09-09 20:57:51 |    0     |    3    |  (42.3604, -71.087374)  |\n",
      "| 2010-09-09 22:12:01 |   215    |    2    | (42.386722, -71.138778) |\n",
      "| 2010-09-09 22:38:09 |    41    |    2    | (42.386722, -71.138778) |\n",
      "| 2010-09-09 23:02:56 |    0     |    2    | (42.386722, -71.138778) |\n",
      "| 2010-09-09 23:18:13 |    0     |    2    | (42.386722, -71.138778) |\n",
      "| 2010-09-09 23:21:05 |    0     |    2    | (42.386722, -71.138778) |\n",
      "| 2010-09-09 23:28:24 |    4     |    2    | (42.386722, -71.138778) |\n",
      "| 2010-09-10 06:01:27 |    52    |    1    | (42.366944, -71.083611) |\n",
      "| 2010-09-10 06:04:43 |    0     |    2    | (42.386722, -71.138778) |\n",
      "| 2010-09-10 07:45:52 |    39    |    4    |  (42.353917, -71.105)   |\n",
      "| 2010-09-10 07:53:09 |    0     |    2    | (42.386722, -71.138778) |\n",
      "| 2010-09-10 07:54:02 |    0     |    1    | (42.366944, -71.083611) |\n",
      "| 2010-09-10 11:15:49 |    0     |   10    | (42.304917, -71.147374) |\n",
      "| 2010-09-10 19:35:57 |    0     |    1    | (42.366944, -71.083611) |\n",
      "+---------------------+----------+---------+-------------------------+\n",
      "[{'timestamp': datetime.datetime(2010, 9, 9, 18, 16, 47), 'duration': '0', 'cell_id': '1', 'location': (42.366944, -71.083611)}, {'timestamp': datetime.datetime(2010, 9, 9, 18, 37, 5), 'duration': '0', 'cell_id': '2', 'location': (42.386722, -71.138778)}, {'timestamp': datetime.datetime(2010, 9, 9, 19, 3, 5), 'duration': '0', 'cell_id': '2', 'location': (42.386722, -71.138778)}, {'timestamp': datetime.datetime(2010, 9, 9, 20, 57, 51), 'duration': '0', 'cell_id': '3', 'location': (42.3604, -71.087374)}, {'timestamp': datetime.datetime(2010, 9, 9, 22, 12, 1), 'duration': '215', 'cell_id': '2', 'location': (42.386722, -71.138778)}, {'timestamp': datetime.datetime(2010, 9, 9, 22, 38, 9), 'duration': '41', 'cell_id': '2', 'location': (42.386722, -71.138778)}, {'timestamp': datetime.datetime(2010, 9, 9, 23, 2, 56), 'duration': '0', 'cell_id': '2', 'location': (42.386722, -71.138778)}, {'timestamp': datetime.datetime(2010, 9, 9, 23, 18, 13), 'duration': '0', 'cell_id': '2', 'location': (42.386722, -71.138778)}, {'timestamp': datetime.datetime(2010, 9, 9, 23, 21, 5), 'duration': '0', 'cell_id': '2', 'location': (42.386722, -71.138778)}, {'timestamp': datetime.datetime(2010, 9, 9, 23, 28, 24), 'duration': '4', 'cell_id': '2', 'location': (42.386722, -71.138778)}, {'timestamp': datetime.datetime(2010, 9, 10, 6, 1, 27), 'duration': '52', 'cell_id': '1', 'location': (42.366944, -71.083611)}, {'timestamp': datetime.datetime(2010, 9, 10, 6, 4, 43), 'duration': '0', 'cell_id': '2', 'location': (42.386722, -71.138778)}, {'timestamp': datetime.datetime(2010, 9, 10, 7, 45, 52), 'duration': '39', 'cell_id': '4', 'location': (42.353917, -71.105)}, {'timestamp': datetime.datetime(2010, 9, 10, 7, 53, 9), 'duration': '0', 'cell_id': '2', 'location': (42.386722, -71.138778)}, {'timestamp': datetime.datetime(2010, 9, 10, 7, 54, 2), 'duration': '0', 'cell_id': '1', 'location': (42.366944, -71.083611)}, {'timestamp': datetime.datetime(2010, 9, 10, 11, 15, 49), 'duration': '0', 'cell_id': '10', 'location': (42.304917, -71.147374)}, {'timestamp': datetime.datetime(2010, 9, 10, 19, 35, 57), 'duration': '0', 'cell_id': '1', 'location': (42.366944, -71.083611)}]\n"
     ]
    }
   ],
   "source": [
    "call_made_locations = antennaDataSet.get_trip_details(\"7110730864\", console_print=True, tabulate=True)\n",
    "cz.visualization.trip_visualization(call_made_locations)"
   ]
  },
  {
   "cell_type": "code",
   "execution_count": null,
   "metadata": {},
   "outputs": [],
   "source": []
  }
 ],
 "metadata": {
  "kernelspec": {
   "display_name": "Python 3",
   "language": "python",
   "name": "python3"
  },
  "language_info": {
   "codemirror_mode": {
    "name": "ipython",
    "version": 3
   },
   "file_extension": ".py",
   "mimetype": "text/x-python",
   "name": "python",
   "nbconvert_exporter": "python",
   "pygments_lexer": "ipython3",
   "version": "3.7.0"
  }
 },
 "nbformat": 4,
 "nbformat_minor": 4
}
