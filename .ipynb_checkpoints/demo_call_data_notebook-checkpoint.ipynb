{
 "cells": [
  {
   "cell_type": "code",
   "execution_count": 1,
   "metadata": {},
   "outputs": [],
   "source": [
    "import cellyzer as cz"
   ]
  },
  {
   "cell_type": "code",
   "execution_count": 2,
   "metadata": {},
   "outputs": [
    {
     "name": "stdout",
     "output_type": "stream",
     "text": [
      "[x]  Reading Message Data...\n",
      "[x]  Objects creation successful\n",
      "\n"
     ]
    }
   ],
   "source": [
    "msg_file_path = \"../dataset/my_test_data/messages.csv\"\n",
    "messageDataSet = cz.read_msg(msg_file_path)\n",
    "cz.utils.print_dataset(messageDataSet,True)"
   ]
  },
  {
   "cell_type": "code",
   "execution_count": null,
   "metadata": {},
   "outputs": [],
   "source": [
    "all_users = messageDataSet.get_all_users()\n",
    "print(\"All Users : %s \\n\" % all_users)"
   ]
  },
  {
   "cell_type": "code",
   "execution_count": null,
   "metadata": {},
   "outputs": [],
   "source": [
    "connected_users = messageDataSet.get_connected_users(\"7610039694\")\n",
    "print(\"Users connected to 7610039694 : %s \\n\" % connected_users)"
   ]
  },
  {
   "cell_type": "code",
   "execution_count": null,
   "metadata": {},
   "outputs": [],
   "source": [
    "user_record_list = messageDataSet.get_records(\"7610039694\")\n",
    "user_message_dataset = cz.MessageDataSet(user_record_list)\n",
    "cz.utils.print_dataset_dict(user_message_dataset,True)"
   ]
  },
  {
   "cell_type": "code",
   "execution_count": null,
   "metadata": {},
   "outputs": [],
   "source": []
  },
  {
   "cell_type": "code",
   "execution_count": null,
   "metadata": {},
   "outputs": [],
   "source": []
  }
 ],
 "metadata": {
  "kernelspec": {
   "display_name": "Python 3.7.0 64-bit",
   "language": "python",
   "name": "python37064bite28e14d73ba543c1ba8f158838c934c3"
  },
  "language_info": {
   "codemirror_mode": {
    "name": "ipython",
    "version": 3
   },
   "file_extension": ".py",
   "mimetype": "text/x-python",
   "name": "python",
   "nbconvert_exporter": "python",
   "pygments_lexer": "ipython3",
   "version": "3.7.0"
  }
 },
 "nbformat": 4,
 "nbformat_minor": 2
}
